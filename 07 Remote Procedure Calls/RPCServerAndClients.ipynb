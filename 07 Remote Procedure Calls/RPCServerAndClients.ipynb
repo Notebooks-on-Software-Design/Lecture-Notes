{
 "cells": [
  {
   "cell_type": "markdown",
   "metadata": {},
   "source": [
    "## Remote Procedure Calls - Server and Client Code Only\n",
    "### [Emil Sekerinski](http://www.cas.mcmaster.ca/~emil/), McMaster University, February 2022\n",
    "\n",
    "It is recommended that you run this notebook on a server, which can be a remote server or your own computer; you have to comment out and adapt the server code below correspondingly. Note that under Windows, the Windows Defender may aks your for permission."
   ]
  },
  {
   "cell_type": "markdown",
   "metadata": {},
   "source": [
    "### Python GCD Server"
   ]
  },
  {
   "cell_type": "code",
   "execution_count": null,
   "metadata": {},
   "outputs": [],
   "source": [
    "from xmlrpc.server import SimpleXMLRPCServer\n",
    "\n",
    "def gcd(x,y):\n",
    "    while x != y:\n",
    "        if x > y: x -= y\n",
    "        else: y -= x\n",
    "    return x\n",
    "\n",
    "#server = SimpleXMLRPCServer((\"your.server\", 8020)) # use this if running remotely\n",
    "server = SimpleXMLRPCServer((\"localhost\", 8020)) # use this if running locally\n",
    "server.register_function(gcd, \"gcd\")\n",
    "server.serve_forever()"
   ]
  },
  {
   "cell_type": "markdown",
   "metadata": {},
   "source": [
    "### Python GCD Client"
   ]
  },
  {
   "cell_type": "code",
   "execution_count": null,
   "metadata": {},
   "outputs": [],
   "source": [
    "import xmlrpc.client\n",
    "\n",
    "#server = xmlrpc.client.ServerProxy(\"http://your.server:8020\") # use this if running remotely\n",
    "server = xmlrpc.client.ServerProxy(\"http://localhost:8020\") # use this if running locally\n",
    "server.gcd(81,36)"
   ]
  },
  {
   "cell_type": "markdown",
   "metadata": {},
   "source": [
    "### Python Counter Server"
   ]
  },
  {
   "cell_type": "code",
   "execution_count": null,
   "metadata": {},
   "outputs": [],
   "source": [
    "from xmlrpc.server import SimpleXMLRPCServer\n",
    "\n",
    "class Counter:\n",
    "    def __init__(self):\n",
    "        self.a, self.e = 0, True\n",
    "        # e == even(a)\n",
    "    def inc(self):\n",
    "        self.a, self.e = self.a + 1, not self.e\n",
    "    def even(self):\n",
    "        return self.e\n",
    "\n",
    "# server = SimpleXMLRPCServer((\"your.server\", 8020), allow_none=True) # use this if running remotely\n",
    "server = SimpleXMLRPCServer((\"localhost\", 8020), allow_none=True) # use this if running locally\n",
    "server.register_instance(Counter()) # create Counter object, then register\n",
    "server.serve_forever()"
   ]
  },
  {
   "cell_type": "markdown",
   "metadata": {},
   "source": [
    "### Python Counter Client"
   ]
  },
  {
   "cell_type": "code",
   "execution_count": null,
   "metadata": {
    "scrolled": true
   },
   "outputs": [],
   "source": [
    "import xmlrpc.client\n",
    "\n",
    "# c = xmlrpc.client.ServerProxy(\"http://your.server:8020\") # use this if running remotely\n",
    "c = xmlrpc.client.ServerProxy(\"http://localhost:8020\") # use this if running locally\n",
    "c.inc(); c.even()"
   ]
  },
  {
   "cell_type": "code",
   "execution_count": null,
   "metadata": {},
   "outputs": [],
   "source": [
    "c.inc(); c.even()"
   ]
  },
  {
   "cell_type": "markdown",
   "metadata": {},
   "source": [
    "### Go GCD Server"
   ]
  },
  {
   "cell_type": "code",
   "execution_count": null,
   "metadata": {},
   "outputs": [],
   "source": [
    "%%writefile arithserver.go\n",
    "package main\n",
    "import (\"net\"; \"net/rpc\"; \"net/http\")\n",
    "\n",
    "type GcdArgs struct{X, Y int}\n",
    "type Arith int\n",
    "\n",
    "func (a *Arith) Gcd(args *GcdArgs, result *int) error {\n",
    "    // println(&t)\n",
    "    x, y := args.X, args.Y\n",
    "    for x != y {\n",
    "        if x > y {x -= y} else {y -= x}\n",
    "    }\n",
    "    *result = x\n",
    "    return nil\n",
    "}\n",
    "func main(){\n",
    "    rpc.Register(new(Arith))\n",
    "    rpc.HandleHTTP()\n",
    "    l, err := net.Listen(\"tcp\", \":8020\")\n",
    "    if err != nil {panic(err)}\n",
    "    http.Serve(l, nil)\n",
    "}"
   ]
  },
  {
   "cell_type": "code",
   "execution_count": null,
   "metadata": {},
   "outputs": [],
   "source": [
    "!go run arithserver.go"
   ]
  },
  {
   "cell_type": "code",
   "execution_count": null,
   "metadata": {},
   "outputs": [],
   "source": [
    "!netstat -np TCP | findstr \"8020\""
   ]
  },
  {
   "cell_type": "markdown",
   "metadata": {},
   "source": [
    "### Go GCD Client"
   ]
  },
  {
   "cell_type": "code",
   "execution_count": null,
   "metadata": {},
   "outputs": [],
   "source": [
    "%%writefile arithclient.go\n",
    "package main\n",
    "import (\"net/rpc\")\n",
    "\n",
    "type GcdArgs struct{X, Y int}\n",
    "\n",
    "func main() {\n",
    "    // client, err := rpc.DialHTTP(\"tcp\", \"your.server:8020\")\n",
    "    client, err := rpc.DialHTTP(\"tcp\", \"localhost:8020\")\n",
    "    if err != nil {panic(err)}\n",
    "    \n",
    "    // synchronous call\n",
    "    var result int\n",
    "    err = client.Call(\"Arith.Gcd\", &GcdArgs{81, 36}, &result)\n",
    "    if err != nil {panic(err)}\n",
    "    println(result)\n",
    "    \n",
    "    // asynchronous call\n",
    "    gcdCall := client.Go(\"Arith.Gcd\", &GcdArgs{10, 4}, &result, nil)\n",
    "    if gcdCall.Error != nil {panic(err)}\n",
    "    <-gcdCall.Done //\n",
    "    if gcdCall.Error != nil {panic(err)}\n",
    "    println(*gcdCall.Reply.(*int)) // type assertion\n",
    "}"
   ]
  },
  {
   "cell_type": "code",
   "execution_count": null,
   "metadata": {},
   "outputs": [],
   "source": [
    "!go run arithclient.go"
   ]
  },
  {
   "cell_type": "markdown",
   "metadata": {},
   "source": [
    "### Go Counter Server"
   ]
  },
  {
   "cell_type": "code",
   "execution_count": 3,
   "metadata": {},
   "outputs": [
    {
     "name": "stdout",
     "output_type": "stream",
     "text": [
      "Overwriting counterserver.go\n"
     ]
    }
   ],
   "source": [
    "%%writefile counterserver.go\n",
    "package main\n",
    "import (\"net\"; \"net/rpc\"; \"net/http\")\n",
    "\n",
    "type Counter struct{A int32; E bool} // E == even(A)\n",
    "\n",
    "type Void struct{}\n",
    "\n",
    "func (self *Counter) Inc(args *Void, result *Void) error {\n",
    "    self.A += 1; self.E = !self.E; return nil\n",
    "}\n",
    "func (self *Counter) Even(args *Void, result *bool) error {\n",
    "    *result = self.E; return nil\n",
    "}\n",
    "func main(){\n",
    "    c := new(Counter); c.A, c.E = 0, true\n",
    "    rpc.Register(c); rpc.HandleHTTP()\n",
    "    l, err := net.Listen(\"tcp\", \":8021\")\n",
    "    if err != nil {panic(err)}\n",
    "    http.Serve(l, nil)\n",
    "}"
   ]
  },
  {
   "cell_type": "code",
   "execution_count": null,
   "metadata": {},
   "outputs": [],
   "source": [
    "!go run counterserver.go"
   ]
  },
  {
   "cell_type": "markdown",
   "metadata": {},
   "source": [
    "### Go Counter Client"
   ]
  },
  {
   "cell_type": "code",
   "execution_count": null,
   "metadata": {},
   "outputs": [],
   "source": [
    "%%writefile counterclient.go\n",
    "package main\n",
    "import (\"net/rpc\")\n",
    "\n",
    "type Void struct{}\n",
    "\n",
    "func init_counter() *rpc.Client {\n",
    "    // client, err := rpc.DialHTTP(\"tcp\", \"your.server:8020\")\n",
    "    client, err := rpc.DialHTTP(\"tcp\", \"localhost:8020\")\n",
    "    if err != nil {panic(err)}\n",
    "    return client\n",
    "}\n",
    "func inc_counter(client *rpc.Client) {\n",
    "    var result Void\n",
    "    err := client.Call(\"Counter.Inc\", &Void{}, &result)\n",
    "    if err != nil {panic(err)}\n",
    "}\n",
    "func even_counter(client *rpc.Client) bool {\n",
    "    var even bool\n",
    "    err := client.Call(\"Counter.Even\", &Void{}, &even)\n",
    "    if err != nil {panic(err)}\n",
    "    return even\n",
    "}\n",
    "func main(){\n",
    "    c := init_counter()\n",
    "    inc_counter(c); println(even_counter(c))\n",
    "    inc_counter(c); println(even_counter(c))\n",
    "}"
   ]
  },
  {
   "cell_type": "code",
   "execution_count": null,
   "metadata": {},
   "outputs": [],
   "source": [
    "!go run counterclient.go"
   ]
  }
 ],
 "metadata": {
  "kernelspec": {
   "display_name": "Python 3 (ipykernel)",
   "language": "python",
   "name": "python3"
  },
  "language_info": {
   "codemirror_mode": {
    "name": "ipython",
    "version": 3
   },
   "file_extension": ".py",
   "mimetype": "text/x-python",
   "name": "python",
   "nbconvert_exporter": "python",
   "pygments_lexer": "ipython3",
   "version": "3.8.8"
  }
 },
 "nbformat": 4,
 "nbformat_minor": 2
}
