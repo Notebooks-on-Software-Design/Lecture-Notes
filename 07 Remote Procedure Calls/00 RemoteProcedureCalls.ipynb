{
 "cells": [
  {
   "cell_type": "markdown",
   "metadata": {
    "slideshow": {
     "slide_type": "slide"
    }
   },
   "source": [
    "---\n",
    "\n",
    "# Remote Procedure Calls\n",
    "### [Emil Sekerinski](http://www.cas.mcmaster.ca/~emil/), McMaster University, February 2022\n",
    "---\n",
    "\n",
    "<figure style=\"float:right;border-right:2em solid white\" >\n",
    "    <img style=\"width:90pt\" src=\"./img/by-nc-nd.png\"/>\n",
    "    <figcaption style=\"width:90pt;font-size:x-small\"><a href=\"https://creativecommons.org/licenses/by-nc-nd/4.0/\" style=\"font-size:x-small\">Licensed under Creative Commons CC BY-NC-ND</a>\n",
    "    </figcaption>\n",
    "</figure>"
   ]
  },
  {
   "cell_type": "markdown",
   "metadata": {
    "slideshow": {
     "slide_type": "subslide"
    }
   },
   "source": [
    "Message passing is well-suited for one-directional communication, as in producers-consumers, filters, etc. When bidirectional communication between clients and a server is needed, a channel for sending requests and a reply channel for each client needs to be introduced.\n",
    "\n",
    "The remote procedure call (RPC) abstracts from the channels in client-server communication. The server exports procedures that can be called as if they were local. When a client calls a remote procedure, the arguments of the call are sent to the server and the client is suspended until the results of the remote procedure are sent back to the client."
   ]
  },
  {
   "cell_type": "markdown",
   "metadata": {
    "slideshow": {
     "slide_type": "subslide"
    }
   },
   "source": [
    "Assume that the server runs following process:\n",
    "```\n",
    "var gcd.args: channel[integer × integer × channel[integer]]\n",
    "\n",
    "procedure gcd(x, y: integer) → (r: integer)\n",
    "    do x > y → x := x - y\n",
    "     ⫿  y > x → y := y - x\n",
    "    r := x\n",
    "\n",
    "process server\n",
    "    do gcd.args ? (x, y, reply) →\n",
    "            r ← gcd(x, y); reply ! r\n",
    "```\n",
    "The server and cliente communicate only by message passing; the do not share any memory. The remote procedure call\n",
    "```\n",
    "r ← server.gcd(a, b)\n",
    "```\n",
    "in a client is defined as\n",
    "```\n",
    "gcd.args ! (a, b, reply) ; reply ? r\n",
    "```\n",
    "where `reply` is of type `channel[integer]`. The call has same effect as `r ← gcd(a, b)` if procedure `gcd` were defined locally in the client."
   ]
  },
  {
   "cell_type": "markdown",
   "metadata": {
    "slideshow": {
     "slide_type": "subslide"
    }
   },
   "source": [
    "Servers can run multiple procedures; in principle, each procedure `pᵢ` has its own channel `pᵢ.args` over which it receives all the arguments and the reply channel. The server executes first an initialization, `S₀` below, and then in `do` loop accepts messages from any of the channels `pᵢ.args`, after which it executes the corresponding procedure:\n",
    "```\n",
    "var pᵢ.args: channel[argsᵢ × channel[resᵢ]]\n",
    "...\n",
    "procedure pᵢ(aᵢ: argsᵢ) → (rᵢ: resᵢ)\n",
    "    Sᵢ\n",
    "...\n",
    "process server\n",
    "    S₀\n",
    "    do pᵢ.args ? (aᵢ, reply) →  rᵢ ← pᵢ(aᵢ); reply ! rᵢ\n",
    "    ...\n",
    "```\n",
    "If `reply: channel[resᵢ]` is declared by a client, the remote call\n",
    "```\n",
    "rᵢ ← server.pᵢ(aᵢ)\n",
    "```\n",
    "in the client is defined as:\n",
    "```\n",
    "pᵢ.args ! (aᵢ, reply) ; reply ? rᵢ\n",
    "```\n",
    "It has same effect as `rᵢ ← pᵢ(aᵢ)` if procedure `pᵢ` were defined locally in the client. However, while the call has the same effect, the remove procedure call will cause a delay and it may fail if communication breaks down.\n",
    "\n",
    "Since only one of the procedure `pᵢ` executes at any time, the rules for correctness are identical to those for a monitor with initialization `S₀` and procedures `pᵢ`. That is, the correctness of the server is argued as if there were no message passing involved.\n",
    "\n",
    "With remote procedure calls, the channels are attached to server: the name of the server has to be known to the client. Different programming languages follow different conventions for naming."
   ]
  },
  {
   "cell_type": "markdown",
   "metadata": {
    "slideshow": {
     "slide_type": "slide"
    }
   },
   "source": [
    "### RPC in Python\n",
    "\n",
    "Following `gcd` server uses the standard [`xmlrpc` library](https://docs.python.org/3/library/xmlrpc.html). The library encodes the parameters and results as XML structures for transmission. The parameter to `SimpleXMLRPCServer` is a tuple with the Internet address and the port number; the port must be opened for communication.\n",
    "\n",
    "The call to `serve_forever` goes into an infinite loop: before running the cell below, open a copy of this notebook in a separate window with the Jupyter kernel running on the same or a different computer."
   ]
  },
  {
   "cell_type": "code",
   "execution_count": null,
   "metadata": {},
   "outputs": [],
   "source": [
    "from xmlrpc.server import SimpleXMLRPCServer\n",
    "\n",
    "def gcd(x,y):\n",
    "    while x != y:\n",
    "        if x > y: x -= y\n",
    "        else: y -= x\n",
    "    return x\n",
    "\n",
    "server = SimpleXMLRPCServer((\"your.server\", 8020)) # use this if running remotely\n",
    "#server = SimpleXMLRPCServer((\"localhost\", 8020)) # use this if running locally\n",
    "server.register_function(gcd, \"gcd\")\n",
    "server.serve_forever()"
   ]
  },
  {
   "cell_type": "markdown",
   "metadata": {
    "slideshow": {
     "slide_type": "subslide"
    }
   },
   "source": [
    "On the client, a _server proxy_ has to be created:"
   ]
  },
  {
   "cell_type": "code",
   "execution_count": null,
   "metadata": {},
   "outputs": [],
   "source": [
    "import xmlrpc.client\n",
    "\n",
    "#server = xmlrpc.client.ServerProxy(\"http://your.server:8020\") # use this if running remotely\n",
    "server = xmlrpc.client.ServerProxy(\"http://localhost:8020\") # use this if running locally\n",
    "server.gcd(81,36)"
   ]
  },
  {
   "cell_type": "markdown",
   "metadata": {},
   "source": [
    "_Question:_ Suppose there is sequence of calls to `server.gcd`. Do the client and server run in parallel?"
   ]
  },
  {
   "cell_type": "markdown",
   "metadata": {
    "slideshow": {
     "slide_type": "fragment"
    }
   },
   "source": [
    "With the `gcd` server, either the server or the client would execute, but not both; there could be periods when neither executes due to the time for the transmission."
   ]
  },
  {
   "cell_type": "markdown",
   "metadata": {
    "slideshow": {
     "slide_type": "subslide"
    }
   },
   "source": [
    "The `xmlrpc` library also allows objects to be remotely called. The parameter `allow_none=True` is needed when creating the server proxy to allow parameterless calls. (Reminder: open a new copy of the notebook before running next cell)"
   ]
  },
  {
   "cell_type": "code",
   "execution_count": null,
   "metadata": {},
   "outputs": [],
   "source": [
    "from xmlrpc.server import SimpleXMLRPCServer\n",
    "\n",
    "class Counter:\n",
    "    def __init__(self):\n",
    "        self.a, self.e = 0, True\n",
    "        # e == even(a)\n",
    "    def inc(self):\n",
    "        self.a, self.e = self.a + 1, not self.e\n",
    "    def even(self):\n",
    "        return self.e\n",
    "\n",
    "# server = SimpleXMLRPCServer((\"your.server\", 8020), allow_none=True) # use this if running remotely\n",
    "server = SimpleXMLRPCServer((\"localhost\", 8020), allow_none=True) # use this if running locally\n",
    "server.register_instance(Counter()) # create Counter object, then register\n",
    "server.serve_forever()"
   ]
  },
  {
   "cell_type": "markdown",
   "metadata": {
    "slideshow": {
     "slide_type": "subslide"
    }
   },
   "source": [
    "The corresponding client is:"
   ]
  },
  {
   "cell_type": "code",
   "execution_count": null,
   "metadata": {},
   "outputs": [],
   "source": [
    "import xmlrpc.client\n",
    "\n",
    "# c = xmlrpc.client.ServerProxy(\"http://your.server:8020\") # use this if running remotely\n",
    "c = xmlrpc.client.ServerProxy(\"http://localhost:8020\") # use this if running locally\n",
    "c.inc(); c.even()"
   ]
  },
  {
   "cell_type": "markdown",
   "metadata": {},
   "source": [
    "Trying to run a server on a port that is already in use results in an \"address in use\" error. To check which ports are currently used, run:"
   ]
  },
  {
   "cell_type": "code",
   "execution_count": null,
   "metadata": {},
   "outputs": [],
   "source": [
    "!netstat -np TCP"
   ]
  },
  {
   "cell_type": "markdown",
   "metadata": {},
   "source": [
    "To check the status of a specific port, run on Unix-based systems:"
   ]
  },
  {
   "cell_type": "code",
   "execution_count": null,
   "metadata": {
    "scrolled": true
   },
   "outputs": [],
   "source": [
    "!netstat -np TCP | grep 8020"
   ]
  },
  {
   "cell_type": "markdown",
   "metadata": {},
   "source": [
    "On Windows, use `findstr` instead of `grep`:"
   ]
  },
  {
   "cell_type": "code",
   "execution_count": null,
   "metadata": {},
   "outputs": [],
   "source": [
    "!netstat -np TCP | findstr \"8020\""
   ]
  },
  {
   "cell_type": "markdown",
   "metadata": {},
   "source": [
    "Alternatively, instead of the default `cmd` shell on Windows, you can use `powershell` with `Select-String`: "
   ]
  },
  {
   "cell_type": "code",
   "execution_count": null,
   "metadata": {},
   "outputs": [],
   "source": [
    "import os; os.environ['comspec']='powershell.exe'; os.getenv('comspec')"
   ]
  },
  {
   "cell_type": "code",
   "execution_count": null,
   "metadata": {
    "scrolled": true
   },
   "outputs": [],
   "source": [
    "!netstat -np TCP | Select-String -Pattern 8020"
   ]
  },
  {
   "cell_type": "markdown",
   "metadata": {
    "slideshow": {
     "slide_type": "subslide"
    }
   },
   "source": [
    "When running a Python RPC server from a notebook, it will only run as long as the notebook runs. To keep a server running after logging out, save the server to a file, say `Counter.py`, and run from the Unix command line (not notebooks):\n",
    "```\n",
    "nohup python3 Counter.py &\n",
    "```\n",
    "The `&` starts a new process that runs in the background and `nohup` prevents that process from being terminated when logging out. To check the log produced by the server process, run:\n",
    "```\n",
    "cat nohup.out\n",
    "```"
   ]
  },
  {
   "cell_type": "markdown",
   "metadata": {},
   "source": [
    "While the RPC server corresponds to an active monitor, the server is single-threaded, i.e. only one procedure or method at a time is executed. Python supports also multi-threaded RPC servers by creating a new server class that \"mixes in\" [ThreadingMixIn](https://docs.python.org/3/library/socketserver.html#socketserver.ThreadingMixIn)."
   ]
  },
  {
   "cell_type": "markdown",
   "metadata": {
    "slideshow": {
     "slide_type": "slide"
    }
   },
   "source": [
    "### Classes in Go"
   ]
  },
  {
   "cell_type": "markdown",
   "metadata": {
    "slideshow": {
     "slide_type": "-"
    }
   },
   "source": [
    "In Go, methods of a class do not have to be declared together with the fields. Rather, the fields are declared as a `struct` and methods separately, with the parameter before the method name being the receiver of the call. This allows methods to be added as needed without introducing new classes by inheritance."
   ]
  },
  {
   "cell_type": "code",
   "execution_count": null,
   "metadata": {},
   "outputs": [],
   "source": [
    "%%writefile point.go\n",
    "package main\n",
    "import \"math\"\n",
    "\n",
    "type Point struct{X, Y float64}\n",
    "\n",
    "func (p *Point) Distance() float64 {\n",
    "    return math.Sqrt(p.X * p.X + p.Y * p.Y)\n",
    "}\n",
    "func (p *Point) Scale(factor float64) {\n",
    "    p.X *= factor; p.Y *= factor\n",
    "}\n",
    "func main(){\n",
    "    q := new(Point); q.X, q.Y = 3, 4\n",
    "    l := q.Distance(); println(l)\n",
    "    q.Scale(2); println(q.X, q.Y)\n",
    "}"
   ]
  },
  {
   "cell_type": "code",
   "execution_count": null,
   "metadata": {},
   "outputs": [],
   "source": [
    "!go run point.go"
   ]
  },
  {
   "cell_type": "markdown",
   "metadata": {
    "slideshow": {
     "slide_type": "subslide"
    }
   },
   "source": [
    "A class invariant becomes the invariant of a `struct`:"
   ]
  },
  {
   "cell_type": "code",
   "execution_count": null,
   "metadata": {},
   "outputs": [],
   "source": [
    "%%writefile counter.go\n",
    "package main\n",
    "\n",
    "type Counter struct{A int32; E bool} // E == even(A)\n",
    "\n",
    "func (self *Counter) Inc() {\n",
    "    self.A += 1; self.E = !self.E\n",
    "}\n",
    "func (self *Counter) Even() bool {\n",
    "    return self.E\n",
    "}\n",
    "func main(){\n",
    "    c := new(Counter); c.A, c.E = 0, true\n",
    "    c.Inc(); println(c.Even())\n",
    "    c.Inc(); println(c.Even())\n",
    "}"
   ]
  },
  {
   "cell_type": "code",
   "execution_count": null,
   "metadata": {},
   "outputs": [],
   "source": [
    "!go run counter.go"
   ]
  },
  {
   "cell_type": "markdown",
   "metadata": {
    "slideshow": {
     "slide_type": "slide"
    }
   },
   "source": [
    "### RPC in Go\n",
    "\n",
    "The [net/rpc](https://golang.org/pkg/net/rpc/) package allows remote calls to methods of the form\n",
    "```Go\n",
    "func (t *T) MethodName(args ArgsType, reply *ReplyType) error\n",
    "```\n",
    "Type `error` is predeclared as\n",
    "```Go\n",
    "type error interface {\n",
    "\tError() string\n",
    "}\n",
    "```\n",
    "By convention, returning `nil` means that no error occurred."
   ]
  },
  {
   "cell_type": "markdown",
   "metadata": {
    "slideshow": {
     "slide_type": "subslide"
    }
   },
   "source": [
    "For a GCD server, the function for computing the GCD has to be written as a method. As methods can be attached to (almost) any type, we define a new type `Arith` to be `int` and attach method `Gcd` to `Arith`. The main program first creates an `Arith` object before calling method `Gcd`:"
   ]
  },
  {
   "cell_type": "code",
   "execution_count": null,
   "metadata": {},
   "outputs": [],
   "source": [
    "%%writefile gcdmethod.go\n",
    "package main\n",
    "\n",
    "type GcdArgs struct{X, Y int}\n",
    "type Arith int\n",
    "\n",
    "func (a *Arith) Gcd(args *GcdArgs, result *int) error {\n",
    "    x, y := args.X, args.Y\n",
    "    for x != y {\n",
    "        if x > y {x -= y} else {y -= x}\n",
    "    }\n",
    "    *result = x\n",
    "    return nil\n",
    "}\n",
    "func main() {\n",
    "    a := new(Arith); println(a); println(*a)\n",
    "    var r int\n",
    "    a.Gcd(&GcdArgs{81, 36}, &r)\n",
    "    println(r)\n",
    "    b := new(Arith); println(b); println(*b)\n",
    "}"
   ]
  },
  {
   "cell_type": "code",
   "execution_count": null,
   "metadata": {},
   "outputs": [],
   "source": [
    "!go run gcdmethod.go"
   ]
  },
  {
   "cell_type": "markdown",
   "metadata": {},
   "source": [
    "_Question:_ What is the output of the `println` statements?"
   ]
  },
  {
   "cell_type": "markdown",
   "metadata": {
    "slideshow": {
     "slide_type": "subslide"
    }
   },
   "source": [
    "The server registers a new `Arith` object, specifies that HTTP is used for encoding call arguments and results, and then listens to incoming calls. The call to `Serve` goes into an infinite loop: before running the cell below, open a copy of this notebook in a separate window with the Jupyter kernel running on the same or a different computer."
   ]
  },
  {
   "cell_type": "code",
   "execution_count": null,
   "metadata": {},
   "outputs": [],
   "source": [
    "%%writefile arithserver.go\n",
    "package main\n",
    "import (\"net\"; \"net/rpc\"; \"net/http\")\n",
    "\n",
    "type GcdArgs struct{X, Y int}\n",
    "type Arith int\n",
    "\n",
    "func (a *Arith) Gcd(args *GcdArgs, result *int) error {\n",
    "    x, y := args.X, args.Y\n",
    "    for x != y {\n",
    "        if x > y {x -= y} else {y -= x}\n",
    "    }\n",
    "    *result = x\n",
    "    return nil\n",
    "}\n",
    "func main(){\n",
    "    rpc.Register(new(Arith)); rpc.HandleHTTP()\n",
    "    l, err := net.Listen(\"tcp\", \":8020\")\n",
    "    if err != nil {panic(err)}\n",
    "    http.Serve(l, nil)\n",
    "}"
   ]
  },
  {
   "cell_type": "code",
   "execution_count": null,
   "metadata": {},
   "outputs": [],
   "source": [
    "!go run arithserver.go"
   ]
  },
  {
   "cell_type": "markdown",
   "metadata": {
    "slideshow": {
     "slide_type": "subslide"
    }
   },
   "source": [
    "On the client, first a new object of type `Client` has to be created. That object has a method `Call` that requires the name of the remote RPC object and method to be supplied; the parameters and result values have to be specified as in the server.\n",
    "\n",
    "Alternatively to calling the remote procedure, it Go allows first send a message to the server with the arguments and the type of the expected result by calling method `Go` of the client object, which also returns a `Call` object. Then the client can wait for the result of the call by receiving from channel `Done` of the call object. In that case, the result of the call is in the field `Reply` of the call object."
   ]
  },
  {
   "cell_type": "code",
   "execution_count": null,
   "metadata": {},
   "outputs": [],
   "source": [
    "%%writefile arithclient.go\n",
    "package main\n",
    "import (\"net/rpc\")\n",
    "\n",
    "type GcdArgs struct{X, Y int}\n",
    "\n",
    "func main() {\n",
    "    // client, err := rpc.DialHTTP(\"tcp\", \"your.server:8020\")\n",
    "    client, err := rpc.DialHTTP(\"tcp\", \"localhost:8020\")\n",
    "    if err != nil {panic(err)}\n",
    "    \n",
    "    // synchronous call\n",
    "    var result int\n",
    "    err = client.Call(\"Arith.Gcd\", &GcdArgs{81, 36}, &result)\n",
    "    if err != nil {panic(err)}\n",
    "    println(result)\n",
    "    \n",
    "    // asynchronous call\n",
    "    gcdCall := client.Go(\"Arith.Gcd\", &GcdArgs{10, 4}, &result, nil)\n",
    "    if gcdCall.Error != nil {panic(err)}\n",
    "    <-gcdCall.Done //\n",
    "    if gcdCall.Error != nil {panic(err)}\n",
    "    println(*gcdCall.Reply.(*int)) // type assertion\n",
    "}"
   ]
  },
  {
   "cell_type": "code",
   "execution_count": null,
   "metadata": {},
   "outputs": [],
   "source": [
    "!go run arithclient.go"
   ]
  },
  {
   "cell_type": "markdown",
   "metadata": {
    "slideshow": {
     "slide_type": "subslide"
    }
   },
   "source": [
    "A server for a counter works similarly: a counter object is first created, its fields are initialized, and then the counter object is registered for RPC calls. Since RPC procedures have to have be of previously mentioned form with parameters and results, the empty type `struct{}` (with single value `struct{}{}`) is used where needed: "
   ]
  },
  {
   "cell_type": "code",
   "execution_count": null,
   "metadata": {},
   "outputs": [],
   "source": [
    "%%writefile counterserver.go\n",
    "package main\n",
    "import (\"net\"; \"net/rpc\"; \"net/http\")\n",
    "\n",
    "type Counter struct{A int32; E bool} // E == even(A)\n",
    "\n",
    "type Void struct{}\n",
    "\n",
    "func (self *Counter) Inc(args *Void, result *Void) error {\n",
    "    self.A += 1; self.E = !self.E; return nil\n",
    "}\n",
    "func (self *Counter) Even(args *Void, result *bool) error {\n",
    "    *result = self.E; return nil\n",
    "}\n",
    "func main(){\n",
    "    c := new(Counter); c.A, c.E = 0, true\n",
    "    rpc.Register(c); rpc.HandleHTTP()\n",
    "    l, err := net.Listen(\"tcp\", \":8020\")\n",
    "    if err != nil {panic(err)}\n",
    "    http.Serve(l, nil)\n",
    "}"
   ]
  },
  {
   "cell_type": "code",
   "execution_count": null,
   "metadata": {},
   "outputs": [],
   "source": [
    "!go run counterserver.go"
   ]
  },
  {
   "cell_type": "markdown",
   "metadata": {
    "slideshow": {
     "slide_type": "subslide"
    }
   },
   "source": [
    "In the client code below, auxiliary procedures `inc_counter` and `even_counter` are defined that hide the details of passing the arguments and results:"
   ]
  },
  {
   "cell_type": "code",
   "execution_count": null,
   "metadata": {},
   "outputs": [],
   "source": [
    "%%writefile counterclient.go\n",
    "package main\n",
    "import (\"net/rpc\")\n",
    "\n",
    "type Void struct{}\n",
    "\n",
    "func init_counter() *rpc.Client {\n",
    "    // client, err := rpc.DialHTTP(\"tcp\", \"your.server:8020\")\n",
    "    client, err := rpc.DialHTTP(\"tcp\", \"localhost:8021\")\n",
    "    if err != nil {panic(err)}\n",
    "    return client\n",
    "}\n",
    "func inc_counter(client *rpc.Client) {\n",
    "    var result Void\n",
    "    err := client.Call(\"Counter.Inc\", &Void{}, &result)\n",
    "    if err != nil {panic(err)}\n",
    "}\n",
    "func even_counter(client *rpc.Client) bool {\n",
    "    var even bool\n",
    "    err := client.Call(\"Counter.Even\", &Void{}, &even)\n",
    "    if err != nil {panic(err)}\n",
    "    return even\n",
    "}\n",
    "func main(){\n",
    "    c := init_counter()\n",
    "    inc_counter(c); println(even_counter(c))\n",
    "    inc_counter(c); println(even_counter(c))\n",
    "}"
   ]
  },
  {
   "cell_type": "code",
   "execution_count": null,
   "metadata": {},
   "outputs": [],
   "source": [
    "!go run counterclient.go"
   ]
  }
 ],
 "metadata": {
  "kernelspec": {
   "display_name": "Python 3 (ipykernel)",
   "language": "python",
   "name": "python3"
  },
  "language_info": {
   "codemirror_mode": {
    "name": "ipython",
    "version": 3
   },
   "file_extension": ".py",
   "mimetype": "text/x-python",
   "name": "python",
   "nbconvert_exporter": "python",
   "pygments_lexer": "ipython3",
   "version": "3.8.8"
  },
  "livereveal": {
   "height": "900",
   "history": true,
   "margin": "0.01",
   "progress": true,
   "scroll": true,
   "start_slideshow_at": "selected",
   "theme": "night",
   "width": "1440"
  }
 },
 "nbformat": 4,
 "nbformat_minor": 2
}
