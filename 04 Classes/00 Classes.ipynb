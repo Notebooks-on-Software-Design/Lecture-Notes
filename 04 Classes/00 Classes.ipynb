{
 "cells": [
  {
   "cell_type": "markdown",
   "metadata": {
    "slideshow": {
     "slide_type": "slide"
    }
   },
   "source": [
    "---\n",
    "\n",
    "# Classes\n",
    "### [Emil Sekerinski](http://www.cas.mcmaster.ca/~emil/), McMaster University, January 2022\n",
    "\n",
    "---\n",
    "\n",
    "<figure style=\"float:right;border-right:2em solid white\" >\n",
    "    <img style=\"width:90pt\" src=\"./img/by-nc-nd.png\"/>\n",
    "    <figcaption style=\"width:90pt;font-size:x-small\"><a href=\"https://creativecommons.org/licenses/by-nc-nd/4.0/\" style=\"font-size:x-small\">Licensed under Creative Commons CC BY-NC-ND</a>\n",
    "    </figcaption>\n",
    "</figure>"
   ]
  },
  {
   "cell_type": "markdown",
   "metadata": {
    "slideshow": {
     "slide_type": "slide"
    }
   },
   "source": [
    "## On Objects and Classes\n",
    "\n",
    "Suppose the task is to store and manipulate geometric shapes, like those used in drawing editors. A point may be represented by a pair of integers, the x and y-coordinate, and a rectangle by the x and y-coordinates together with the width and height, which is expressed by the types `Point` and `Rectangle`:\n",
    "```\n",
    "Point = integer × integer\n",
    "Rectangle = integer × integer × integer × integer\n",
    "```\n",
    "The operation of moving geometric shapes is then expressed by two functions, both called `move` but distinguished by their parameter types:\n",
    "```\n",
    "move: Point × integer × integer → Point\n",
    "move((x, y), dx, dy) = (x + dx, y + dy)\n",
    "\n",
    "move: Rectangle × integer × integer → Rectangle\n",
    "move((x, y, w, h), dx, dy) = (x + dx, y + dy, w, h)\n",
    "```"
   ]
  },
  {
   "cell_type": "markdown",
   "metadata": {
    "slideshow": {
     "slide_type": "subslide"
    }
   },
   "source": [
    "_Classes_ group data together with operations on that data. A class declaration consists of number of _fields_ declaring the data, an *initialization*, and a number of _methods_ defining the operations. Class `Point` suggests to have `x` and `y` as fields and `move` as a method:\n",
    "```algorithm\n",
    "class Point\n",
    "    var x, y: integer\n",
    "    initialization(x0, y0: integer)\n",
    "        x, y := x0, y0\n",
    "    method move(dx, dy: integer)\n",
    "        x, y := x + dx, y + dy\n",
    "```"
   ]
  },
  {
   "cell_type": "markdown",
   "metadata": {
    "slideshow": {
     "slide_type": "subslide"
    }
   },
   "source": [
    "As objects are created from a class, they are provided with an _identity_ (*name*, *reference*). Declaring variable `p` of class `Point` allows it to hold the identity of a `Point` object; classes are used as if they are types:\n",
    "```\n",
    "var p: Point\n",
    "```\n",
    "Above declaration implies that `p` will always refer to a `Point` object, but that object does not exist yet upon declaration. For this, an object has to be *created*, which executes the initialization with the supplied parameters:\n",
    "```\n",
    "p ← Point(3, 5)\n",
    "```\n",
    "The fields of an object are accessed and the methods are called using the *dot notation*. Continuing above, we have:\n",
    "```algorithm\n",
    "{p.x = 3 ∧ p.y = 5}\n",
    "p.move(–1, 1)\n",
    "{p.x = 2 ∧ p.y = 6}\n",
    "```"
   ]
  },
  {
   "cell_type": "markdown",
   "metadata": {
    "slideshow": {
     "slide_type": "slide"
    }
   },
   "source": [
    "Methods, like procedures, can have result parameters: \n",
    "```algorithm\n",
    "class Point\n",
    "    ...\n",
    "    method distance(other: Point) → (d: integer)\n",
    "        d := abs(other.x – x) + abs(other.y – y)\n",
    "```\n",
    "Continuing from the state`p.x = 2 ∧ p.y = 6` and assuming `a: integer, q: Point`, we have:\n",
    "```algorithm\n",
    "q ← Point(0, 7)\n",
    "a ← p.distance(q)\n",
    "{a = 3}\n",
    "```\n",
    "Methods calls are always of the form `x.m(E)` or `y ← x.m(E)`; the object `x` is referred to as the *receiver* of the call."
   ]
  },
  {
   "cell_type": "markdown",
   "metadata": {
    "slideshow": {
     "slide_type": "subslide"
    }
   },
   "source": [
    "By convention, in classes `self` refers to the receiver and `self.a` refers to field `a` of the receiver. The fact that fields refer to the receiver object can be made explicit by prefixing them with `self`:\n",
    "\n",
    "```algorithm\n",
    "class Point\n",
    "    var x, y: integer\n",
    "    initialization(x0, y0: integer)\n",
    "        self.x, self.y := x0, y0\n",
    "    method move(dx, dy: integer)\n",
    "        self.x, self.y := self.x + dx, self.y + dy\n",
    "    method distance(other: Point) → (d: integer)\n",
    "        d := abs(other.x – self.x) + abs(other.y – self.y)\n",
    "        {d ≥ 0}\n",
    "```\n",
    "\n",
    "Thus the call `p.move(3, 4)` assigns `p`, `3`, `4` to `self`, `dx`, `dy` before executing the method body. We leave out the prefix `self`, to keep the syntax of field access like that of parameters.\n",
    "\n",
    "_Question:_ Why is `d ≥ 0` a postcondition of method `distance`?"
   ]
  },
  {
   "cell_type": "markdown",
   "metadata": {
    "slideshow": {
     "slide_type": "slide"
    }
   },
   "source": [
    "## Class Invariants \n",
    "Consider a class for rectangles with coordinates, width, and height such that width and height are \"always\" positive. This is expressed by a *class invariant*, written as an annotation in the class:\n",
    "```algorithm\n",
    "class Rectangle\n",
    "    var x, y, w, h: integer\n",
    "    {w > 0 ∧ h > 0}\n",
    "    initialization(x0, y0, w0, h0: integer)\n",
    "        {w0 > 0 ∧ h0 > 0}\n",
    "        x, y, w, h := x0, y0, w0, h0\n",
    "    method move(dx, dy: integer)\n",
    "        x, y := x + dx, y + dy\n",
    "    method mirror()\n",
    "        w, h := h, w\n",
    "    method area() → (a: integer)\n",
    "        a := w × h\n",
    "        {a > 0}\n",
    "```\n",
    "\n",
    "_Question:_ Assuming a `Rectangle` object is created and its methods are called. How can you argue that `area` always returns a positive result?"
   ]
  },
  {
   "cell_type": "markdown",
   "metadata": {
    "slideshow": {
     "slide_type": "subslide"
    }
   },
   "source": [
    "<div style=\"margin: 0 auto\" class=\"code-img-pair-container\">\n",
    "  <div style=\"width: 60%\">\n",
    "\n",
    "The class invariant is like a contract among the methods:\n",
    "- each method can assume that the class invariant holds at the entry; in turn, it has to guarantee that the invariant holds at the exit: both `move` and `mirror` guarantee `w > 0 ∧ h > 0` at exit as they do not change `w`, `h`; method `mirror` guarantees `w > 0 ∧ h > 0` finally provided `w > 0 ∧ h > 0` holds initially as it exchanges `w`, `h`.\n",
    "- the initialization has to guarantee the class invariant to hold at exit: `w > 0 ∧ h > 0` holds at exit as `w` and `h` are assigned values for which this is assumed.\n",
    "  </div>\n",
    "  <div style = \"border-left:50px solid white\">\n",
    "    <img src=\"img/ClassInvariant.svg\"/>\n",
    "  </div>\n",
    "</div>\n",
    "<span></span>\n",
    "\n",
    "This requires that the fields cannot be changed from the outside, i.e. the fields are *read-only*: they can still be read, as in:\n",
    "```algorithm\n",
    "procedure equal(r, s: Rectangle) → (r: boolean)\n",
    "    r := (r.x, r.y, r.w, r.h) = (s.x, s.y, s.w, s.h)\n",
    "```"
   ]
  },
  {
   "cell_type": "markdown",
   "metadata": {
    "slideshow": {
     "slide_type": "subslide"
    }
   },
   "source": [
    "**Rule for correctness of classes:**\n",
    "Suppose class `C` has fields `f`, invariant `I` over `f`, and an initalization and methods `mᵢ`, each with pre- and postconditions,\n",
    "```algorithm\n",
    "class C\n",
    "    var f\n",
    "    {I}\n",
    "    initialization(v₀)\n",
    "        {P₀}  S₀  {Q₀}\n",
    "    method mᵢ(vᵢ) → (rᵢ)\n",
    "        {Pᵢ}  Sᵢ  {Qᵢ}\n",
    "```\n",
    "\n",
    "where\n",
    "- `P₀` is over `v₀`\n",
    "- `Q₀` is over `v₀`, `f`\n",
    "- `Pᵢ` are over `vᵢ`, `f`\n",
    "- `Qᵢ` are over `vᵢ`, `rᵢ`, `f`\n",
    "\n",
    "Class `C` is correct if\n",
    "- the initialization _establishes_ `I`,\n",
    "\n",
    "```algorithm\n",
    "{P₀}  S₀  {I ∧ Q₀}\n",
    "```\n",
    "\n",
    "- every method `mᵢ` _preserves_ `I`:\n",
    "\n",
    "```algorithm\n",
    "{I ∧ Pᵢ}  Sᵢ  {I ∧ Qᵢ}\n",
    "```\n",
    "\n",
    "Here, `I` is an *object invariant* as it ranges only over the fields of a single object."
   ]
  },
  {
   "cell_type": "markdown",
   "metadata": {
    "slideshow": {
     "slide_type": "subslide"
    }
   },
   "source": [
    "Let `RI ≡ w > 0 ∧ h > 0` be the object invariant of `Rectangle`. Class `Rectangle` is correct if\n",
    "- the initialization establishes the invariant,\n",
    "\n",
    "```algorithm\n",
    "{w0 > 0 ∧ h0 > 0}  x, y, w, h := x0, y0, w0, h0  {RI}\n",
    "```\n",
    "\n",
    "- methods `move`, `mirror`, `area` preserve the invariant:\n",
    "\n",
    "```algorithm\n",
    "{RI}  x, y := x + dx, y + dy  {RI}\n",
    "```\n",
    "\n",
    "```algorithm\n",
    "{RI}  w, h := h, w  {RI}\n",
    "```\n",
    "\n",
    "```algorithm\n",
    "{RI}  a := w × h  {RI ∧ a > 0}\n",
    "```"
   ]
  },
  {
   "cell_type": "markdown",
   "metadata": {
    "slideshow": {
     "slide_type": "skip"
    }
   },
   "source": [
    "_Exercise:_ Prove these four conditions!"
   ]
  },
  {
   "cell_type": "markdown",
   "metadata": {
    "slideshow": {
     "slide_type": "subslide"
    }
   },
   "source": [
    "Java has an _assert statement_ that allows run-time checks to be included in programs:\n",
    "```Java\n",
    "assert B;\n",
    "```\n",
    "These can be turned on with the `-ea` flag when running a program, e.g. `java -ea classfile`; by default, assertion checking is turned off.  Assertions can be split for readability,\n",
    "```Java\n",
    "assert B1 && B2;\n",
    "```\n",
    "is the same as\n",
    "```Java\n",
    "assert B1; assert B2;\n",
    "```\n",
    "Annotations and assertions are different:\n",
    "- Annotations express properties of programs and allow these to be statically verified; including annotations does not change the behaviour of programs.\n",
    "- Assertions are statements in programs that are executed; including them changes the behaviour of programs.\n",
    "\n",
    "It is good programming practice to have all or some annotations checked through assertions."
   ]
  },
  {
   "cell_type": "code",
   "execution_count": null,
   "metadata": {
    "slideshow": {
     "slide_type": "subslide"
    }
   },
   "outputs": [],
   "source": [
    "%%writefile Rectangle.java\n",
    "class Rectangle {\n",
    "    private int x, y, w, h;\n",
    "    boolean invariantOK() {\n",
    "        return w > 0 && h > 0;\n",
    "    }\n",
    "    Rectangle(int x0, int y0, int w0, int h0) {\n",
    "        assert w0 > 0 && h0 > 0;\n",
    "        x = x0; y = y0; w = w0; h = h0;\n",
    "        assert invariantOK();\n",
    "    }\n",
    "    void move(int dx, int dy) {\n",
    "        x += dx; y += dy;\n",
    "        assert invariantOK();\n",
    "    }\n",
    "    void mirror() {\n",
    "        int t = w; w = h; h = t;\n",
    "        assert invariantOK();\n",
    "    }\n",
    "    int area() {\n",
    "        int a = w * h;\n",
    "        assert invariantOK();\n",
    "        assert a > 0;\n",
    "        return a;\n",
    "    }\n",
    "}"
   ]
  },
  {
   "cell_type": "code",
   "execution_count": null,
   "metadata": {},
   "outputs": [],
   "source": [
    "!javac Rectangle.java"
   ]
  },
  {
   "cell_type": "markdown",
   "metadata": {
    "slideshow": {
     "slide_type": "-"
    }
   },
   "source": [
    "_Question:_ Is it necessary to check the invariant at the beginning of each method?"
   ]
  },
  {
   "cell_type": "markdown",
   "metadata": {
    "slideshow": {
     "slide_type": "fragment"
    }
   },
   "source": [
    "In `Rectangle`, all fields are private: if the invariant holds after the initialization and after each method, it is guaranteed to hold before each method as well."
   ]
  },
  {
   "cell_type": "markdown",
   "metadata": {
    "slideshow": {
     "slide_type": "subslide"
    }
   },
   "source": [
    "_Question:_ What is the class invariant of `IntStack`? What are the required preconditions of the initialization and the methods? Add assertions for all relevant annotations!"
   ]
  },
  {
   "cell_type": "code",
   "execution_count": null,
   "metadata": {},
   "outputs": [],
   "source": [
    "%%writefile IntStack.java\n",
    "class IntStack {\n",
    "    int n = 0; // 0 <= n <= a.length\n",
    "    int[] a; // a != null\n",
    "    IntStack(int capacity) {\n",
    "        a = new int[capacity];\n",
    "    }\n",
    "    void put(int x) {\n",
    "        // n < a.length\n",
    "        a[n] = x; n += 1;\n",
    "    }\n",
    "    int get() {\n",
    "        // n > 0\n",
    "        n -= 1; return a[n]; \n",
    "    }\n",
    "    int size() {\n",
    "        return n;\n",
    "    }\n",
    "}"
   ]
  },
  {
   "cell_type": "code",
   "execution_count": null,
   "metadata": {},
   "outputs": [],
   "source": [
    "!javac IntStack.java"
   ]
  },
  {
   "cell_type": "markdown",
   "metadata": {
    "slideshow": {
     "slide_type": "fragment"
    }
   },
   "source": [
    "_Question:_ To ensure that the invariant is not invalidated, is it necessary to check the parameter of the initialization? Is it necessary to add assertions that the stack does not overflow or underflow? Is it recommendable to insert `if` statements when the stack would overflow or underflow?"
   ]
  },
  {
   "cell_type": "markdown",
   "metadata": {
    "slideshow": {
     "slide_type": "subslide"
    }
   },
   "source": [
    "In a _robust_ programming style, class invariants should always be maintained, even in the presence of exceptions.  \n",
    "- In the initialization, if `capacity` is negative, `new` will raise an exception and `a` will not be assigned an array, i.e., it will remain `null`, to which it is implicitly initialized. Thus an object with an invalid invariant is created. A solution would be to initialize `a` to an array of length `0` before raising an assertion exception or to weaken the invariant to allow `a` to be `null`.\n",
    "- If the stack is full and `put` is called, the assignment to `a[n]` will raise an exception, but the invariant will still be maintained.\n",
    "- If the stack is empty and `get` is called, the assignment `n -= 1` will invalidate the invariant before `a[n]` raises an exception. A solution would be to rewrite `get` as\n",
    "```Java\n",
    "    int get() {\n",
    "        int r = a[n]; n -= 1; return r;\n",
    "    }\n",
    "```\n",
    "- Adding an `if` statement, as in\n",
    "```Java\n",
    "    void put(int x) {\n",
    "        if (n < a.length) {a[n] = x; n += 1;}\n",
    "    }\n",
    "```\n",
    "to avoid an exception is *not recommended*, as the caller will not be notified that the call was not successful."
   ]
  },
  {
   "cell_type": "markdown",
   "metadata": {
    "slideshow": {
     "slide_type": "slide"
    }
   },
   "source": [
    "## The `nil` Value\n",
    "\n",
    "If a variable may not refer to an object or some other value, it can be declared as _optional_ and take the additional value `nil`\n",
    "```\n",
    "var p: opt Point\n",
    "p := nil\n",
    "```\n",
    "Optional types can be expressed by disjoint union types, i.e. `opt T = T | nil`. Optional field types allow recursive class declarations to be expressed, where one field is of the optional class itself (there is no recursion among methods involved):\n",
    "\n",
    "```\n",
    "class Polygon\n",
    "    var x, y: integer\n",
    "    var next: opt Polygon\n",
    "    initialization(x0, y0: integer)\n",
    "        x, y, next := x0, y0, nil\n",
    "    method add(x, y: integer)\n",
    "        next ← Polygon(x, y)\n",
    "```"
   ]
  },
  {
   "cell_type": "markdown",
   "metadata": {
    "slideshow": {
     "slide_type": "subslide"
    }
   },
   "source": [
    "For example, C# uses the shorthand `int? x` for a [nullable](https://docs.microsoft.com/en-us/dotnet/csharp/programming-guide/nullable-types/index) integer type. Optional types can be found in [Scala](http://www.scala-lang.org/api/2.7.4/scala/Option.html), [F#](https://msdn.microsoft.com/visualfsharpdocs/conceptual/core.option-module-%5bfsharp%5d). In Java, C/C++, and Python all object references always include a `null` value, allowing recursive declarations as above without optional types. However, in that case, the type-system cannot guarantee the absence of dereferencing `null`:\n",
    "```Java\n",
    "integer distance(Point p, Point q) {\n",
    "    return (q.x - p.x) + (q.y - p.y)\n",
    "}\n",
    "```\n",
    "Above method can be called with `p` or `q` being `null`, which leads to an exception. [Java](https://docs.oracle.com/javase/8/docs/api/java/util/Optional.html) also has optional types, but they don't address this issue."
   ]
  },
  {
   "cell_type": "markdown",
   "metadata": {
    "slideshow": {
     "slide_type": "slide"
    }
   },
   "source": [
    "## Definition of Classes\n",
    "\n",
    "The declaration of class `C` can abstractly be explained by variables and procedures. The statement `v :∈ s` sets `v` nondeterministically to an element of `s`; the statement `v :∉ s` set `v` to an element not in `s`. This is used to explain creating of an object as selecting a reference that is not already in use:\n",
    "\n",
    "<div style=\"display:table;margin-left:2em;margin-top:1em\">\n",
    "\n",
    "```algorithm\n",
    "class C\n",
    "    var f: F\n",
    "    initialization(v₀: V₀)\n",
    "        S₀\n",
    "    method mᵢ(vᵢ: Vᵢ) → (rᵢ: Rᵢ)\n",
    "        Sᵢ\n",
    "```\n",
    "<span></span>\n",
    "    <div style = \"display:table-cell; border-left:50px solid white; vertical-align:middle\">\n",
    "\n",
    "```algorithm\n",
    "var C: set of Object = {}\n",
    "var f: Object → F\n",
    "procedure C(v₀: V₀) → (self: C)\n",
    "    self :∉ C ; C := C ∪ {self} ; S₀\n",
    "procedure C.mᵢ(self: C, vᵢ: Vᵢ) → (rᵢ: Rᵢ)\n",
    "    Sᵢ\n",
    "```\n",
    "   </div>\n",
    "</div>\n",
    "\n",
    "Let `x: C` be an object of class `C`. Accessing a field is just function application:\n",
    "\n",
    "```\n",
    "x.f  =  f(x)\n",
    "```\n",
    "A method call is a procedure call, where the type of the object (receiver) determines the procedure and the object becomes the `self` parameter:\n",
    "\n",
    "```\n",
    "y ← x.m(E)  =  y ← C.m(x, E)\n",
    "```\n",
    "Above, `C` has three roles:\n",
    "- in `x: C` as a type of variables\n",
    "- in `var C: set of Object` as the set of created objects of class C\n",
    "- in `C.m` for prefixing its methods, in case these names are used in other classes as well.\n",
    "\n",
    "This formal definition can be used to justify the rule for correctness of classes."
   ]
  },
  {
   "cell_type": "markdown",
   "metadata": {
    "slideshow": {
     "slide_type": "slide"
    }
   },
   "source": [
    "## Ownership\n",
    "\n",
    "_Question:_ In the following design, a line is meant to be pair of \"different\" points. What is the problem?\n",
    "\n",
    "<!--\n",
    "```algorithm\n",
    "class Line\n",
    "    var start, end: Point\n",
    "    {(start.x, start.y) ≠ (end.x, end.y)}\n",
    "    initialization(s, e: Point)\n",
    "        {(start.x, start.y) ≠ (end.x, end.y)}\n",
    "        start, end := s, e\n",
    "    method move(dx, dy: integer)\n",
    "        start.move(dx, dy) ; end.move(dx, dy)\n",
    "\n",
    "p ← Point(1, 3) ; q ← Point(2, 4) ; l ← Line(p, q) ; p.move(1, 1)\n",
    "```\n",
    "-->"
   ]
  },
  {
   "cell_type": "code",
   "execution_count": null,
   "metadata": {},
   "outputs": [],
   "source": [
    "%%writefile TestLine.java\n",
    "class Point {\n",
    "    int x, y;\n",
    "    Point(int x0, int y0) {\n",
    "        x = x0; y = y0;\n",
    "    }\n",
    "    void move(int dx, int dy) {\n",
    "        x += dx; y += dy;\n",
    "    }\n",
    "}\n",
    "\n",
    "class Line {\n",
    "    Point start, end;\n",
    "    boolean invariantOK() {\n",
    "        return start.x != end.x || start.y != end.y;\n",
    "    }\n",
    "    Line(Point s, Point e) {\n",
    "        assert s.x != e.x || s.y != e.y;\n",
    "        start = s; end = e;\n",
    "        assert invariantOK();\n",
    "    }\n",
    "    void move(int dx, int dy) {\n",
    "        start.move(dx, dy); end.move(dx, dy);\n",
    "        assert invarian` tOK();\n",
    "    }\n",
    "}\n",
    "\n",
    "class TestLine {\n",
    "    public static void main(String[] args) {\n",
    "        Point p = new Point(1, 3); Point q = new Point(2, 4);\n",
    "        Line l = new Line(p, q); p.move(1, 1);\n",
    "        assert l.invariantOK();\n",
    "    }\n",
    "}"
   ]
  },
  {
   "cell_type": "code",
   "execution_count": null,
   "metadata": {},
   "outputs": [],
   "source": [
    "!javac TestLine.java; java -ea TestLine"
   ]
  },
  {
   "cell_type": "markdown",
   "metadata": {
    "slideshow": {
     "slide_type": "subslide"
    }
   },
   "source": [
    "Although the fields of line `l` are not modified from outside, the class invariant is broken as the fields refer to objects that can be modified from outside `l`.\n",
    "\n",
    "_Question:_ Making the fiels of `Line` private will not help. How can breaking the class invariant be avoided?"
   ]
  },
  {
   "cell_type": "markdown",
   "metadata": {
    "slideshow": {
     "slide_type": "fragment"
    }
   },
   "source": [
    "- The invariant is weakened, e.g.:\n",
    "```Java\n",
    "    boolean invariantOK() {\n",
    "        return start != null && end != null;\n",
    "    }\n",
    "```\n",
    "- New points are created on initialization of a line:\n",
    "```Java\n",
    "    Line(Point s, Point e) {\n",
    "        assert s.x != e.x || s.y != e.y;\n",
    "        start = Point(s.x, s.y); end = Point(e.x, e.y);\n",
    "        assert invariantOK();\n",
    "    }\n",
    "```\n",
    "\n",
    "<div style=\"margin: 0 auto\" class=\"code-img-pair-container\">\n",
    "  <div style=\"width: 60%\">\n",
    "      In the latter case, the newly created points are being <em>owned</em> by the line. In general, every object is owned by another object, resulting in a hierarchical ownership structure, where the main program is an object that is not owned. We think of every object having a hidden `owner` field. Ownership can change at run-time.\n",
    "\n",
    "[Rust](https://doc.rust-lang.org/book/second-edition/ch04-01-what-is-ownership.html) and [Swift](https://developer.apple.com/library/content/documentation/Swift/Conceptual/Swift_Programming_Language/AutomaticReferenceCounting.html) support forms of ownership. In Rust, the ownership of `p`, `q` can transferred to `Line`; after the transfer the malicious call `p.move(1, 1);` would not longer be allowed. In Rust, ownership is traced statically through types, such that no overhead occurs at run-time.\n",
    "</div>\n",
    "  <div style = \"border-left:50px solid white\">\n",
    "    <img src=\"img/PointOwner.svg\"/>\n",
    "  </div>\n",
    "</div>"
   ]
  },
  {
   "cell_type": "markdown",
   "metadata": {
    "slideshow": {
     "slide_type": "slide"
    }
   },
   "source": [
    "## Generalized Class Invariant\n",
    "\n",
    "Class invariants can be over the fields of a class and over other objects provided that the other objects are owned. \n",
    "\n",
    "**Rule for correctness of classes:**\n",
    "Suppose class `C` has fields `f`, invariant `I` over `f` and owned objects, and an initalization and methods `mᵢ`, each with pre- and postconditions,\n",
    "```algorithm\n",
    "class C\n",
    "    var f\n",
    "    {I}\n",
    "    initialization(v₀)\n",
    "        {P₀}  S₀  {Q₀}\n",
    "    method mᵢ(vᵢ) → (rᵢ)\n",
    "        {Pᵢ}  Sᵢ  {Qᵢ}\n",
    "```\n",
    "\n",
    "where\n",
    "- `P₀` is over `v₀`\n",
    "- `Q₀` is over `v₀`, `f`, and owned objects\n",
    "- `Pᵢ` are over `vᵢ`, `f`, and owned objects\n",
    "- `Qᵢ` are over `vᵢ`, `rᵢ`, `f`, and owned objects\n",
    "\n",
    "Class `C` is correct if\n",
    "- the initialization _establishes_ `I`,\n",
    "\n",
    "```algorithm\n",
    "{P₀}  S₀  {I ∧ Q₀}\n",
    "```\n",
    "\n",
    "- every method `mᵢ` _preserves_ `I`:\n",
    "\n",
    "```algorithm\n",
    "{I ∧ Pᵢ}  Sᵢ  {I ∧ Qᵢ}\n",
    "```\n",
    "\n",
    "While ownership imposes a hierarchical structure on all objects, this does not preclude arbitrary structures among objects, as in the next example."
   ]
  },
  {
   "cell_type": "markdown",
   "metadata": {
    "slideshow": {
     "slide_type": "slide"
    }
   },
   "source": [
    "## Observer Pattern\n",
    "\n",
    "The Observer Pattern is one of the 23 _design patterns_ of [Design Patterns:\n",
    "Elements of Reusable Object-Oriented Software](https://en.wikipedia.org/wiki/Design_Patterns) by Gamma, Helm, Johnson, Vlissides, 1994. Code for the pattern can be found in the standard [Java](https://docs.oracle.com/javase/8/docs/api/java/util/Observer.html) and [.Net](https://msdn.microsoft.com/en-us/library/ff648108.aspx) libraries; templates for [Python](http://python-3-patterns-idioms-test.readthedocs.io/en/latest/Observer.html) exist as well. Examples are:\n",
    "- a user interface of a drawing or text editor, in which one *model* has several *views*: as soon as the model changes, all views have to be notified,\n",
    "- an auction system in which one item is being observed by several bidders: as soon as there is a new bid on the item, all bidders have to be notified.\n",
    "\n",
    "In the Java example below, a _subject_ has a state, here just an integer. One _observer_ is interested in the whole state and another observed only if that integer is even."
   ]
  },
  {
   "cell_type": "code",
   "execution_count": null,
   "metadata": {
    "slideshow": {
     "slide_type": "subslide"
    }
   },
   "outputs": [],
   "source": [
    "%%writefile Observers.java\n",
    "import java.util.*;\n",
    "interface Observer {\n",
    "    void update();\n",
    "}\n",
    "class Subject {\n",
    "    int state = 0;\n",
    "    Set<Observer> obs = new HashSet<Observer>();\n",
    "    void attach(Observer o) {\n",
    "        obs.add(o);\n",
    "    }\n",
    "    void notifyObservers() {\n",
    "        for (Observer o: obs) o.update();\n",
    "    }\n",
    "    void modify() {\n",
    "        state += 1;\n",
    "        notifyObservers();\n",
    "    }\n",
    "}\n",
    "class ObserveAll implements Observer {\n",
    "    int state;\n",
    "    Subject sub;\n",
    "    ObserveAll(Subject s) {\n",
    "        sub = s; state = s.state;\n",
    "    }\n",
    "    public void update() {\n",
    "        state = sub.state;\n",
    "        System.out.println(\"state is \" + state);\n",
    "    }\n",
    "}\n",
    "class ObserveEven implements Observer {\n",
    "    boolean even;\n",
    "    Subject sub;\n",
    "    ObserveEven(Subject s) {\n",
    "        sub = s; even = s.state % 2 == 0;\n",
    "    }\n",
    "    public void update() {\n",
    "        even = sub.state % 2 == 0;\n",
    "        if (even) System.out.println(\"state is even\");\n",
    "    }\n",
    "}\n",
    "\n",
    "class TestObservers {\n",
    "    public static void main(String[] args) {\n",
    "        Subject sub = new Subject();\n",
    "        Observer oa = new ObserveAll(sub);\n",
    "        Observer oe = new ObserveEven(sub);\n",
    "        sub.attach(oa); sub.attach(oe);\n",
    "        sub.modify(); sub.modify(); sub.modify(); sub.modify();\n",
    "    }\n",
    "}"
   ]
  },
  {
   "cell_type": "code",
   "execution_count": null,
   "metadata": {},
   "outputs": [],
   "source": [
    "!javac Observers.java; java TestObservers"
   ]
  },
  {
   "cell_type": "markdown",
   "metadata": {
    "slideshow": {
     "slide_type": "subslide"
    }
   },
   "source": [
    "As a set of observers is used, there is no guarantee in which order the observers are being notified.\n",
    "\n",
    "Intuitively, establishing\n",
    "- `oa.state == sub.state` is the goal of `oa`,\n",
    "- `oe.even == (sub.state % 2 == 0)` is the goal of `oe`.\n",
    "\n",
    "However, \n",
    "- `even == (sub.state % 2 == 0)`is not an invariant of `oa`, as at entry to `update`, it does not hold\n",
    "- something equivalent cannot be the invariant of `sub`, as `sub` does \"not know\" the fields of all of its observers.\n",
    "\n",
    "To express the goal as an invariant, a third class needs to be introduced:"
   ]
  },
  {
   "cell_type": "code",
   "execution_count": null,
   "metadata": {},
   "outputs": [],
   "source": [
    "%%writefile Controller.java\n",
    "class Controller {\n",
    "    Subject sub = new Subject(); // owned\n",
    "    ObserveAll oa = new ObserveAll(sub); // owned\n",
    "    ObserveEven oe = new ObserveEven(sub); // owned\n",
    "    boolean invariantOK() {\n",
    "        return oa.state == sub.state &&\n",
    "               oe.even == (sub.state % 2 == 0);\n",
    "    }\n",
    "    Controller() {\n",
    "        sub.attach(oa); sub.attach(oe); assert invariantOK();\n",
    "    }\n",
    "    void modify() {sub.modify(); assert invariantOK();}\n",
    "}\n",
    "class TestController {\n",
    "    public static void main(String[] args) {\n",
    "        Controller c = new Controller();\n",
    "        c.modify(); c.modify(); c.modify(); c.modify();\n",
    "    }\n",
    "}"
   ]
  },
  {
   "cell_type": "code",
   "execution_count": null,
   "metadata": {},
   "outputs": [],
   "source": [
    "!javac Controller.java; java -ea TestController"
   ]
  },
  {
   "cell_type": "markdown",
   "metadata": {
    "slideshow": {
     "slide_type": "slide"
    }
   },
   "source": [
    "## Facade Pattern\n",
    "\n",
    "<div style=\"margin: 0 auto\" class=\"code-img-pair-container\">\n",
    "  <div style=\"width: 60%\">\n",
    "      Above program is also an instance of the <em>Facade Pattern</em>: users (\"clients\") don't call classes directly, but through a Facade class. The class invariant of Facade may involve the \"hidden\" class, implying that the objects of those classes are owned by the Facade. The role of the Facade is to maintain that invariant.\n",
    "  </div>\n",
    "  <div style = \"border-left:50px solid white\">\n",
    "    <img src=\"img/Facade.svg\"/>\n",
    "  </div>\n",
    "</div>\n",
    "<span></span>\n"
   ]
  }
 ],
 "metadata": {
  "celltoolbar": "Slideshow",
  "kernelspec": {
   "display_name": "Python 3 (ipykernel)",
   "language": "python",
   "name": "python3"
  },
  "language_info": {
   "codemirror_mode": {
    "name": "ipython",
    "version": 3
   },
   "file_extension": ".py",
   "mimetype": "text/x-python",
   "name": "python",
   "nbconvert_exporter": "python",
   "pygments_lexer": "ipython3",
   "version": "3.8.8"
  },
  "livereveal": {
   "history": true,
   "margin": "0.01",
   "progress": true,
   "scroll": true,
   "start_slideshow_at": "selected"
  },
  "rise": {
   "enable_chalkboard": true
  }
 },
 "nbformat": 4,
 "nbformat_minor": 2
}
