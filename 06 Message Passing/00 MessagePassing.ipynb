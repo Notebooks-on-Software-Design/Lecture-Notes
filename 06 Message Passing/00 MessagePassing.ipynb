{
 "cells": [
  {
   "cell_type": "markdown",
   "metadata": {
    "slideshow": {
     "slide_type": "slide"
    }
   },
   "source": [
    "---\n",
    "\n",
    "# Message Passing\n",
    "### [Emil Sekerinski](http://www.cas.mcmaster.ca/~emil/), McMaster University, February 2022\n",
    "\n",
    "---\n",
    "\n",
    "<figure style=\"float:right;border-right:2em solid white\" >\n",
    "    <img style=\"width:90pt\" src=\"./img/by-nc-nd.png\"/>\n",
    "    <figcaption style=\"width:90pt;font-size:x-small\"><a href=\"https://creativecommons.org/licenses/by-nc-nd/4.0/\" style=\"font-size:x-small\">Licensed under Creative Commons CC BY-NC-ND</a>\n",
    "    </figcaption>\n",
    "</figure>"
   ]
  },
  {
   "cell_type": "markdown",
   "metadata": {
    "slideshow": {
     "slide_type": "subslide"
    }
   },
   "source": [
    "So far, we have assumed that processes share memory: they may have their own local variables, but they communicate through global variables, including those protected by monitors. In _message passing,_ processes communicate by _sending and receiving messages_ over _channels_. Shared memory is not needed. As all variables are local to a process, mutual exclusion is guaranteed.\n",
    "- In _distributed systems,_ there is no shared memory and all communication is by message passing. This is the case for geographically distributed systems and for _\"thinly\" connected multiprocessors_. Examples of those are _hypercube,_ _systolic array,_ and _flexible interconnect._\n",
    "\n",
    "<div class=\"code-img-pair-container\">\n",
    "  <div>\n",
    "    <img src=\"img/Hypercubes.svg\"/>\n",
    "  </div>\n",
    "</div>\n",
    "\n",
    "- Even when shared memory is available, message passing isolates processes, which may contribute to higher reliability and better performance. It makes the programmer's view uniform, whether processes are local or distributed. The <a href=\"https://en.wikipedia.org/wiki/Mach_(kernel)\">Mach</a> operating system kernel, on which [macOS](https://developer.apple.com/library/content/documentation/Darwin/Conceptual/KernelProgramming/Mach/Mach.html) is built, uses message passing between processes (although other communication primities were added over the years as well)."
   ]
  },
  {
   "cell_type": "markdown",
   "metadata": {
    "slideshow": {
     "slide_type": "subslide"
    }
   },
   "source": [
    "Message passing can vary:\n",
    "- channels may be *one-way* or *two-way*,\n",
    "- channels may be *global* to the processes or can be *attached* to either the sending or receiving process,\n",
    "- communication can be *synchronous* or *asynchronous.*\n",
    "\n",
    "In *synchronous* communication, sender and receiver have to wait for each other. With *unbounded* asynchronous communication, the sender can always send and the receiver may receive the messages arbitrarily later. With *bounded* asynchronous communication, the sender may need to wait if the channel is full.\n",
    "\n",
    "_Question:_ What are examples of the various forms of message passing in computing and everyday life?"
   ]
  },
  {
   "cell_type": "markdown",
   "metadata": {
    "slideshow": {
     "slide_type": "fragment"
    }
   },
   "source": [
    "Calling a phone is an example for synchronous communication. Sending e-mail and text messages are examples for asynchronous communication. With e-mail and text messages, the channel is attached to the receiver (*mailbox*). With live streaming, the channel is attached to the sender. In discussion fora, the channel is global. With e-mail, the channel is one-directinal, with video conferencing, the channel is bidirectional."
   ]
  },
  {
   "cell_type": "markdown",
   "metadata": {
    "slideshow": {
     "slide_type": "slide"
    }
   },
   "source": [
    "## Synchronous Message Passing\n",
    "\n",
    "The communication constructs introduced here build on those of Communicating Sequential Processes, introduced by [Hoare](https://doi.org/10.1145/359576.359585) (in 1978 and in 1985 expanded into a [book](http://www.usingcsp.com/cspbook.pdf)).\n",
    "\n",
    "Variables can be declared of _channel_ type, which also specifies the type of data that can be sent over a channel. The notation is\n",
    "```\n",
    "var v: channel[T]\n",
    "```\n",
    "where `T` is a type. For example:\n",
    "```\n",
    "var printer: channel[string]\n",
    "var keyboard: channel[char]\n",
    "var port: channel[byte]\n",
    "var dbrequest: channel[SQLquery]\n",
    "var dbreply: channel[Table]\n",
    "var dbinsert: channel[Key × Value]\n",
    "```"
   ]
  },
  {
   "cell_type": "markdown",
   "metadata": {
    "slideshow": {
     "slide_type": "subslide"
    }
   },
   "source": [
    "There are two communication statements, the _output statement_ (*send statement*)\n",
    "```\n",
    "c ! E\n",
    "```\n",
    "where `c` is a channel and `E` is an expression or list of expressions (pronounced \"`c` output `E`\") and the _input statement_ (*receive statement*)\n",
    "```\n",
    "c ? v\n",
    "```\n",
    "where `v` is a variable or a list of variables (pronounced \"`c` input `v`\")."
   ]
  },
  {
   "cell_type": "markdown",
   "metadata": {
    "slideshow": {
     "slide_type": "subslide"
    }
   },
   "source": [
    "In the producer-consumer problem, a producer is a process that sends over a channel and a consumer is a process that receives over a channel:\n",
    "```\n",
    "var c: channel[T]\n",
    "```\n",
    "<div style=\"display:table\">\n",
    "  <div style = \"display:table-cell\" >\n",
    "\n",
    "```algorithm\n",
    "process producer\n",
    "    do true →\n",
    "        produce data\n",
    "        c ! data\n",
    "```\n",
    "\n",
    "  </div>\n",
    "  <div style = \"display:table-cell; border-left:0px solid white\">\n",
    "\n",
    "```algorithm\n",
    "process consumer\n",
    "    do true →\n",
    "        c ? data\n",
    "        consume data\n",
    "```\n",
    "\n",
    "  </div>\n",
    "</div>\n",
    "<span></span>"
   ]
  },
  {
   "cell_type": "markdown",
   "metadata": {
    "slideshow": {
     "slide_type": "subslide"
    }
   },
   "source": [
    "If one process only sends data once and another only receives data once, then this is the same as just copying the data. We can think of communication as a \"remote assignment\" with synchronization:\n",
    "<div style=\"display:table\">\n",
    "  <div style = \"display:table-cell\">\n",
    "\n",
    "```\n",
    "var c: channel[integer]\n",
    "c ! 7 ‖ c ? v\n",
    "```\n",
    "  </div>\n",
    "  <div style = \"display:table-cell; border-left:20px solid white\">\n",
    "\n",
    "```\n",
    "=\n",
    "```\n",
    "  </div>\n",
    "  <div style = \"display:table-cell; border-left:20px solid white\">\n",
    "\n",
    "```\n",
    "v := 7\n",
    "```\n",
    "  </div>\n",
    "</div>"
   ]
  },
  {
   "cell_type": "markdown",
   "metadata": {
    "slideshow": {
     "slide_type": "subslide"
    }
   },
   "source": [
    "One process may both receive and send. For example, process `copy` copies values from channel `west` to channel `east`:\n",
    "\n",
    "<div class=\"code-img-pair-container\">\n",
    "    <code>var west, east: channel[T]\n",
    "process copy\n",
    "    var v: T\n",
    "    do true → west ? v ; east ! v</code>\n",
    "    <div style = \"border-left:100px solid white\">\n",
    "        <img src=\"img/Copy.svg\"/>\n",
    "    </div>\n",
    "</div>\n",
    "\n",
    "Other processes would then send by `west ! ...` and receive by `east ? ...`. "
   ]
  },
  {
   "cell_type": "markdown",
   "metadata": {
    "slideshow": {
     "slide_type": "subslide"
    }
   },
   "source": [
    "In the following example, a server is an infinite process that computes the greatest common divisor of two numbers. The sever waits for a request from channel `args`, does the computation, and sends the result to channel `result`:\n",
    "```\n",
    "var args: channel[integer × integer]\n",
    "var result: channel[integer]\n",
    "\n",
    "process gcd\n",
    "    var x, y: integer\n",
    "    do true →\n",
    "        args ? (x, y)\n",
    "        do x > y → x := x – y\n",
    "         ⫿  y > x → y := y – x\n",
    "        result ! x\n",
    "```\n",
    "A client would get service by first sending the arguments and then waiting for the result:\n",
    "```\n",
    "args ! (a1, a2) ; result ? r\n",
    "```"
   ]
  },
  {
   "cell_type": "markdown",
   "metadata": {
    "slideshow": {
     "slide_type": "slide"
    }
   },
   "source": [
    "## Guarded Communication\n",
    "\n",
    "If a server waits for a request from multiple clients, it would select the client that requests first. If clients send over distinct channels, this cannot be expressed with a `c ? v` input statement, as that waits for channel `c` specifically. A construct is needed that \"waits for whatever comes first\"."
   ]
  },
  {
   "cell_type": "markdown",
   "metadata": {
    "slideshow": {
     "slide_type": "subslide"
    }
   },
   "source": [
    "The _guarded communication statement_ generalizes guarded commands by including communication in the guard. It is of the form\n",
    "```\n",
    "B; R → S\n",
    "```\n",
    "where `B` is a Boolean expression and `R` is a communication statement. It can be used in `if` and `do` guarded commands. If `B` is left out, it is assumed to be `true`. The conditional statement `if B → S ⫿ C → T` choses arbitrarily between `S` and `T` when both `B` and `C` are true and blocks if neither is true. If the guards contain communication, this applies analogously:\n",
    "```\n",
    "if west0 ? v → east ! v\n",
    " ⫿ west1 ? v → east ! v\n",
    "```\n",
    "This statement receives from either `west0` or `west1`, depending on which is ready to communicate. If both are ready, the choice is arbitrary; if neither is ready, it blocks."
   ]
  },
  {
   "cell_type": "markdown",
   "metadata": {
    "slideshow": {
     "slide_type": "subslide"
    }
   },
   "source": [
    "A communication statement in the guard of a `do` loop similarly blocks until communication can proceed. For example, process `copy` can be reformulated by having the guard of the loop block when receiving:\n",
    "```\n",
    "process copy\n",
    "    var v: T\n",
    "    do west ? v → east ! v\n",
    "```\n",
    "This `do` loop never terminates. The guard blocks until another process sends on `west`. In this form, `copy` is a one-place buffer."
   ]
  },
  {
   "cell_type": "markdown",
   "metadata": {
    "slideshow": {
     "slide_type": "subslide"
    }
   },
   "source": [
    "In general, the loop `do B → S ⫿ C → T` choses arbitrarily between `S` and `T` when both `B` and `C` are true. If the guards contain communication, this applies analogously. For example,  process `merge` continuously merges from channels `west0` and `west1`:\n",
    "\n",
    "<div class=\"code-img-pair-container\">\n",
    "    <code>process merge\n",
    "    var v: T\n",
    "    do west0 ? v → east ! v\n",
    "      ⫿  west1 ? v → east ! v</code>\n",
    "    <div style = \"border-left:100px solid white\">\n",
    "        <img src=\"img/Merge.svg\"/>\n",
    "    </div>\n",
    "</div>\n",
    "\n",
    "_Question:_ What is the difference to `zip`? Both send to `east` and receive from `west0` and `west1`.\n",
    "```\n",
    "process zip\n",
    "    var v: T\n",
    "    do west0 ? v → east ! v ; west1 ? v ; east ! v\n",
    "```"
   ]
  },
  {
   "cell_type": "markdown",
   "metadata": {
    "slideshow": {
     "slide_type": "fragment"
    }
   },
   "source": [
    "*Answer.* Process `zip` will alternate between receiving from `west0` and `west1`, starting with `west0`. On the other hand, `merge` will always receive from either `west0` or `west1`. For example, trying to send twice over `west0` will block with `zip` but not with `merge`."
   ]
  },
  {
   "cell_type": "markdown",
   "metadata": {
    "slideshow": {
     "slide_type": "subslide"
    }
   },
   "source": [
    "Likewise, guards can contain send statements. For example, process `split` passes data from `west` to either `east0` or `east1`:\n",
    "\n",
    "<div class=\"code-img-pair-container\">\n",
    "    <code>process split\n",
    "    var v: T\n",
    "    west ? v\n",
    "    do east0 ! v → west ? v\n",
    "      ⫿  east1 ! v → west ? v</code>\n",
    "    <div style = \"border-left:100px solid white\">\n",
    "        <img src=\"img/Split.svg\"/>\n",
    "    </div>\n",
    "</div>"
   ]
  },
  {
   "cell_type": "markdown",
   "metadata": {
    "slideshow": {
     "slide_type": "subslide"
    }
   },
   "source": [
    "Guards can contain both a Boolean expression and a communication statement. Communication can take place only when the corresponding guard is true:\n",
    "```\n",
    "process select\n",
    "    var v: T, s: integer\n",
    "    set s to 0 or 1\n",
    "    do s = 0; west0 ? v → east ! v ; set s to 0 or 1\n",
    "      ⫿  s = 1; west1 ? v → east ! v ; set s to 0 or 1\n",
    "```\n",
    "_Question:_ What happens if `s` is set to a value different from `0` and `1`? What would happen if there were no communication statements?"
   ]
  },
  {
   "cell_type": "markdown",
   "metadata": {
    "slideshow": {
     "slide_type": "fragment"
    }
   },
   "source": [
    "If `s` is neither `0` nor `1`, the loop would terminate, as it would if there are no communication statements."
   ]
  },
  {
   "cell_type": "markdown",
   "metadata": {
    "slideshow": {
     "slide_type": "subslide"
    }
   },
   "source": [
    "Likewise, guards can contain send statements.\n",
    "```\n",
    "process distribute\n",
    "    var v: T, s: integer\n",
    "    west ? v ; set s to 0 or 1\n",
    "    do s = 0; east0 ! v → west ? v ; set s to 0 or 1\n",
    "      ⫿  s = 1; east1 ! v → west ? v ; set s to 0 or 1\n",
    "```"
   ]
  },
  {
   "cell_type": "markdown",
   "metadata": {
    "slideshow": {
     "slide_type": "subslide"
    }
   },
   "source": [
    "In general, guards of `if` and `do` statements can contain both send and receive statements. For example, this allows `copy` to be generalized to a bounded buffer. Below `C` is the capacity of the buffer:\n",
    "\n",
    "<div class=\"code-img-pair-container\">\n",
    "    <code>var west, east: channel[T]\n",
    "process copy\n",
    "    var buffer: 0 .. C – 1 → T\n",
    "    var in, out, n: integer = 0, 0, 0\n",
    "    do n < C; west ? buffer(in) → in, n := (in + 1) mod C, n + 1\n",
    "      ⫿  n > 0; east ! buffer(out) → out, n := (out + 1) mod C, n – 1</code>\n",
    "    <div style = \"border-left:100px solid white\">\n",
    "        <img src=\"img/Copy.svg\"/>\n",
    "    </div>\n",
    "</div>\n",
    "\n",
    "This `do` loop never terminates as one of the Boolean expression is always true.\n",
    "- if `n = 0`, only the first alternative can be taken; it will be taken when another process executes `west ! E`; processes executing `east ? v` will block\n",
    "- if `n = C`, only the second alternative can be taken; it will be taken when another processes executes `east ? v`; processes executing `west ! E` will block\n",
    "- if `0 < n < C`, either alternative will be taken, depending on another process executing `west ! E` or `east ? v`."
   ]
  },
  {
   "cell_type": "markdown",
   "metadata": {
    "slideshow": {
     "slide_type": "slide"
    }
   },
   "source": [
    "## Types of Processes\n",
    "\n",
    "There are four common types of message-passing processes:\n",
    "\n",
    "- _Filter:_ a filter receives data from its input channels, transforms data, and sends it to its output channels.\n",
    "- _Client:_ a client initiates requests to a server; it may pause until it receives a response.\n",
    "- _Server:_ a server is a reactive process: it waits for requests from clients, to which it may be able to respond immediately or would postpone the response. Often, servers run continuously.\n",
    "- _Peers:_ peers are \"equal\" processes; they communicate, for example by exchanging a file, but none of the peers is a client or server."
   ]
  },
  {
   "cell_type": "markdown",
   "metadata": {
    "slideshow": {
     "slide_type": "slide"
    }
   },
   "source": [
    "## Unix Pipes and Filters\n",
    "\n",
    "The Unix operating system (including Linux, macOS) allows any program that reads from `stdin` and writes to `stdout` to be a [filter](http://www.linfo.org/filters.html). Files become asynchronous channels (traditionally with 4K bytes capacity).  They can be connected by the _pipe_ operator. Following connects the `stdout` channel of `P` with the `stdin` channel of `Q`:\n",
    "```\n",
    "P | Q\n",
    "```\n",
    "Common filters are `cat`, `sort`, `wc`, `uniq`, `grep`, `ps`, `ls`, `tee`:"
   ]
  },
  {
   "cell_type": "code",
   "execution_count": null,
   "metadata": {},
   "outputs": [],
   "source": [
    "!cat philosophers.go"
   ]
  },
  {
   "cell_type": "code",
   "execution_count": null,
   "metadata": {
    "scrolled": true
   },
   "outputs": [],
   "source": [
    "!cat philosophers.go | wc"
   ]
  },
  {
   "cell_type": "code",
   "execution_count": null,
   "metadata": {},
   "outputs": [],
   "source": [
    "!ps aux  | grep root  | wc"
   ]
  },
  {
   "cell_type": "markdown",
   "metadata": {
    "slideshow": {
     "slide_type": "fragment"
    }
   },
   "source": [
    "_Question:_ Find out the number of function declarations in `philosophers.go`! Each function declaration starts with `func`."
   ]
  },
  {
   "cell_type": "code",
   "execution_count": null,
   "metadata": {},
   "outputs": [],
   "source": [
    "!cat philosophers.go | grep func | wc"
   ]
  },
  {
   "cell_type": "markdown",
   "metadata": {
    "slideshow": {
     "slide_type": "-"
    }
   },
   "source": [
    "More complex filters are `tbl`, `eqn`, `troff` for text processing, `pic` for drawing pictures, and `cpp`, the C preprocessor."
   ]
  },
  {
   "cell_type": "markdown",
   "metadata": {
    "slideshow": {
     "slide_type": "slide"
    }
   },
   "source": [
    "## Prime Number Generation\n",
    "\n",
    "The Sieve of Eratosthenes works by starting with all potential prime numbers and successively eliminating all those that a multiples of other numbers.\n",
    "\n",
    "```\n",
    "    2  3  4  5  6  7  8  9 10 11 12 13 14 15 16 17 18 19\n",
    "```\n",
    "\n",
    "Eliminating all multiples of 2 results in:\n",
    "\n",
    "```\n",
    "    2  3     5     7     9    11    13    15    17    19\n",
    "```\n",
    "\n",
    "Eliminating all multiples of 3 results in:\n",
    "\n",
    "```\n",
    "    2  3     5     7          11    13          17    19\n",
    "```\n",
    "\n",
    "Now we can stop, as the first multiple of 5 that would need to be considered is 25; all smaller multiples have already been eliminated.\n",
    "\n",
    "_Question:_ How can that be implemented with communicating processes?"
   ]
  },
  {
   "cell_type": "markdown",
   "metadata": {
    "slideshow": {
     "slide_type": "subslide"
    }
   },
   "source": [
    "For determining the first `L` prime numbers, we chain `L` processes. The first process, `sieve(0)` generates all odd numbers starting from `3`. All other processes `sieve(i)` receive first  a prime number, which they keep. For all other numbers they receive, they check if it is a multiple of their prime. If so, they drop it, otherwise they pass it on to the next process.\n",
    "\n",
    "<div class=\"code-img-pair-container\">\n",
    "  <div>\n",
    "    <img src=\"img/Eratosthenes.svg\"/>\n",
    "  </div>\n",
    "</div>"
   ]
  },
  {
   "cell_type": "markdown",
   "metadata": {
    "slideshow": {
     "slide_type": "fragment"
    }
   },
   "source": [
    "```\n",
    "var ch: array 0 .. L – 1 of channel[integer]\n",
    "```\n",
    "```\n",
    "process sieve(i: 0 .. L – 1)\n",
    "    if i = 0 then   -- 0-th prime is 2\n",
    "        var j = 3   -- pass odd numbers  \n",
    "        while j < N do\n",
    "            ch(0) ! j ; j := j + 2\n",
    "    else\n",
    "        var p, n: integer   -- prime, next\n",
    "        ch(i – 1) ? p   -- i-th prime is p\n",
    "        while true do\n",
    "            ch(i – 1) ? n\n",
    "            if n mod p ≠ 0 then ch(i) ! n\n",
    "```"
   ]
  },
  {
   "cell_type": "markdown",
   "metadata": {
    "slideshow": {
     "slide_type": "slide"
    }
   },
   "source": [
    "## Processes and Channels in Go\n",
    "\n",
    "In Go, procedures are called functions; processes (threads) are called goroutines and are created (forked) using the syntax\n",
    "```Go\n",
    "go f()\n",
    "```\n",
    "where `f` is a function that can have parameters; there is no equivalent of joining a thread. A synchronous channel is declared by:\n",
    "```Go\n",
    "var c chan int\n",
    "```\n",
    "In addition, a channel needs to be created before it can be used:\n",
    "```Go\n",
    "c = make(chan int)\n",
    "```\n",
    "Sending `E` over channel `c`, in CSP `c ! E`, is written as:\n",
    "```Go\n",
    "c <- E\n",
    "```\n",
    "Receiving `x` over channel `c`, in CSP `c ? x`, is written as:\n",
    "```Go\n",
    "x = <- c\n",
    "```\n",
    "Go treats `<- c` as an expression, which can also be used e.g. as a parameter."
   ]
  },
  {
   "cell_type": "markdown",
   "metadata": {
    "slideshow": {
     "slide_type": "subslide"
    }
   },
   "source": [
    "In Go, there are only `for` loops, which can be used as traditional for loops, as while loops, and as infinite loops. Following program starts a goroutine with an infinite loop. However, the program terminates when the main function terminates. The statement `x := 3` declares `x` to be an integer and sets it to `3`. "
   ]
  },
  {
   "cell_type": "code",
   "execution_count": null,
   "metadata": {},
   "outputs": [],
   "source": [
    "%%writefile printer.go\n",
    "package main\n",
    "\n",
    "var printer chan int\n",
    "\n",
    "func printToScreen() {\n",
    "    for {print(<- printer)}\n",
    "}\n",
    "func main() {\n",
    "    printer = make(chan int)\n",
    "    go printToScreen()\n",
    "    for i := 3; i <= 9; i++ {printer <- i}\n",
    "}"
   ]
  },
  {
   "cell_type": "code",
   "execution_count": null,
   "metadata": {},
   "outputs": [],
   "source": [
    "!go run printer.go"
   ]
  },
  {
   "cell_type": "markdown",
   "metadata": {
    "slideshow": {
     "slide_type": "subslide"
    }
   },
   "source": [
    "Here is the earlier `copy` process with an infinite loop, receiving from `west` and sending to `east`.\n",
    "\n",
    "_Hint:_ Use the <span style=\"color:darkorange\"><tt>l</tt></span> key to turn on line numbers; the line numbers from the Go compiler are off by one, though."
   ]
  },
  {
   "cell_type": "code",
   "execution_count": null,
   "metadata": {},
   "outputs": [],
   "source": [
    "%%writefile copy.go\n",
    "package main\n",
    "\n",
    "var west, east chan int\n",
    "\n",
    "func copyWestEast() {\n",
    "    for {c := <- west; east <- c}\n",
    "}\n",
    "func printToScreen() {\n",
    "    for {print(<- east)}\n",
    "}\n",
    "func main() {\n",
    "    west = make(chan int)\n",
    "    east = make(chan int)\n",
    "    go copyWestEast()\n",
    "    go printToScreen()\n",
    "    for i := 3; i <= 9; i++ {west <- i}\n",
    "}"
   ]
  },
  {
   "cell_type": "code",
   "execution_count": null,
   "metadata": {},
   "outputs": [],
   "source": [
    "!go run copy.go"
   ]
  },
  {
   "cell_type": "markdown",
   "metadata": {
    "slideshow": {
     "slide_type": "subslide"
    }
   },
   "source": [
    "_Question:_ What is the output of following program?"
   ]
  },
  {
   "cell_type": "code",
   "execution_count": null,
   "metadata": {},
   "outputs": [],
   "source": [
    "%%writefile puzzle.go\n",
    "package main\n",
    "\n",
    "var c1, c2 chan int\n",
    "\n",
    "func sub() {\n",
    "    c2 <- 1; println(<- c1)\n",
    "}\n",
    "func main() {\n",
    "    c1 = make(chan int)\n",
    "    c2 = make(chan int)\n",
    "    go sub()\n",
    "    c1 <- 1; println(<- c2) \n",
    "}"
   ]
  },
  {
   "cell_type": "code",
   "execution_count": null,
   "metadata": {},
   "outputs": [],
   "source": [
    "!go run puzzle.go"
   ]
  },
  {
   "cell_type": "markdown",
   "metadata": {
    "slideshow": {
     "slide_type": "fragment"
    }
   },
   "source": [
    "Go has built-in deadlock detection, unlike other languages. Hence the program terminates with an error message, rather than being stuck forever."
   ]
  },
  {
   "cell_type": "markdown",
   "metadata": {
    "slideshow": {
     "slide_type": "slide"
    }
   },
   "source": [
    "The following program illustrates the client-server structure in Go. The server is an infinite loop that waits for input from channel `arg`, does the computation, and sends the result back on channel `result`. If a pair of values is sent over a channel, a `struct` needs to be defined. The example also illustrates how a while-loop is expressed in Go:"
   ]
  },
  {
   "cell_type": "code",
   "execution_count": null,
   "metadata": {},
   "outputs": [],
   "source": [
    "%%writefile gcd1.go\n",
    "package main\n",
    "\n",
    "type Arguments struct {x, y int}\n",
    "\n",
    "var args chan Arguments\n",
    "var result chan int\n",
    "\n",
    "func gcd() {\n",
    "    for {\n",
    "        a := <- args\n",
    "        x, y := a.x, a.y\n",
    "        for x != y {\n",
    "            if x > y {x -= y\n",
    "            } else {y -= x}\n",
    "        }\n",
    "        result <- x\n",
    "    }\n",
    "}\n",
    "func main() {\n",
    "    args, result = make(chan Arguments), make(chan int)\n",
    "    go gcd()\n",
    "    args <- Arguments{20, 15}; println(<- result)\n",
    "    args <- Arguments{9, 6}; println(<- result)\n",
    "}"
   ]
  },
  {
   "cell_type": "code",
   "execution_count": null,
   "metadata": {},
   "outputs": [],
   "source": [
    "!go run gcd1.go"
   ]
  },
  {
   "cell_type": "markdown",
   "metadata": {
    "slideshow": {
     "slide_type": "subslide"
    }
   },
   "source": [
    "The `range` construct in Go can be used in `for` loops to iterate over\n",
    "- all elements of an array or array slice\n",
    "- all elements of a string\n",
    "- all elements of a map\n",
    "- all values received through a channel"
   ]
  },
  {
   "cell_type": "code",
   "execution_count": null,
   "metadata": {},
   "outputs": [],
   "source": [
    "%%writefile range.go\n",
    "package main\n",
    "\n",
    "func main() {\n",
    "    fib := []int{1, 1, 2, 3, 5, 8, 13}\n",
    "    for i, v := range(fib) {println(i, v)}\n",
    "    forecast := \"☀️🌨⛄️🌬\"\n",
    "    for i, c := range(forecast) {println(i, c)} // caution\n",
    "    days := map[string]int{\"mon\":0, \"tue\":1, \"wed\":2, \"thu\":3, \"fri\":4, \"sat\":5, \"sun\":6}\n",
    "    for s, n := range(days) {println(s, n)}\n",
    "}"
   ]
  },
  {
   "cell_type": "code",
   "execution_count": null,
   "metadata": {},
   "outputs": [],
   "source": [
    "!go run range.go"
   ]
  },
  {
   "cell_type": "markdown",
   "metadata": {
    "slideshow": {
     "slide_type": "subslide"
    }
   },
   "source": [
    "A loop over `range(c)` for channel `c` will iterate until the channel is _closed_. This can be used to shut down a server: "
   ]
  },
  {
   "cell_type": "code",
   "execution_count": null,
   "metadata": {},
   "outputs": [],
   "source": [
    "%%writefile gcd2.go\n",
    "package main\n",
    "import \"time\"\n",
    "\n",
    "type Arguments struct {x, y int}\n",
    "\n",
    "var args chan Arguments\n",
    "var result chan int\n",
    "\n",
    "func gcd() {\n",
    "    for a := range args {\n",
    "        x, y := a.x, a.y\n",
    "        for x != y {\n",
    "            if x > y {x -= y\n",
    "            } else {y -= x}\n",
    "        }\n",
    "        result <- x\n",
    "    }\n",
    "    println(\"gcd done\");\n",
    "}\n",
    "func main() {\n",
    "    args, result = make(chan Arguments), make(chan int)\n",
    "    go gcd()\n",
    "    args <- Arguments{20, 15}; println(<- result)\n",
    "    args <- Arguments{9, 6}; println(<- result)\n",
    "    close(args); time.Sleep(time.Second)\n",
    "    println(\"main done\")\n",
    "}"
   ]
  },
  {
   "cell_type": "code",
   "execution_count": null,
   "metadata": {},
   "outputs": [],
   "source": [
    "!go run gcd2.go"
   ]
  },
  {
   "cell_type": "markdown",
   "metadata": {},
   "source": [
    "_Question:_ What happens if the `time.Sleep` statement is left out?"
   ]
  },
  {
   "cell_type": "markdown",
   "metadata": {
    "slideshow": {
     "slide_type": "fragment"
    }
   },
   "source": [
    "Above program terminates when `main` terminates; without `time.Sleep`, the `gcd` goroutine may not print `\"gcd done\"`  before the program terminates.\n",
    "\n",
    "_Exercise:_ Relying on timing for a thread to finish its work is not recommendable. Modify the program such that `gcd` sends an acknowledgment when it is done and `main` waits for that acknowledgment, instead of sleeping."
   ]
  },
  {
   "cell_type": "code",
   "execution_count": null,
   "metadata": {
    "slideshow": {
     "slide_type": "subslide"
    }
   },
   "outputs": [],
   "source": [
    "%%writefile gcd3.go\n",
    "package main\n",
    "\n",
    "type Arguments struct {x, y int}\n",
    "\n",
    "var args chan Arguments\n",
    "var result chan int\n",
    "\n",
    "func gcd() {\n",
    "    for a := range args {\n",
    "        x, y := a.x, a.y\n",
    "        for x != y {\n",
    "            if x > y {x -= y\n",
    "            } else {y -= x}\n",
    "        }\n",
    "        result <- x\n",
    "    }\n",
    "    println(\"gcd done\")\n",
    "    result <- -1\n",
    "}\n",
    "func main() {\n",
    "    args, result = make(chan Arguments), make(chan int)\n",
    "    go gcd()\n",
    "    args <- Arguments{20, 15}; println(<- result)\n",
    "    args <- Arguments{9, 6}; println(<- result)\n",
    "    close(args); <- result\n",
    "    println(\"main done\")\n",
    "}"
   ]
  },
  {
   "cell_type": "code",
   "execution_count": null,
   "metadata": {},
   "outputs": [],
   "source": [
    "!go run gcd3.go"
   ]
  },
  {
   "cell_type": "markdown",
   "metadata": {
    "slideshow": {
     "slide_type": "subslide"
    }
   },
   "source": [
    "Receiving over a channel can also take the form\n",
    "```Go\n",
    "x, ok = <- c\n",
    "```\n",
    "Variable `ok` is set of `false` if the channel is closed and to `true` otherwise. "
   ]
  },
  {
   "cell_type": "code",
   "execution_count": null,
   "metadata": {},
   "outputs": [],
   "source": [
    "%%writefile closed.go\n",
    "package main\n",
    "import \"time\"\n",
    "\n",
    "var c, d chan int\n",
    "\n",
    "func printing() {\n",
    "    for {\n",
    "        x, ok := <- c\n",
    "        if !ok {break}\n",
    "        println(x)\n",
    "    }\n",
    "    for x := range(d) {\n",
    "        println(x)\n",
    "    }\n",
    "    println(\"done printing\")\n",
    "}\n",
    "func main() {\n",
    "    c, d = make(chan int), make(chan int)\n",
    "    go printing()\n",
    "    c <- 3; c <- 5; close(c)\n",
    "    d <- 7; d <- 9; close(d)\n",
    "    time.Sleep(time.Second)\n",
    "}"
   ]
  },
  {
   "cell_type": "code",
   "execution_count": null,
   "metadata": {},
   "outputs": [],
   "source": [
    "!go run closed.go"
   ]
  },
  {
   "cell_type": "markdown",
   "metadata": {
    "slideshow": {
     "slide_type": "subslide"
    }
   },
   "source": [
    "An alternative to closing a channel is to send a dedicated _end of stream_ value. In the following implementation of the Sieve of Eratosthenes, the generating process, `sieve(0)`, sends `EOS` as the last value and terminates. All other processes of the sieve pass `EOS` on once they received it and terminate. The main program starts all processes and waits to receive `EOS`."
   ]
  },
  {
   "cell_type": "code",
   "execution_count": null,
   "metadata": {},
   "outputs": [],
   "source": [
    "%%writefile eratosthenes.go\n",
    "\n",
    "package main\n",
    "\n",
    "const N = 100\n",
    "const L = 15 // length of chain of filters\n",
    "const EOS = -1 // end of stream\n",
    "\n",
    "var c [L] chan int\n",
    "\n",
    "func sieve(i int) {\n",
    "    if i == 0 {\n",
    "        println(\"prime\", 0, 2) // 0-th prime is 2\n",
    "        for j := 3; j < N; j += 2 {c[0] <- j}\n",
    "        c[0] <- EOS\n",
    "    } else {\n",
    "        p := <- c[i - 1]; println(\"prime\", i, p) // i-th prime is p\n",
    "        n := <- c[i - 1]\n",
    "        for n != EOS {\n",
    "            if n % p != 0 {c[i] <- n}\n",
    "            n = <- c[i - 1]\n",
    "        }\n",
    "        c[i] <- EOS\n",
    "    }\n",
    "}\n",
    "func main() {\n",
    "    for i := 0; i < L; i++ {c[i] = make(chan int)}\n",
    "    for i := 0; i < L; i++ {go sieve(i)}\n",
    "    <- c[L - 1] // receiving EOS\n",
    "}"
   ]
  },
  {
   "cell_type": "code",
   "execution_count": null,
   "metadata": {},
   "outputs": [],
   "source": [
    "!go run eratosthenes.go"
   ]
  },
  {
   "cell_type": "markdown",
   "metadata": {
    "slideshow": {
     "slide_type": "slide"
    }
   },
   "source": [
    "## Vector Multiplication\n",
    "\n",
    "Suppose `in` is an `n`-dimensional vector that is to be multiplied by a fixed vector `v` of length `n`. The resulting scalar product is\n",
    "```\n",
    "out = ∑ i ∈ 0 .. n – 1 • v(i) × in(i)\n",
    "```\n",
    "We generalize this to `in` being a channel, delivering a stream of vectors to be multiplied with `v`, and `out` being a channel, accepting a stream of numbers. First, we rewrite `out` using the usual inductive definition of `∑` and auxiliary vector `mid(i)`, for `0 ≤ i ≤ n`:\n",
    "\n",
    "<div style=\"display:table; margin-left:18pt; margin-top:1em transparent white\">\n",
    "  <div style = \"display:table-cell; margin-left:0px\">\n",
    " \n",
    "`mid(0)`  \n",
    "`mid(i + 1)`  \n",
    "`out`  \n",
    "\n",
    "  </div>\n",
    "  <div style = \"display:table-cell\">\n",
    "  \n",
    "`=`  \n",
    "`=`  \n",
    "`=`  \n",
    "\n",
    "  </div>\n",
    "  <div style = \"display:table-cell\">\n",
    "  \n",
    "`0`  \n",
    "`v(i) × in(i) + mid(i)   for 0 ≤ i < n`  \n",
    "`mid(n)`  \n",
    "\n",
    "  </div>\n",
    "</div>\n",
    "\n",
    "For example, for `n = 3`:<br><br>\n",
    "\n",
    "<div class=\"code-img-pair-container\" style = \"margin-left:0px\">\n",
    "  <div style = \"width:68%;margin-top:0px\">\n",
    "\n",
    "<div style=\"display:table\">\n",
    "  <div style = \"display:table-cell; margin-left:0px\">\n",
    " \n",
    "`mid(0)`  \n",
    "`mid(1)`  \n",
    "` `  \n",
    "`mid(2)`  \n",
    "` `  \n",
    "`mid(3)`  \n",
    "` `  \n",
    "`out`\n",
    "\n",
    "  </div>\n",
    "  <div style = \"display:table-cell\">\n",
    "  \n",
    "`=`  \n",
    "`=`  \n",
    "`=`  \n",
    "`=`  \n",
    "`=`  \n",
    "`=`  \n",
    "`=`  \n",
    "`=`  \n",
    "\n",
    "  </div>\n",
    "  <div style = \"display:table-cell\">\n",
    "  \n",
    "`0`  \n",
    "`v(0) × in(0) + mid(0)`  \n",
    "`v(0) × in(0)`  \n",
    "`v(1) × in(1) + mid(1)`  \n",
    "`v(1) × in(1) + v(0) × in(0)`  \n",
    "`v(2) × in(2) + mid(2)`  \n",
    "`v(2) × in(2) + v(1) × in(1) + v(0) × in(0)`  \n",
    "`mid(3)`  \n",
    "\n",
    "  </div>\n",
    "</div>\n",
    "\n",
    "To parallelize the computation, we decide to have `n` processes, each one performing a multiplication and addition:<br><br>\n",
    "\n",
    "```Go\n",
    "func scalarmult(v int, in, mid, out chan int) {\n",
    "    for {out <- v * <- in + <- mid}\n",
    "}\n",
    "```\n",
    "\n",
    "</div>\n",
    "  <div style = \"border-left:30px solid white\">\n",
    "    <img src=\"img/VectorMult.svg\"/>\n",
    "  </div>\n",
    "</div>"
   ]
  },
  {
   "cell_type": "code",
   "execution_count": null,
   "metadata": {
    "slideshow": {
     "slide_type": "subslide"
    }
   },
   "outputs": [],
   "source": [
    "%%writefile vectormult.go\n",
    "package main\n",
    "\n",
    "const N = 4 // dimension of vector\n",
    "const R = 20 // length of input stream\n",
    "\n",
    "var in [N] chan int\n",
    "var out chan int\n",
    "\n",
    "func scalarmult(v int, in, mid, out chan int) {\n",
    "    for {out <- v * <- in + <- mid}\n",
    "}\n",
    "func vectormult(v [N] int) {\n",
    "    var mid [N] chan int\n",
    "    for i := 0; i < N; i++ {mid[i] = make(chan int)}\n",
    "    for i := 0; i < N - 1; i++ {go scalarmult(v[i], in[i], mid[i], mid[i + 1])}\n",
    "    go scalarmult(v[N - 1], in[N - 1], mid[N - 1], out)\n",
    "    for {mid[0] <- 0}\n",
    "}\n",
    "func genstream() {\n",
    "    for r := 0; r < R; r++ {\n",
    "        for i := 0; i < N; i++ {in[i] <- r}\n",
    "    }\n",
    "}\n",
    "func main() {\n",
    "    for i := 0; i < N; i++ {in[i] = make(chan int)}\n",
    "    out = make(chan int)\n",
    "    go genstream()\n",
    "    go vectormult([4]int{3, 7, 8, 5})\n",
    "    for r := 0; r < R; r++ {println(<- out)}\n",
    "}"
   ]
  },
  {
   "cell_type": "code",
   "execution_count": null,
   "metadata": {},
   "outputs": [],
   "source": [
    "!go run vectormult.go"
   ]
  },
  {
   "cell_type": "markdown",
   "metadata": {
    "slideshow": {
     "slide_type": "slide"
    }
   },
   "source": [
    "## Guarded Communication in Go\n",
    "\n",
    "An `if` statement with guarded communication is expressed by the `select` statement:\n",
    "```Go\n",
    "select {\n",
    "    case x = <- c: // receives x from channel c\n",
    "    case y := <- c: // declares y and receives y from channel c\n",
    "    case z, ok = <- c: // succeeds and ok set to false if c is closed\n",
    "    case c <- 7: // send 7 over channel c\n",
    "}\n",
    "```\n",
    "The `select` statement waits until communication on any of the cases is possible. The cases cannot have Boolean expressions. The `select` statement can also have a `default` if no communication is possible.\n",
    "```Go\n",
    "select {\n",
    "    case ...\n",
    "    default: // taken if no communication possible\n",
    "}\n",
    "```\n",
    "The effect of `default` may depend on scheduling and should therefore be used cautiously. The empty `select` statement blocks forever:\n",
    "```Go\n",
    "select {}\n",
    "```"
   ]
  },
  {
   "cell_type": "markdown",
   "metadata": {
    "slideshow": {
     "slide_type": "subslide"
    }
   },
   "source": [
    "_Question:_ What does following program print?"
   ]
  },
  {
   "cell_type": "code",
   "execution_count": null,
   "metadata": {},
   "outputs": [],
   "source": [
    "%%writefile zerosandones.go\n",
    "package main\n",
    "\n",
    "var c chan int\n",
    "\n",
    "func send0and1() {\n",
    "    for {\n",
    "        select {\n",
    "            case c <- 0:\n",
    "            case c <- 1:\n",
    "        }\n",
    "    }\n",
    "}\n",
    "func main() {\n",
    "    c = make(chan int)\n",
    "    go send0and1()\n",
    "    for i := 0; i < 100; i++ {print(<- c)}\n",
    "}"
   ]
  },
  {
   "cell_type": "code",
   "execution_count": null,
   "metadata": {},
   "outputs": [],
   "source": [
    "!go run zerosandones.go"
   ]
  },
  {
   "cell_type": "markdown",
   "metadata": {
    "slideshow": {
     "slide_type": "fragment"
    }
   },
   "source": [
    "The created goroutine nondeterministically sends `0` or `1` over `c`; in Go, nondeterminism is resolved randomly, so the program prints a random sequence of `0`'s and `1`'s."
   ]
  },
  {
   "cell_type": "markdown",
   "metadata": {
    "slideshow": {
     "slide_type": "slide"
    }
   },
   "source": [
    "## Bounded Buffer with Go\n",
    "\n",
    "A bounded buffer can only receive if the buffer is empty, can only send if the buffer is full, and can send or receive if the buffer is in between. As Go does not allow communication statements in guards of loops and does not allow Boolean expressions in `select` statements, a `for` loop with an explicit case analysis by `if` statements is needed:"
   ]
  },
  {
   "cell_type": "code",
   "execution_count": null,
   "metadata": {},
   "outputs": [],
   "source": [
    "%%writefile bufferedcopy.go\n",
    "package main\n",
    "\n",
    "var west, east chan int\n",
    "\n",
    "func copyWestEast() {\n",
    "    const C = 10\n",
    "    var buffer [C] int\n",
    "    in, out, n := 0, 0, 0\n",
    "    for {\n",
    "        if n == C { // buffer full, send to east\n",
    "            east <- buffer[out]; out, n = (out + 1) % C, n - 1\n",
    "        } else if n == 0 { // buffer empty, receive from west\n",
    "            buffer[in] = <- west; in, n = (in + 1) % C, n + 1\n",
    "        } else { // either send to east or receive from west\n",
    "            select {\n",
    "                case east <- buffer[out]: out, n = (out + 1) % C, n - 1\n",
    "                case buffer[in] = <- west: in, n = (in + 1) % C, n + 1\n",
    "            }\n",
    "        }\n",
    "    }\n",
    "}\n",
    "func printToScreen() {\n",
    "    for v := range(east) {print(v, \" \")}\n",
    "}\n",
    "func main() {\n",
    "    west = make(chan int)\n",
    "    east = make(chan int)\n",
    "    go copyWestEast()\n",
    "    go printToScreen()\n",
    "    for i := 0; i < 30; i++ {west <- i}\n",
    "}"
   ]
  },
  {
   "cell_type": "code",
   "execution_count": null,
   "metadata": {},
   "outputs": [],
   "source": [
    "!go run bufferedcopy.go"
   ]
  },
  {
   "cell_type": "markdown",
   "metadata": {
    "slideshow": {
     "slide_type": "fragment"
    }
   },
   "source": [
    "Note that not necessarily all numbers are printed: the program terminates when `main` terminates, even if other goroutines are still running."
   ]
  },
  {
   "cell_type": "markdown",
   "metadata": {
    "slideshow": {
     "slide_type": "slide"
    }
   },
   "source": [
    "## Dining Philosophers in Go\n",
    "\n",
    "Both philosophers and forks are processes (goroutines) communicating via channels:\n",
    "\n",
    "<div class=\"code-img-pair-container\">\n",
    "<div style = \"width:60%\">\n",
    "<ul>\n",
    "<li> forks are shared between two philosophers: they get a request from either their left-hand or their right-hand philosopher\n",
    "<li>\n",
    "\n",
    "there are 5 `right` channels and 5 `left` channels; `right[i]` connects `fork[i]` with `philosopher[i]` and `left[i]` connects `fork[i]` with `philosopher[(i – 1) mod 5])`\n",
    "\n",
    "<li>\n",
    "\n",
    "fork `i` receives acquire and release notifications through `left[i]` and `right[i]`\n",
    "\n",
    "<li>\n",
    "\n",
    "philosopher `i` picks up the forks by sending a notification to its left-hand fork, fork `i`, through that fork's right-hand channel, and then to its right-hand fork, fork `(i + 1) mod 5`, through that fork's left-hand channel\n",
    "\n",
    "<li> philosophers put down the forks by sending a notification again over to their left-hand fork and then their right-hand fork\n",
    "<li> when forks are released by the philosopher who acquired it, they are ready to accept a new request again.\n",
    "</ul>\n",
    "</div>\n",
    "    <div style = \"border-left:0px solid white\">\n",
    "        <img src=\"img/DiningPhilosophers.svg\"/>\n",
    "    </div>\n",
    "</div>\n",
    "\n",
    "The channels are only used for synchronization, no data is being sent. As channel declarations in Go always require a type, `bool` is used and an arbitrary value is sent. The blocking `select {}` statement at the end of `main` prevents the program from terminating immediately."
   ]
  },
  {
   "cell_type": "code",
   "execution_count": null,
   "metadata": {},
   "outputs": [],
   "source": [
    "%%writefile philosophers.go\n",
    "package main\n",
    "import (\"time\"; \"math/rand\")\n",
    "\n",
    "var left, right [5] chan bool\n",
    "var ph [5] string\n",
    "\n",
    "func philosopherState(i int, s string) {\n",
    "    ph[i] = s; println(ph[0], ph[1], ph[2], ph[3], ph[4])\n",
    "    time.Sleep(time.Second * time.Duration(rand.Int() % 4)) // sleep between 0 and 3 sec\n",
    "}\n",
    "func fork(i int) {\n",
    "    for {\n",
    "        select {\n",
    "            case <-left[i]: <- left[i]\n",
    "            case <-right[i]: <- right[i]\n",
    "        }\n",
    "    }\n",
    "}\n",
    "func philosopher(i int) {\n",
    "    for {\n",
    "        philosopherState(i, \"thinks\")\n",
    "        right[i] <- true; left[(i + 1) % 5] <- true\n",
    "        philosopherState(i, \"eats  \")\n",
    "        right[i] <- false; left[(i + 1) % 5] <- false\n",
    "    }\n",
    "}\n",
    "func main() {\n",
    "    for i := 0; i < 5; i++ {left[i], right[i], ph[i] = make(chan bool), make(chan bool), \"thinks\"}\n",
    "    for i := 0; i < 5; i++ {go fork(i); go philosopher(i)}\n",
    "    select {}\n",
    "}"
   ]
  },
  {
   "cell_type": "markdown",
   "metadata": {},
   "source": [
    "_Question:_ Will the program deadlock or not?"
   ]
  },
  {
   "cell_type": "code",
   "execution_count": null,
   "metadata": {},
   "outputs": [],
   "source": [
    "!go run philosophers.go"
   ]
  },
  {
   "cell_type": "markdown",
   "metadata": {
    "slideshow": {
     "slide_type": "slide"
    }
   },
   "source": [
    "## Asynchronous Message Passing\n",
    "\n",
    "In asynchronous message passing channels can store messages. The send operation does not block if the channel can store the sent message, irrespective if the receiver is ready or not. The receive operation blocks only if the channel is empty. The channel can have an (idealized) _unbounded_ capacity or can be bounded. We consider channels with bounded capacity, as an unbounded channel is a bounded channel with capacity `∞`. The notation is\n",
    "```\n",
    "var c: channel[T](C)\n",
    "```\n",
    "where `T` is a type or a list of types and `C` is a positive integer, the capacity. For example:\n",
    "```\n",
    "var requests: channel[string](100)\n",
    "```\n",
    "[Erlang](http://erlang.org/download/erlang-book-part1.pdf) uses asychronous message passing as the fundamental communication construct."
   ]
  },
  {
   "cell_type": "markdown",
   "metadata": {
    "slideshow": {
     "slide_type": "subslide"
    }
   },
   "source": [
    "Formally, an asynchronous channel `var c: channel[T](C)` is like a variable `c` of type `seq[T]`; sending and receiving simply appends to the sequence and removes the first element, provided that the sequence is not full or not empty.\n",
    "\n",
    "**Definition of asynchronous communication:**\n",
    "\n",
    "<div style=\"display:table; border-top:1em solid white\">\n",
    "  <div style = \"display:table-cell; border-left:24px solid white\">\n",
    " \n",
    "`var c: channel[T](C)`  \n",
    "`c ! E`  \n",
    "`c ? v`  \n",
    "\n",
    "  </div>\n",
    "  <div style = \"display:table-cell; border-left:24px solid white\">\n",
    "  \n",
    "`=`  \n",
    "`=`  \n",
    "`=`  \n",
    "\n",
    "  </div>\n",
    "  <div style = \"display:table-cell; border-left:24px solid white\">\n",
    "  \n",
    "`var c: seq[T] = []`  \n",
    "`⟨#c < C → c := c + [E]⟩`  \n",
    "`⟨#c > 0 → v, c := c(0), c[1:]⟩`  \n",
    "\n",
    "  </div>\n",
    "</div>\n",
    "\n",
    "These definitions can be used to reason about programs with channels as about any programs with global variables (the channels being the global variables)."
   ]
  },
  {
   "cell_type": "markdown",
   "metadata": {
    "slideshow": {
     "slide_type": "subslide"
    }
   },
   "source": [
    "```\n",
    "var c: channel[T](C)\n",
    "```\n",
    "<div style=\"display:table\">\n",
    "  <div style = \"display:table-cell\" >\n",
    "\n",
    "```algorithm\n",
    "process producer\n",
    "    var a: array 0 .. N – 1 of T = …\n",
    "    var p: integer = 0\n",
    "    while p < N do\n",
    "        c ! a(p)\n",
    "        p := p + 1\n",
    "```\n",
    "\n",
    "  </div>\n",
    "  <div style = \"display:table-cell; border-left:0px solid white\">\n",
    "\n",
    "```algorithm\n",
    "process consumer\n",
    "    var b: array 0 .. N – 1 of T = …\n",
    "    var q: integer = 0\n",
    "    while q < N do\n",
    "        c ? b(q)\n",
    "        q := q + 1\n",
    "```\n",
    "\n",
    "  </div>\n",
    "</div>"
   ]
  },
  {
   "cell_type": "markdown",
   "metadata": {
    "slideshow": {
     "slide_type": "slide"
    }
   },
   "source": [
    "## Laws of Programs\n",
    "\n",
    "Programs are mathematical structures: the operators and constants of concurrent programs are `;`, `‖`, `⫿`, `stop`, `skip`, `⟨…⟩`, `→`, `:=` . The \"algebraic style\" of reasoning that is common for numbers, sets, booleans is the motivation for [process algebras](http://www.cs.vu.nl/~wanf/BOOKS/procalg.pdf). Let `S`, `T`, `U` be statements, `v`, `w` disjoint list of variables, and `B`, `E`, `F` expressions.\n",
    "\n",
    "Sequential composition is associative (allowing to leave out parenthesis), has `skip` as unit, and `stop` as left-zero:\n",
    "\n",
    "<span style = \"float:right\">(L1)</span>\n",
    "```\n",
    "(S ; T) ; U   =   S ; (T ; U)\n",
    "```\n",
    "<span style = \"float:right\">(L2)</span>\n",
    "```\n",
    "S ; skip   =   S   =   skip ; S\n",
    "```\n",
    "<span style = \"float:right\">(L3)</span>\n",
    "```\n",
    "stop ; S   =   stop\n",
    "```\n",
    "\n",
    "_Question:_ Is `stop` also right-zero, i.e. is `S ; stop` equal to `stop`?"
   ]
  },
  {
   "cell_type": "markdown",
   "metadata": {
    "slideshow": {
     "slide_type": "fragment"
    }
   },
   "source": [
    "If `S` communicates with other processes, `S ; stop  =  stop` does not hold. In particular, if `S` keeps communicating and does not terminate, we would have rather `S ; stop  =  S`."
   ]
  },
  {
   "cell_type": "markdown",
   "metadata": {
    "slideshow": {
     "slide_type": "subslide"
    }
   },
   "source": [
    "Parallel composition is commutative, associative, and has `skip` as unit:\n",
    "\n",
    "<span style = \"float:right\">(L4)</span>\n",
    "```\n",
    "S ‖ T   =   T ‖ S\n",
    "```\n",
    "<span style = \"float:right\">(L5)</span>\n",
    "```\n",
    "(S ‖ T) ‖ U   =   S ‖ (T ‖ U)\n",
    "```\n",
    "<span style = \"float:right\">(L6)</span>\n",
    "```\n",
    "S ‖ skip   =   S\n",
    "```\n",
    "_Question:_ Is `stop` also unit of parallel composition, i.e. is `S ‖ stop` equal to `S`, or is `stop` zero of parallel composition, i.e. is `S ‖ stop` equal to `stop`?"
   ]
  },
  {
   "cell_type": "markdown",
   "metadata": {
    "slideshow": {
     "slide_type": "fragment"
    }
   },
   "source": [
    "As `stop` does not terminate, neither will `S ‖ stop`, so that is not equal to `S` for terminating `S`. If `S` communicates, then `S ‖ stop` is also not equal to `stop`. "
   ]
  },
  {
   "cell_type": "markdown",
   "metadata": {
    "slideshow": {
     "slide_type": "subslide"
    }
   },
   "source": [
    "Nondeterministic choice is idempotent, commutative, associative, and has `stop` as unit:\n",
    "\n",
    "<span style = \"float:right\">(L7)</span>\n",
    "```\n",
    "S ⫿ S   =   S\n",
    "```\n",
    "<span style = \"float:right\">(L8)</span>\n",
    "```\n",
    "S ⫿ T   =   T ⫿ S\n",
    "```\n",
    "<span style = \"float:right\">(L9)</span>\n",
    "```\n",
    "(S ⫿ T) ⫿ U   =   S ⫿ (T ⫿ U)\n",
    "```\n",
    "<span style = \"float:right\">(L10)</span>\n",
    "```\n",
    "S ⫿ stop   =   S\n",
    "```\n",
    "\n",
    "_Question:_ Is parallel composition also idempotent, i.e. is `S ‖ S` equal to `S`?"
   ]
  },
  {
   "cell_type": "markdown",
   "metadata": {
    "slideshow": {
     "slide_type": "fragment"
    }
   },
   "source": [
    "If `S  =  x := x + 1`, then `S ‖ S` is not the same as `S`, so parallel composition is not idempotent in general. Sequential composition is not idempotent either. However, idempotency plays a role in the sequential composition of [REST API calls](http://restcookbook.com/HTTP%20Methods/idempotency/)."
   ]
  },
  {
   "cell_type": "markdown",
   "metadata": {
    "slideshow": {
     "slide_type": "subslide"
    }
   },
   "source": [
    "Sequential composition distributes over nondeterministic choice to the left: first choosing between `S` and `T` and the continuing with `U` is the same as choosing between `S` followed by `U` and `T` followed by `U`:\n",
    "\n",
    "<span style = \"float:right\">(L11)</span>\n",
    "```\n",
    "(S ⫿ T) ; U   =   (S ; U) ⫿ (T ; U)\n",
    "```\n",
    "\n",
    "_Question:_ Does sequential composition distribute over nondeterministic choice to the right, i.e. is `S ; (T ⫿ U)` the  same as `(S ; T) ⫿ (S ; U)`?"
   ]
  },
  {
   "cell_type": "markdown",
   "metadata": {
    "slideshow": {
     "slide_type": "fragment"
    }
   },
   "source": [
    "For example `S ; (T ⫿ stop)` is the same as `S ; T`, but is different from `(S ; T) ⫿ (S ; stop)` in case `S` communicates via global variables with another process."
   ]
  },
  {
   "cell_type": "markdown",
   "metadata": {
    "slideshow": {
     "slide_type": "subslide"
    }
   },
   "source": [
    "Parallel composition also distributes over nondeterministic choice. As parallel composition is commutative, we need to give only one direction:\n",
    "\n",
    "<span style = \"float:right\">(L12)</span>\n",
    "```\n",
    "S ‖ (T ⫿ U)   =   (S ‖ T) ⫿ (S ‖ U)\n",
    "```\n",
    "_Question:_ Does nondeterministic choice also distribute over parallel composition, i.e. is `S ⫿ (T ‖ U)` equal to `(S ⫿ T) ‖ (S ⫿ U)`?"
   ]
  },
  {
   "cell_type": "markdown",
   "metadata": {
    "slideshow": {
     "slide_type": "fragment"
    }
   },
   "source": [
    "In `S ⫿ (T ‖ U)`, statement `S` may be executed only once, in `(S ⫿ T) ‖ (S ⫿ U)` is may be executed twice, so they cannot be the same."
   ]
  },
  {
   "cell_type": "markdown",
   "metadata": {
    "slideshow": {
     "slide_type": "subslide"
    }
   },
   "source": [
    "Parallel composition relates to sequential composition and nondeterministic choice as follows. In the case both operands are atomic, their parallel composition is the same as executing them in any order:\n",
    "\n",
    "<span style = \"float:right\">(L13)</span>\n",
    "```\n",
    "⟨S⟩ ‖ ⟨T⟩   =   (⟨S⟩ ; ⟨T⟩) ⫿ (⟨T⟩ ; ⟨S⟩)\n",
    "```\n",
    "\n",
    "_Question:_ Above, `⟨S⟩` and `⟨T⟩` are atomic. Give an example why in general `S ‖ T  =  (S ; T) ⫿ (T ; S)` does not hold!"
   ]
  },
  {
   "cell_type": "markdown",
   "metadata": {
    "slideshow": {
     "slide_type": "fragment"
    }
   },
   "source": [
    "Consider `S  =  T  =  x := x + 1`. Then `S ‖ T` will increment `x` by `1` or `2`, but  `(S ; T) ⫿ (T ; S)` will always increment `x` by `2`."
   ]
  },
  {
   "cell_type": "markdown",
   "metadata": {
    "slideshow": {
     "slide_type": "subslide"
    }
   },
   "source": [
    "In case both operands start with an atomic statement, their parallel composition would nondeterministically execute one of the atomic statements first and then the rest:\n",
    "\n",
    "<span style = \"float:right\">(L14)</span>\n",
    "```\n",
    "(⟨S⟩ ; T) ‖ (⟨U⟩ ; V)   =   (⟨S⟩ ; (T ‖ ⟨U⟩ ; V)) ⫿ (⟨U⟩ ; (⟨S⟩ ; T) ‖ V))\n",
    "```\n",
    "\n",
    "A guarded atomic statement with a true guard is always executed and with a false guard never executed:\n",
    "\n",
    "<span style = \"float:right\">(L15)</span>\n",
    "```\n",
    "⟨true → S⟩   =   ⟨S⟩\n",
    "```\n",
    "<span style = \"float:right\">(L16)</span>\n",
    "```\n",
    "⟨false → S⟩   =   stop\n",
    "```"
   ]
  },
  {
   "cell_type": "markdown",
   "metadata": {
    "slideshow": {
     "slide_type": "subslide"
    }
   },
   "source": [
    "If a variable is declared but not used, the declaration can be omitted:\n",
    "\n",
    "<span style = \"float:right\">(L17)</span>\n",
    "```\n",
    "var v: V · S   =   S   provided v does not occur in S\n",
    "```\n",
    "\n",
    "If a variable is only assigned and not used, the assignment and the declaration can be omitted:\n",
    "\n",
    "<span style = \"float:right\">(L18)</span>\n",
    "```\n",
    "var v: V · v, w := E, F   =   w := F\n",
    "```\n",
    "\n",
    "Declaring an initialized variable is the same as declaring an uninitialized variable and the initializing it:\n",
    "\n",
    "<span style = \"float:right\">(L19)</span>\n",
    "```\n",
    "var v: V = E ; S   =   var v: V · v := E ; S\n",
    "```\n",
    "\n",
    "More generally, if initialized a variable is declared and then assigned a new value, the initialization can be left out if the initialization is \"merged\" into the assignment:\n",
    "\n",
    "<span style = \"float:right\">(L20)</span>\n",
    "```\n",
    "var v: V = E · v := F ; S   =   var v: V · v := F[v := E] ; S\n",
    "```\n",
    "\n",
    "For example, `var x: integer = 3 · x := x + 1 ; S` is the same as `var x: integer = 3 · x := (x + 1)[x := 3] ; S`, which in turn is the same as `var x: integer · x := 4 ; S`. This can be further generalized for an atomic guarded assignment statement:\n",
    "\n",
    "<span style = \"float:right\">(L21)</span>\n",
    "```\n",
    "var v: V = E · ⟨B → v := F⟩ ; S   =   var v: V · ⟨B[v := E] → v := F[v := E]⟩ ; S\n",
    "```\n",
    "\n",
    "Declaring a variable global to two nondeterministic alternatives is the same as declaring it local in each of the alternatives:\n",
    "\n",
    "<span style = \"float:right\">(L22)</span>\n",
    "```\n",
    "var v: V = E · (S ⫿ T)   =   (var v: V = E · S) ⫿ (var v: V = E · T)\n",
    "```"
   ]
  },
  {
   "cell_type": "markdown",
   "metadata": {
    "slideshow": {
     "slide_type": "subslide"
    }
   },
   "source": [
    "If the goal of a distributed system is to achieve something what could be done without distribution, then these laws can in principle be used for showing the equivalence. For example, we can prove that\n",
    "```\n",
    "var c: channel[integer](1) · c ! 7 ‖ c ? x   =   x := 7\n",
    "```\n",
    "as follows:\n",
    "```\n",
    "    var c: channel[integer](1) · c ! 7 ‖ c ? x\n",
    "```\n",
    "```\n",
    "=        «by definitions»\n",
    "```\n",
    "```\n",
    "    var c = [] · ⟨#c < 1 → c := c + [7]⟩ ‖ ⟨#c > 0 → x, c := c(0), c[1:]⟩\n",
    "```\n",
    "```\n",
    "=        «by (L13)»\n",
    "```\n",
    "```\n",
    "    var c = [] · \n",
    "        (⟨#c < 1 → c := c + [7]⟩ ; ⟨#c > 0 → x, c := c(0), c[1:]⟩) ⫿\n",
    "        (⟨#c > 0 → x, c := c(0), c[1:]⟩ ; ⟨#c < 1 → c := c + [7]⟩)\n",
    "```\n",
    "```\n",
    "=        «by (L22)»\n",
    "```\n",
    "```\n",
    "    (var c = [] · ⟨#c < 1 → c := c + [7]⟩ ; ⟨#c > 0 → x, c := c(0), c[1:]⟩) ⫿\n",
    "    (var c = [] · ⟨#c > 0 → x, c := c(0), c[1:]⟩ ; ⟨#c < 1 → c := c + [7]⟩)\n",
    "```\n",
    "```\n",
    "=        «by (L21)»\n",
    "```\n",
    "```\n",
    "    (var c: seq[integer] · ⟨#[] < 1 → c := [] + [7]⟩ ; ⟨#c > 0 → x, c := c(0), c[1:]⟩) ⫿\n",
    "    (var c: seq[integer] · ⟨#[] > 0 → x, c := [](0), [][1:]⟩ ; ⟨#c < 1 → c := c + [7]⟩)\n",
    "```\n",
    "```\n",
    "=        «by (L15), (L16), simplifications»\n",
    "```\n",
    "```\n",
    "    (var c: seq[integer] · c := [7] ; ⟨#c > 0 → x, c := c(0), c[1:]⟩) ⫿\n",
    "    (var c: seq[integer] · stop ; ⟨#c < 1 → c := c + [7]⟩)\n",
    "```\n",
    "```\n",
    "=        «by (L3), (L17)»\n",
    "```\n",
    "```\n",
    "    (var c: seq[integer] · c := [7] ; ⟨#c > 0 → x, c := c(0), c[1:]⟩) ⫿\n",
    "    stop\n",
    "```\n",
    "```\n",
    "=        «by (L10), (L19)»\n",
    "```\n",
    "```\n",
    "    var c = [7] · ⟨#c > 0 → x, c := c(0), c[1:]⟩\n",
    "```\n",
    "```\n",
    "=        «by (L21)»\n",
    "```\n",
    "```\n",
    "    var c: seq[integer] · ⟨#[7] > 0 → x, c := [7](0), [7][1:]⟩\n",
    "```\n",
    "```\n",
    "=        «by (L15), simplification»\n",
    "```\n",
    "```\n",
    "    var c: seq[integer] · x, c := 7, []\n",
    "```\n",
    "```\n",
    "=        «by (L18)»\n",
    "```\n",
    "```\n",
    "    x := 7\n",
    "```"
   ]
  },
  {
   "cell_type": "markdown",
   "metadata": {
    "slideshow": {
     "slide_type": "subslide"
    }
   },
   "source": [
    "## Synchronous vs Asynchronous Channels\n",
    "\n",
    "A synchronous channel `c` can be defined in terms of two asynchronous channels of capacity `1`, one for sending the data and the other for acknowledgement of receipt:\n",
    "\n",
    "<div style=\"display:table; border-top:1em solid white\">\n",
    "<div style = \"display:table-cell; border-left:24px solid white\">\n",
    "  \n",
    "`var c: channel[T]`\n",
    " <br><br>\n",
    "`c ! E`  \n",
    "`c ? v`  \n",
    "\n",
    "</div>\n",
    "<div style = \"display:table-cell; border-left:24px solid white\" >\n",
    "  \n",
    "`=`  \n",
    "<br>\n",
    "`=`  \n",
    "`=`  \n",
    "\n",
    "</div>\n",
    "<div style = \"display:table-cell; border-left:24px solid white\" >\n",
    "  \n",
    "`var cs: channel[T](1)`  \n",
    "`var ca: channel[](1)`  \n",
    "`cs ! E ; ca ?`  \n",
    "`cs ? v ; ca !`\n",
    "\n",
    "</div>\n",
    "</div>"
   ]
  },
  {
   "cell_type": "markdown",
   "metadata": {
    "slideshow": {
     "slide_type": "subslide"
    }
   },
   "source": [
    "In turn, an asynchronous channel `c` can be defined in terms of two synchronous channels `cs`, `cr`, one for sending and one for receiving, with a buffer process `cb` in between:\n",
    "\n",
    "<div style=\"display:table; border-top:1em solid white\">\n",
    "<div style = \"display:table-cell; border-left:24px solid white\">\n",
    "\n",
    "`var c: channel[T](C)`  \n",
    "`c ! E`  \n",
    "`c ? v`  \n",
    "\n",
    "</div>\n",
    "<div style = \"display:table-cell; border-left:24px solid white\" >\n",
    "\n",
    "`=`  \n",
    "`=`  \n",
    "`=`  \n",
    "\n",
    "</div>\n",
    "<div style = \"display:table-cell; border-left:24px solid white\" >\n",
    "\n",
    "`var cs, cr: channel[T]`  \n",
    "`cs ! E`  \n",
    "`cr ? v`  \n",
    "```algorithm\n",
    "process cb  \n",
    "    var b: seq[T] = []\n",
    "    var x: T\n",
    "    do #b < C; cs ? x → b := b + [x]\n",
    "     ⫿  #b > 0; cr ! b(0) → b := b[1:]\n",
    "```\n",
    "\n",
    "</div>\n",
    "</div>\n",
    "<span></span>\n",
    "\n",
    "The buffer process can be implemented as a circular array, as earlier. To conclude, this shows that synchronous and asynchronous channels are equivalent. While some algorithms work with both synchronous and asynchronous channels, they do lead to a different programming style and some algorithms work only with the one and not the other."
   ]
  },
  {
   "cell_type": "markdown",
   "metadata": {
    "slideshow": {
     "slide_type": "slide"
    }
   },
   "source": [
    "## Sorting Network\n",
    "\n",
    "Suppose we have an incoming stream of `N` elements and want to output them sorted on a single stream. An approach for that is a _merge network:_ each process merges two incoming streams of numbers, picking the largest it sees on its input channels and forwards that to its output channels. The processes are arranged in a tree-like structure:\n",
    "\n",
    "<div class=\"code-img-pair-container\">\n",
    "  <div>\n",
    "    <img src=\"img/Merger.svg\"/>\n",
    "  </div>\n",
    "</div>\n",
    "<span></span>\n",
    "\n",
    "For sorting `N` numbers, `N - 1` processes and `2N - 1` channels are needed. The output will be a stream of `N` sorted numbers. We assume that each merger process appends `EOS` to its output once it receives `EOS` on both inputs. Hence the output will have `EOS` between `N` sorted numbers. In turn, the input values have to be a value followed by `EOS`."
   ]
  },
  {
   "cell_type": "code",
   "execution_count": null,
   "metadata": {
    "slideshow": {
     "slide_type": "subslide"
    }
   },
   "outputs": [],
   "source": [
    "%%writefile sorter.go\n",
    "\n",
    "package main\n",
    "\n",
    "import (\"fmt\"; \"time\"; \"math/rand\")\n",
    "\n",
    "const EOS = -1\n",
    "\n",
    "const N = 1 << 10  // N = 2**16\n",
    "const R = 100     // 1000 repetitions\n",
    "const C = 1000     // 100 capacity of channels\n",
    "\n",
    "func merger(in1, in2 chan int, out chan int) {\n",
    "    for {\n",
    "        v1, v2 := <- in1, <- in2\n",
    "        for v1 != EOS || v2 != EOS {\n",
    "            if v1 != EOS && v2 != EOS {\n",
    "                if v1 <= v2 {out <- v1; v1 = <- in1\n",
    "                } else {out <- v2; v2 = <- in2\n",
    "                }\n",
    "            } else if v1 != EOS {\n",
    "                out <- v1; v1 = <- in1\n",
    "            } else {\n",
    "                out <- v2; v2 = <- in2\n",
    "            }\n",
    "        }\n",
    "        out <- EOS\n",
    "    }\n",
    "}\n",
    "\n",
    "func main() {\n",
    "    start := time.Now()\n",
    "    \n",
    "    var c [2 * N] chan int\n",
    "    for i := range c {c[i] = make(chan int)}\n",
    "    \n",
    "    for i := 1; i < N; i++ {go merger(c[i * 2], c[i * 2 + 1], c[i])}\n",
    "\n",
    "    go func () {   \n",
    "        for j := 0; j < R; j++ {\n",
    "            for i := N; i < 2 * N; i++ {c[i] <- rand.Int() % 100; c[i] <- EOS} \n",
    "        }\n",
    "    } ()\n",
    "    \n",
    "    for j := 0; j < R * (N + 1); j++ {\n",
    "        v := <- c[1] // comment out next line for timing\n",
    "        if v == EOS {// println()\n",
    "        } else {// print(v, \" \")\n",
    "        }\n",
    "    }\n",
    "    \n",
    "    fmt.Println(time.Since(start))\n",
    "}"
   ]
  },
  {
   "cell_type": "code",
   "execution_count": null,
   "metadata": {
    "scrolled": true
   },
   "outputs": [],
   "source": [
    "!go run sorter.go"
   ]
  },
  {
   "cell_type": "markdown",
   "metadata": {},
   "source": [
    "_Question:_ Measure the execution time for various values of `N`, `R`, and `C`. What do you observe?"
   ]
  },
  {
   "cell_type": "markdown",
   "metadata": {
    "slideshow": {
     "slide_type": "fragment"
    }
   },
   "source": [
    "- When doubling `N`, the depth of the sorting network increases only by one, so the increase in execution time for large values of `N` should be marginal if all goroutines can run in parallel. However, the goroutines are distributed over siginificantly fewer processor cores than goroutines, so doubling their number doubles the execution time.\n",
    "- When varying `R`, the execution time increases proportionally, as expected. \n",
    "- When varying `C`, in general larger buffers lead to shorter execution times as the processors have to switch less often between the goroutines. However, if the buffers are very large, then again memory allocation and paging may slow down the execution."
   ]
  },
  {
   "cell_type": "markdown",
   "metadata": {},
   "source": [
    "_Question:_ Can the channels be made sychronous?"
   ]
  },
  {
   "cell_type": "markdown",
   "metadata": {},
   "source": [
    "The network will deadlock with synchronous channels: starting with `i = N`, two values are attempted to be sent to the leftmost  merger, `c[i] <- rand.Int() % 100` and  `c[i] <- EOS`, then `c[i + 1] <- rand.Int() % 100` and  `c[i + 1] <- EOS`. However, the merger goroutine will read from `c[i]` and `c[i + 1]` first before reading from `c[i]` again, so a deadlock occurs."
   ]
  },
  {
   "cell_type": "markdown",
   "metadata": {
    "slideshow": {
     "slide_type": "slide"
    }
   },
   "source": [
    "## Active Monitors\n",
    "\n",
    "Monitors are resource managers consisting of private variables and public procedures. Monitors can be implemented by processes communicating via messages. This allows for _active monitors_ that can perform operations between requests. For example, equivalent formulations of a server are:\n",
    "\n",
    "<div style=\"display:table\">\n",
    "  <div style = \"display:table-cell\" >\n",
    "\n",
    "```algorithm\n",
    "monitor Counter\n",
    "    var a: integer = 0\n",
    "    var e: boolean = true\n",
    "    {e = even(a)}\n",
    "    procedure inc()\n",
    "        a := a + 1; e := ¬e\n",
    "    procedure even() → (r: boolean)\n",
    "        r := e\n",
    "```\n",
    "\n",
    "  </div>\n",
    "  <div style = \"display:table-cell; border-left:0px solid white\">\n",
    "\n",
    "```algorithm\n",
    "var inc: channel[]\n",
    "var even: channel[channel[boolean]]\n",
    "process counter\n",
    "    var a: integer = 0\n",
    "    var e: boolean = true\n",
    "    {e = even(a)}\n",
    "    do inc ? → a := a + 1; e := ¬e\n",
    "      ⫿  even ? r → r ! e\n",
    "```\n",
    "\n",
    "  </div>\n",
    "</div>\n",
    "\n",
    "The function `even(a)`, as used in the invariants, is defined as `a mod 2 = 0` and is distinct from the procedure `even` and the channel `even`. Note that the invariant of monitor `Counter` is identical to the loop invariant in the process `counter`. The corresponding clients are:\n",
    "\n",
    "<div style=\"display:table\">\n",
    "  <div style = \"display:table-cell\" >\n",
    "\n",
    "```\n",
    "Counter.inc()\n",
    "b ← Counter.even()\n",
    "```\n",
    "\n",
    "  </div>\n",
    "  <div style = \"display:table-cell; border-left:100px solid white\">\n",
    "\n",
    "```\n",
    "var res: channel[boolean]\n",
    "inc !\n",
    "even ! res\n",
    "res ? b\n",
    "```\n",
    "\n",
    "  </div>\n",
    "</div>\n",
    "<span></span>"
   ]
  },
  {
   "cell_type": "markdown",
   "metadata": {},
   "source": [
    "_Question:_ Can request or reply channels be buffered?"
   ]
  },
  {
   "cell_type": "markdown",
   "metadata": {
    "slideshow": {
     "slide_type": "fragment"
    }
   },
   "source": [
    "Channels can be either."
   ]
  },
  {
   "cell_type": "markdown",
   "metadata": {
    "slideshow": {
     "slide_type": "slide"
    }
   },
   "source": [
    "## Resource Allocator in Go\n",
    "\n",
    "Suppose a fixed number of resources are to be shared among a larger number of clients who repeatedly need one of the resources, but do not care which they use (say, frequencies for transmission). Each client cyclically requests a resource from the allocator, uses it, and then releases it. Requesting and releasing is done by sending messages to the allocator process. The request includes the channel on which the available resources is sent back to the client."
   ]
  },
  {
   "cell_type": "code",
   "execution_count": null,
   "metadata": {},
   "outputs": [],
   "source": [
    "%%writefile allocator.go\n",
    "package main\n",
    "\n",
    "import (\"time\"; \"math/rand\")\n",
    "\n",
    "func allocator(capacity int, request chan chan int, release chan int) {\n",
    "    avail := make([]bool, capacity)\n",
    "    for i := 0; i < capacity; i++ {avail[i] = true}\n",
    "    next := 0\n",
    "    // invariant: 0 <= next && (next < capacity && avail[next] ||\n",
    "    //              (next == capacity && !avail[0] && ... && !avail[capacity - 1]))\n",
    "    for {\n",
    "        if next < capacity { // avail[next]\n",
    "            select {\n",
    "            case reply := <- request: {reply <- next; avail[next] = false}\n",
    "            case unit := <- release: avail[unit] = true\n",
    "            }\n",
    "        } else { // !avail[0] && ... && !avail[capacity - 1]\n",
    "            unit := <- release; avail[unit] = true\n",
    "        }\n",
    "        // now comes the computation that takes place between client communication\n",
    "        for i := 0; i < capacity; i++ {\n",
    "            if avail[i] {print(\" \")} else {print(\"X\")}\n",
    "        }\n",
    "        println();\n",
    "        next = 0; for next < capacity && !avail[next] {next++}\n",
    "    }\n",
    "}\n",
    "\n",
    "func client(i int, request chan chan int, release chan int) {\n",
    "    reply := make(chan int)\n",
    "    for {\n",
    "        request <- reply; unit := <- reply\n",
    "        time.Sleep(time.Second * time.Duration(rand.Int() % 5)) // sleep between 0 and 4 sec\n",
    "        release <- unit\n",
    "    }\n",
    "}\n",
    "func main() {\n",
    "    request, release := make(chan chan int), make(chan int)\n",
    "    go allocator(5, request, release) // 5 resources\n",
    "    for i := 0; i < 10; i++ {go client(i, request, release)} // 10 clients\n",
    "    time.Sleep(time.Second * 2)\n",
    "}"
   ]
  },
  {
   "cell_type": "code",
   "execution_count": null,
   "metadata": {},
   "outputs": [],
   "source": [
    "!go run allocator.go"
   ]
  },
  {
   "cell_type": "markdown",
   "metadata": {
    "slideshow": {
     "slide_type": "fragment"
    }
   },
   "source": [
    "\n",
    "\"Active objects\" that communicate via asynchronous messages are also known as _actors_. They are used by [Twitter](https://redfin.engineering/engineer-to-engineer-talk-how-and-why-twitter-uses-scala), the [Halo 4 game engine](http://www.infoq.com/news/2015/03/halo4-actor-model), the [Facebook Chat system](https://www.facebook.com/note.php?note_id=14218138919). Actors are the basis of Microsoft's [Orleans framework](https://dotnet.github.io/orleans/)\n",
    "\n",
    "Related to actors is [asynchrony](https://www.dartlang.org/guides/language/language-tour#asynchrony-support) in Google's Dart language via procedures (called functions) that return immediately without completing."
   ]
  },
  {
   "cell_type": "markdown",
   "metadata": {
    "slideshow": {
     "slide_type": "slide"
    }
   },
   "source": [
    "## Timing\n",
    "\n",
    "A timed event, like waiting for 3 seconds, can be signalled over a channel: an auxiliary process (goroutine) waits for 3 seconds and then signals. A _timeout_ when waiting for a desired event is expressed by nondeterministically waiting for the desired event or the timeout event. In the following example, input from a keyboard is sent over a channel; if no input is provided within 3 seconds, a timeout occurs:"
   ]
  },
  {
   "cell_type": "code",
   "execution_count": null,
   "metadata": {},
   "outputs": [],
   "source": [
    "%%writefile keyboard.go\n",
    "package main\n",
    "import (\"time\"; \"fmt\")\n",
    "\n",
    "func main() {\n",
    "    abort, enter := make (chan bool), make(chan string)\n",
    "    go func() {\n",
    "        var s string\n",
    "        fmt.Scanln(&s)\n",
    "        enter <- s\n",
    "    } ()\n",
    "    go func() {\n",
    "        time.Sleep(3 * time.Second)\n",
    "        abort <- true\n",
    "    } ()\n",
    "    fmt.Println(\"Enter within 3 seconds:\")\n",
    "    select {\n",
    "        case s := <- enter: fmt.Println(\"You entered:\", s)\n",
    "        case <- abort: fmt.Println(\"Timeout\")\n",
    "    }\n",
    "}"
   ]
  },
  {
   "cell_type": "code",
   "execution_count": null,
   "metadata": {},
   "outputs": [],
   "source": [
    "!go run keyboard.go"
   ]
  },
  {
   "cell_type": "markdown",
   "metadata": {},
   "source": [
    "_Note:_ Since the program accepts input from the keyboard, it cannot be run within Jupyter; use `go run keyboard.go` in a terminal. The example also illustrates textual input / output with the `fmt` package."
   ]
  },
  {
   "cell_type": "markdown",
   "metadata": {
    "slideshow": {
     "slide_type": "slide"
    }
   },
   "source": [
    "Suppose a worker process has to run a job every second but may fail to finish within a second. A _watchdog timer_ observes if the worker completes each round within the given time. If there is a timeout, the program below simply terminates. "
   ]
  },
  {
   "cell_type": "code",
   "execution_count": null,
   "metadata": {},
   "outputs": [],
   "source": [
    "%%writefile timeout.go\n",
    "package main\n",
    "import (\"time\"; \"math/rand\"; \"fmt\")\n",
    "\n",
    "var tick chan bool\n",
    "var done chan bool\n",
    "\n",
    "func ticker() {\n",
    "    for {\n",
    "        time.Sleep(time.Second)\n",
    "        tick <- true\n",
    "        fmt.Println(time.Now())\n",
    "    }\n",
    "}\n",
    "func worker() {\n",
    "    for { // \"work\" randomly 0 to 2 sec\n",
    "        time.Sleep(time.Second * time.Duration(rand.Int() % 3))\n",
    "        done <- true\n",
    "    }\n",
    "}\n",
    "func main() {\n",
    "    rand.Seed(time.Now().UnixNano())\n",
    "    tick = make(chan bool); go ticker()\n",
    "    done = make(chan bool); go worker()\n",
    "    for {\n",
    "        select {\n",
    "            case <- done: fmt.Println(\"done\"); <- tick\n",
    "            case <- tick: fmt.Println(\"timeout\"); return\n",
    "        }\n",
    "    }\n",
    "}"
   ]
  },
  {
   "cell_type": "code",
   "execution_count": null,
   "metadata": {},
   "outputs": [],
   "source": [
    "!go run timeout.go"
   ]
  },
  {
   "cell_type": "markdown",
   "metadata": {
    "slideshow": {
     "slide_type": "slide"
    }
   },
   "source": [
    "Above implementation of the ticker process exhibits _cumulative drift:_ even if `Sleep` would sleep for exactly one second, there is a slight delay between calls to `Sleep`, so every `tick` will be slightly more than one second apart, as can be observed by printing `Now()` at every tick. Hence process `ticker` above cannot be used reliably for a clock. For this, the time between calls to `Sleep` has to be measured and sleeping reduced by that amount. The `time` library provides [`Ticker`](https://golang.org/pkg/time/#Ticker) objects that implement that. Tickers are created with `NewTicker(duration)` and have a field `C` with a channel that continuously ticks by sending the time of the tick:"
   ]
  },
  {
   "cell_type": "code",
   "execution_count": null,
   "metadata": {},
   "outputs": [],
   "source": [
    "%%writefile ticker.go\n",
    "package main\n",
    "import (\"time\"; \"math/rand\"; \"fmt\")\n",
    "\n",
    "var done chan bool\n",
    "\n",
    "func worker() {\n",
    "    for { // \"work\" 0 to 2 sec\n",
    "        time.Sleep(time.Second * time.Duration(rand.Int() % 3))\n",
    "        done <- true\n",
    "        \n",
    "    }\n",
    "}\n",
    "func main() {\n",
    "    rand.Seed(time.Now().UnixNano())\n",
    "    ticker := time.NewTicker(time.Second)\n",
    "    done = make(chan bool); go worker()\n",
    "    for {\n",
    "        select {\n",
    "            case <- done: println(\"done\"); fmt.Println(<- ticker.C)\n",
    "            case <- ticker.C: println(\"timeout\"); return\n",
    "        }\n",
    "    }\n",
    "}"
   ]
  },
  {
   "cell_type": "code",
   "execution_count": null,
   "metadata": {},
   "outputs": [],
   "source": [
    "!go run ticker.go"
   ]
  }
 ],
 "metadata": {
  "kernelspec": {
   "display_name": "Python 3 (ipykernel)",
   "language": "python",
   "name": "python3"
  },
  "language_info": {
   "codemirror_mode": {
    "name": "ipython",
    "version": 3
   },
   "file_extension": ".py",
   "mimetype": "text/x-python",
   "name": "python",
   "nbconvert_exporter": "python",
   "pygments_lexer": "ipython3",
   "version": "3.8.8"
  },
  "livereveal": {
   "scroll": true
  },
  "rise": {
   "enable_chalkboard": true
  }
 },
 "nbformat": 4,
 "nbformat_minor": 2
}
