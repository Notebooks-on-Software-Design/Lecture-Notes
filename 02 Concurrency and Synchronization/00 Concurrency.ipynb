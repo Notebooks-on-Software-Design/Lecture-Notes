{
 "cells": [
  {
   "cell_type": "markdown",
   "metadata": {
    "slideshow": {
     "slide_type": "slide"
    }
   },
   "source": [
    "---\n",
    "\n",
    "# Concurrency and Synchronization\n",
    "### [Emil Sekerinski](http://www.cas.mcmaster.ca/~emil/), McMaster University, January 2022\n",
    "\n",
    "---\n",
    "\n",
    "<figure style=\"float:right;border-right:2em solid white\" >\n",
    "    <img style=\"width:90pt\" src=\"./img/by-nc-nd.png\"/>\n",
    "    <figcaption style=\"width:90pt;font-size:x-small\"><a href=\"https://creativecommons.org/licenses/by-nc-nd/4.0/\" style=\"font-size:x-small\">Licensed under Creative Commons CC BY-NC-ND</a>\n",
    "    </figcaption>\n",
    "</figure>"
   ]
  },
  {
   "cell_type": "markdown",
   "metadata": {
    "slideshow": {
     "slide_type": "slide"
    }
   },
   "source": [
    "## Specifying Concurrency"
   ]
  },
  {
   "cell_type": "markdown",
   "metadata": {
    "slideshow": {
     "slide_type": "-"
    }
   },
   "source": [
    "The assignment statement, sequential composition, conditional statement, and repetitive statement are universal in the sense that any sequential program can be expressed through those. For concurrent programs, we need to add means to express:\n",
    "\n",
    "- parallel composition\n",
    "- mutual exclusion\n",
    "- condition sychronization\n",
    "\n",
    "When reasoning about concurrency, it is natural to think in terms of those. Programming languages commonly do not support parallel composition, mutual exclusion, and condition synchronization in full generality, but their constructs can be understood by those notions."
   ]
  },
  {
   "cell_type": "markdown",
   "metadata": {
    "slideshow": {
     "slide_type": "slide"
    }
   },
   "source": [
    "## Parallel Composition"
   ]
  },
  {
   "cell_type": "markdown",
   "metadata": {
    "slideshow": {
     "slide_type": "-"
    }
   },
   "source": [
    "Statements execute in a sequence of _atomic steps_. Such sequences are called _traces._ These can be either finite or infinite. The _behaviour_ of a statement is given by the set of all traces.\n",
    "\n",
    "The _parallel composition_ `S₁ ‖ S₂` executes `S₁` and `S₂` \"in parallel\" by _interleaving_ (merging) their traces; formally, `σ` is a trace of `S₁ ‖ S₂` if `σ` projected onto `S₁` steps is a trace of `S₁` and projected onto `S₂` steps is a trace of `S₂`.\n",
    "\n",
    "In state diagrams, parallel composition is visualized by a dashed line; transitions are atomic steps:\n",
    "\n",
    "<img style=\"float:left;border-left:2em solid white\" src=\"./img/ConcurrentDiagram.svg\"/>"
   ]
  },
  {
   "cell_type": "markdown",
   "metadata": {
    "slideshow": {
     "slide_type": "slide"
    }
   },
   "source": [
    "The composition `S₁ ‖ S₂` terminates when both `S₁` and `S₂` terminate. For example:\n",
    "\n",
    "<span style=\"float:left;border-left:2em solid white\">\n",
    "    \n",
    "| Statement | Behaviour |\n",
    "| :-------- | :-------- |\n",
    "| `A`       | `{` <span style=\"font-size:120%\"> ➀ ➁ </span> `}` |\n",
    "| `B`       | `{` <span style=\"font-size:120%\"> ❶ ❷ </span> `}` |\n",
    "| `A ‖ B`   | `{` <span style=\"font-size:120%\"> ➀ ➁ ❶ ❷ </span> `,` <span style=\"font-size:120%\">➀ ❶ ➁ ❷</span> `,` <span style=\"font-size:120%\">➀ ❶ ❷ ➁</span> `,` <br> <span style=\"font-size:120%\">&nbsp;&nbsp; ❶ ➀ ➁ ❷</span> `,` <span style=\"font-size:120%\">❶ ➀ ❷ ➁</span> `,` <span style=\"font-size:120%\">❶ ❷ ➀ ➁</span> `}` |\n",
    "\n",
    "</span>"
   ]
  },
  {
   "cell_type": "markdown",
   "metadata": {
    "slideshow": {
     "slide_type": "slide"
    },
    "solution": "hidden",
    "solution_first": true
   },
   "source": [
    "_Question:_ If <span style=\"font-size:120%\">➀</span> `= x := 1`, <span style=\"font-size:120%\">➁</span> `= x := 2`, <span style=\"font-size:120%\">❶</span> ` = y := 1`, <span style=\"font-size:120%\">❷ </span> ` = y := 2` what is the final state?\n",
    "\n",
    "<img style=\"float:left;border-left:2em solid white\" src=\"./img/Parallel0.svg\"/>"
   ]
  },
  {
   "cell_type": "markdown",
   "metadata": {
    "slideshow": {
     "slide_type": "fragment"
    },
    "solution": "hidden",
    "tags": []
   },
   "source": [
    "_Answer:_ `x = 2 ∧ y = 2`"
   ]
  },
  {
   "cell_type": "markdown",
   "metadata": {
    "slideshow": {
     "slide_type": "slide"
    }
   },
   "source": [
    "The statement `fork P`, where `P` is a procedure name, creates a new process and executes it concurrently with the one creating it. The statement `join P` waits for a process to terminate. For example:\n",
    "\n",
    "<div style=\"float:left;border-left:2em solid white\">\n",
    "\n",
    "```algorithm\n",
    "fork P\n",
    "x := 1\n",
    "join P\n",
    "\n",
    "```\n",
    "\n",
    "</div>\n",
    "<div style=\"float:left;border-left:6em solid white\">\n",
    "\n",
    "```algorithm\n",
    "procedure P\n",
    "    y := 2\n",
    "```\n",
    "</div>"
   ]
  },
  {
   "cell_type": "markdown",
   "metadata": {
    "slideshow": {
     "slide_type": "slide"
    }
   },
   "source": [
    "Any `‖` statement can be equivalently expressed by `fork` and `join`:\n",
    "\n",
    "```algorithm\n",
    "S₁ ‖ … ‖ Sₙ\n",
    "```\n",
    "\n",
    "is equivalent to\n",
    "\n",
    "<div style=\"float:left;border-left:2em solid white\">\n",
    "\n",
    "```algorithm\n",
    "fork P₁ ; … ; fork Pₙ\n",
    "join P₁ ; … ; join Pₙ\n",
    "```\n",
    "</div>\n",
    "<div style=\"float:left;border-left:6em solid white\">\n",
    "\n",
    "```algorithm\n",
    "procedure Pᵢ\n",
    "    Sᵢ\n",
    "```\n",
    "</div>"
   ]
  },
  {
   "cell_type": "markdown",
   "metadata": {
    "slideshow": {
     "slide_type": "-"
    }
   },
   "source": [
    "Unlike the parallel composition, `fork` statements allow an arbitrary number of processes to be started, but introduce a parent-child relation among the processes."
   ]
  },
  {
   "cell_type": "markdown",
   "metadata": {
    "slideshow": {
     "slide_type": "slide"
    }
   },
   "source": [
    "The _process declaration_ executes the declared process concurrently with any other declared processes.\n",
    "\n",
    "```algorithm\n",
    "process p\n",
    "    S\n",
    "```\n",
    "\n",
    "Process declarations can be equivalently expressed with `‖` or with `fork` and `join`. For example\n",
    "\n",
    "<div style=\"float:left;border-left:2em solid white\">\n",
    "\n",
    "```algorithm\n",
    "process setX\n",
    "    x := 1\n",
    "```\n",
    "</div>\n",
    "<div style=\"float:left;border-left:6em solid white\">\n",
    "\n",
    "\n",
    "```algorithm\n",
    "process setY\n",
    "    y := 2\n",
    "```\n",
    "</div>"
   ]
  },
  {
   "cell_type": "markdown",
   "metadata": {
    "slideshow": {
     "slide_type": "-"
    }
   },
   "source": [
    "is equivalent to:\n",
    "\n",
    "<div style=\"float:left;border-left:2em solid white\">\n",
    "\n",
    "```algorithm\n",
    "setX ‖ setY\n",
    "```  \n",
    "</div>\n",
    "<div style=\"float:left;border-left:6em solid white\">\n",
    "\n",
    "```algorithm\n",
    "procedure setX\n",
    "\tx := 1\n",
    "    \n",
    "```\n",
    "</div>\n",
    "<div style=\"float:left;border-left:6em solid white\">\n",
    "\n",
    "```algorithm\n",
    "procedure setY\n",
    "\ty := 2\n",
    "    \n",
    "```\n",
    "</div>"
   ]
  },
  {
   "cell_type": "markdown",
   "metadata": {
    "slideshow": {
     "slide_type": "slide"
    }
   },
   "source": [
    "The `par` statement is a generalization of `‖` in the same way as `for` is a generalization of `;`:\n",
    "\n",
    "```algorithm\n",
    "par x = E to F do S\n",
    "```\n",
    "\n",
    "Here, `x` is a constant local to the `par` statement. For example, vectors `a, b : 1 .. N → integer` can be added in parallel, with the same result as adding them with a sequential `for` loop:\n",
    "\n",
    "```algorithm\n",
    "par i = 1 to N do\n",
    "    b(i) := b(i) + a(i)\n",
    "```\n",
    "\n",
    "This can be equivalently expressed with `fork` and `join`:\n",
    "\n",
    "<div style=\"float:left;border-left:2em solid white\">\n",
    "      \n",
    "```algorithm\n",
    "for i = 1 to N do fork P(i)\n",
    "for i = 1 to N do join P(i)\n",
    "```\n",
    "</div>\n",
    "<div style=\"float:left;border-left:6em solid white\">\n",
    "    \n",
    "```algorithm\n",
    "procedure P(i: 1 .. N)\n",
    "    b(i) := b(i) + a(i)\n",
    "```\n",
    "</div>"
   ]
  },
  {
   "cell_type": "markdown",
   "metadata": {
    "slideshow": {
     "slide_type": "-"
    }
   },
   "source": [
    "Dedicated languages or language extension for concurrent and for numeric computing have `par` statements ([Matlab](https://www.mathworks.com/help/parallel-computing/parfor.html), [OpenMp](https://www.openmp.org/)) or process declarations (called tasks in [Ada](https://learn.adacore.com/courses/intro-to-ada/chapters/tasking.html)); Python, Java, and C/Pthread have only `fork` and `join`. Go has only `fork` (called `go`). None of these languages have `‖` as an operator."
   ]
  },
  {
   "cell_type": "markdown",
   "metadata": {
    "slideshow": {
     "slide_type": "slide"
    }
   },
   "source": [
    "For `a, b, c: 0 .. N − 1 × 0 .. N − 1 → float`, sequential matrix multiplication is expressed by:\n",
    "\n",
    "```algorithm\n",
    "for i = 0 to N − 1 do\n",
    "    for j = 0 to N − 1 do\n",
    "        c(i, j) := 0.0\n",
    "        for k = 0 to N − 1 do\n",
    "            c(i, j) := c(i, j) + a(i, k) × b(k, j)\n",
    "```"
   ]
  },
  {
   "cell_type": "markdown",
   "metadata": {
    "slideshow": {
     "slide_type": "-"
    },
    "solution": "hidden",
    "solution_first": true
   },
   "source": [
    "_Question:_ Which of the three `for` can be turned into a `par`?"
   ]
  },
  {
   "cell_type": "markdown",
   "metadata": {
    "slideshow": {
     "slide_type": "fragment"
    },
    "solution": "hidden",
    "tags": []
   },
   "source": [
    "_Answer:_ Only the outer two can:\n",
    "\n",
    "```algorithm\n",
    "par i = 0 to N − 1 do\n",
    "    par j = 0 to N − 1 do\n",
    "        c(i, j) := 0.0\n",
    "        for k = 0 to N − 1 do\n",
    "            c(i, j) := c(i, j) + a(i, k) × b(k, j)\n",
    "```"
   ]
  },
  {
   "cell_type": "markdown",
   "metadata": {},
   "source": [
    "_Aside:_ It would be more systematic to write `seq` instead of `for` for generalized sequential composition, as in [occam](http://www.transputer.net/obooks/72-occ-046-00/tuinocc.pdf), a predecessor of Go."
   ]
  },
  {
   "cell_type": "markdown",
   "metadata": {
    "slideshow": {
     "slide_type": "slide"
    }
   },
   "source": [
    "The previous program creates `N²` processes, which may be far more than there are processors; in some languages, the overhead of process creation may outweigh the benefit of parallelism. A solution is to use one _worker process_ per strip.\n",
    "\n",
    "Let `P` be the number of worker processes:\n",
    "\n",
    "```algorithm\n",
    "procedure worker(w: 1 .. P)\n",
    "    var first = (w – 1) × N div P\n",
    "    var last = w × N div P – 1\n",
    "    for i = first to last do\n",
    "        for j = 0 to N – 1 do\n",
    "            c(i, j) := 0.0\n",
    "            for k = 0 to N – 1 do\n",
    "                c(i, j) := c(i, j) + a(i, k) × b(k, j)\n",
    "```\n",
    "\n",
    "Matrix multiplication is an example of \"embarrassing parallelism\", as no synchronization is needed: all processes assign to different array elements."
   ]
  },
  {
   "cell_type": "markdown",
   "metadata": {
    "slideshow": {
     "slide_type": "slide"
    }
   },
   "source": [
    "## Mutual Exclusion"
   ]
  },
  {
   "cell_type": "markdown",
   "metadata": {
    "slideshow": {
     "slide_type": "-"
    }
   },
   "source": [
    "In algorithms, atomic steps are indicated by _atomicity brackets._ These can be placed around expressions and statements, for example:\n",
    "\n",
    "<div style=\"float:left;border-left:2em solid white\">\n",
    "      \n",
    "```algorithm\n",
    "⟨x := x + 1⟩ ‖ ⟨x := x + 2⟩\n",
    "```\n",
    "</div>\n",
    "<div style=\"float:left;border-left:6em solid white\">\n",
    "    \n",
    "```algorithm\n",
    "⟨x⟩ := ⟨x + 1⟩ ‖ ⟨x⟩ := ⟨x + 2⟩\n",
    "```\n",
    "</div>"
   ]
  },
  {
   "cell_type": "markdown",
   "metadata": {
    "slideshow": {
     "slide_type": "-"
    }
   },
   "source": [
    "Atomicity brackets cannot be nested. Auxiliary variables (\"registers\") are needed to express atomicity in state diagrams. Above statements are represented by:\n",
    "\n",
    "<img style=\"float:left;border-left:2em solid white\" src=\"./img/AtomicityCombined.svg\"/>"
   ]
  },
  {
   "cell_type": "markdown",
   "metadata": {
    "slideshow": {
     "slide_type": "slide"
    }
   },
   "source": [
    "When atomicity brackets are left out, implicitly only access to individual basic variables and array elements of basic types is atomic:\n",
    "\n",
    "```algorithm\n",
    "x := x + 1    =    ⟨x⟩ := ⟨x⟩ + ⟨1⟩\n",
    "```\n",
    "\n",
    "If processes run by multiplexing on a **single** processor, atomicity can be implemented by disabling and enabling **interrupts**: \n",
    "* any switch to another process is caused by a timer interrupt at the end of a process' time slice or by an interrupt from an external event. \n",
    "* Care is needed to ensure that the atomic regions don't last too long and other processes are not unduly delayed or external events lost. \n",
    "\n",
    "If **multiple** processors (cores) are available, ensuring atomicity by suspending processors would be too drastic. Instead, the hardware guarantees that certain operations are atomic. \n",
    "* Typically, reading and writing a word from and to memory is atomic. Programming languages reflect this: for example, in Java access to `int`, `boolean`, `float`, and pointers, which are all word-sized, is atomic, but not access to `double` and `long`. We continue to use atomicity brackets as a design notation and return to techniques for implementing atomic regions."
   ]
  },
  {
   "cell_type": "markdown",
   "metadata": {
    "slideshow": {
     "slide_type": "slide"
    },
    "solution": "hidden",
    "solution_first": true
   },
   "source": [
    "_Question:_ Which of these algorithms for computing the maximum of `a: 1 .. N → integer` is correct?\n",
    "\n",
    "```algorithm\n",
    "    m := a(1)\n",
    "    for i = 2 to N do if a(i) > m then m := a(i)\n",
    "\n",
    "    m := a(1)\n",
    "    par i = 2 to N do if ⟨a(i)⟩ > ⟨m⟩ then ⟨m⟩ := ⟨a(i)⟩\n",
    "\n",
    "    m := a(1)\n",
    "    par i = 2 to N do ⟨if a(i) > m then m := a(i)⟩\n",
    "    \n",
    "    m := a(1)\n",
    "    par i = 2 to N do if ⟨a(i) > m⟩ then ⟨m := a(i)⟩\n",
    "\n",
    "    m := a(1)\n",
    "    par i = 2 to N do\n",
    "        if a(i) > m then ⟨if a(i) > m then m := a(i)⟩\n",
    "```"
   ]
  },
  {
   "cell_type": "markdown",
   "metadata": {
    "slideshow": {
     "slide_type": "fragment"
    },
    "solution": "hidden",
    "tags": []
   },
   "source": [
    "_Answer:_ Correct, incorrect, correct (but less efficient than sequential version), incorrect, correct (and potentially faster than sequential version)."
   ]
  },
  {
   "cell_type": "markdown",
   "metadata": {
    "slideshow": {
     "slide_type": "slide"
    }
   },
   "source": [
    "What can we say about the postcondition of a parallel composition? In the example below, the statements `x := x + 1` and `y := y + 2` are correct with respect to their pre- and postconditions:\n",
    "\n",
    "<img style=\"float:left;border-left:2em solid white\" src=\"./img/Parallel1.svg\" />"
   ]
  },
  {
   "cell_type": "markdown",
   "metadata": {
    "slideshow": {
     "slide_type": "-"
    }
   },
   "source": [
    "Their parallel composition establishes the conjunction of their postconditions."
   ]
  },
  {
   "cell_type": "markdown",
   "metadata": {
    "slideshow": {
     "slide_type": "slide"
    }
   },
   "source": [
    "Compare this to the parallel composition of `x := 1` and `x := 2`:\n",
    "\n",
    "<img style=\"float:left;border-left:2em solid white\" src=\"./img/Parallel2.svg\"/>"
   ]
  },
  {
   "cell_type": "markdown",
   "metadata": {
    "slideshow": {
     "slide_type": "-"
    }
   },
   "source": [
    "Their parallel composition establishes the disjunction of their postconditions."
   ]
  },
  {
   "cell_type": "markdown",
   "metadata": {
    "slideshow": {
     "slide_type": "slide"
    }
   },
   "source": [
    "Now consider the parallel composition of `⟨x := x + 1⟩` and `⟨x := x + 2⟩`:\n",
    "\n",
    "<img style=\"float:left;border-left:2em solid white\" src=\"./img/Parallel3.svg\"/>"
   ]
  },
  {
   "cell_type": "markdown",
   "metadata": {
    "slideshow": {
     "slide_type": "-"
    },
    "solution": "hidden",
    "solution_first": true
   },
   "source": [
    "_Question:_ What are appropriate predicates `P₁`, `P₂`, `Q₁`, `Q₂`?"
   ]
  },
  {
   "cell_type": "markdown",
   "metadata": {
    "slideshow": {
     "slide_type": "fragment"
    },
    "solution": "hidden",
    "tags": []
   },
   "source": [
    "_Answer:_ Here is a naive attempt:\n",
    "\n",
    "<img style=\"float:left;border-left:2em solid white\" src=\"./img/Parallel4.svg\"/>"
   ]
  },
  {
   "cell_type": "markdown",
   "metadata": {
    "slideshow": {
     "slide_type": "fragment"
    },
    "solution": "hidden",
    "tags": []
   },
   "source": [
    "If both processes start with `x = 0` and `⟨x := x + 1⟩` is executed first, the precondition of `⟨x := x + 2⟩` is no longer `x = 0`. Likewise, if `⟨x := x + 2⟩` is executed first and establishes `x = 2`, then `⟨x := x + 1⟩` would invalidate that postcondition. The reason is _interference_. Additionally, from `x = 1` and `x = 2` the postcondition `x = 3` cannot be inferred."
   ]
  },
  {
   "cell_type": "markdown",
   "metadata": {
    "slideshow": {
     "slide_type": "-"
    },
    "solution": "hidden",
    "solution_first": true
   },
   "source": [
    "_Question:_ How can the annotation be modified such that the parallel execution will not invalidate the predicates?"
   ]
  },
  {
   "cell_type": "markdown",
   "metadata": {
    "slideshow": {
     "slide_type": "fragment"
    },
    "solution": "hidden",
    "tags": []
   },
   "source": [
    "_Answer:_ The annotation needs to be _weakened_.\n",
    "\n",
    "<img style=\"border-left:2em solid white\" src=\"./img/Parallel5.svg\"/>\n",
    "\n",
    "Now each process does not interfere with the states of the other process."
   ]
  },
  {
   "cell_type": "markdown",
   "metadata": {
    "slideshow": {
     "slide_type": "slide"
    }
   },
   "source": [
    "As another example, consider following two procedures operating on global variables `a`, `b`, `t`:\n",
    "\n",
    "<div style=\"float:left;border-left:2em solid white\">\n",
    "\n",
    "```algorithm\n",
    "procedure P\n",
    "    t, a := false, 0\n",
    "    while ¬t do\n",
    "        t, a := true, a + 1\n",
    "```\n",
    "</div>\n",
    "<div style=\"float:left;border-left:6em solid white\">\n",
    "\n",
    "```algorithm\n",
    "procedure Q\n",
    "    t, b := true, 0\n",
    "    while t do\n",
    "        t, b := false, b + 1\n",
    "```\n",
    "</div>"
   ]
  },
  {
   "cell_type": "markdown",
   "metadata": {
    "slideshow": {
     "slide_type": "-"
    },
    "solution": "hidden",
    "solution_first": true
   },
   "source": [
    "_Question:_ Do `P` and `Q` terminate and what is their outcome? What are the loop invariants?"
   ]
  },
  {
   "cell_type": "markdown",
   "metadata": {
    "slideshow": {
     "slide_type": "fragment"
    },
    "solution": "hidden",
    "tags": []
   },
   "source": [
    "_Answer:_\n",
    "- `P` terminates with `t ∧ a = 1`; the invariant is `(¬t ∧ a = 0) ∨ (t ∧ a = 1)`;\n",
    "- `Q` terminates with `¬t ∧ b = 1`; the invariant is `(t ∧ b = 0) ∨ (¬t ∧ b = 1)`."
   ]
  },
  {
   "cell_type": "markdown",
   "metadata": {
    "slideshow": {
     "slide_type": "-"
    },
    "solution": "hidden",
    "solution_first": true
   },
   "source": [
    "_Question:_ Does `P ‖ Q` terminate and what is the outcome?"
   ]
  },
  {
   "cell_type": "markdown",
   "metadata": {
    "slideshow": {
     "slide_type": "slide"
    },
    "solution": "hidden",
    "tags": []
   },
   "source": [
    "_Answer:_ `P ‖ Q` may terminate with `a ≥ 0 ∧ b ≥ 0` or may not terminate. The state diagram shows how the annotation of `P` that is correct for sequential execution is invalidated by the concurrent execution of `Q`:\n",
    "\n",
    "<img style=\"float:left;border-left:2em solid white\" src=\"./img/PQinterference.svg\"/>"
   ]
  },
  {
   "cell_type": "markdown",
   "metadata": {
    "slideshow": {
     "slide_type": "slide"
    },
    "solution": "hidden",
    "solution_first": true
   },
   "source": [
    "_Question:_ How can the annotation be modified such that the parallel execution will not invalidate the predicates?"
   ]
  },
  {
   "cell_type": "markdown",
   "metadata": {
    "slideshow": {
     "slide_type": "fragment"
    },
    "solution": "hidden"
   },
   "source": [
    "_Answer:_ Weaken the loop invariant in `P` to `a ≥ 0` and in `Q` to `b ≥ 0`."
   ]
  },
  {
   "cell_type": "markdown",
   "metadata": {
    "slideshow": {
     "slide_type": "slide"
    }
   },
   "source": [
    "Consider following parallel compositions: \n",
    "\n",
    "<div style=\"float:left;border-left:2em solid white\">\n",
    "      \n",
    "```algorithm\n",
    "x := y + z ‖ (y := 3 ; z := 5)\n",
    "```\n",
    "</div>\n",
    "<div style=\"float:left;border-left:6em solid white\">\n",
    "    \n",
    "```algorithm\n",
    "x := y + z ‖ y := 3\n",
    "```\n",
    "</div>"
   ]
  },
  {
   "cell_type": "markdown",
   "metadata": {
    "slideshow": {
     "slide_type": "slide"
    }
   },
   "source": [
    "The assignment `x := y + z` is executed as `⟨x⟩ := ⟨y⟩ + ⟨z⟩`. On the left-hand side, the value taken for `y` could be that before or after `y := 3` and the value of `z` could be that before or after `z := 5`. However, on the right-hand side the effect of `x := y + z` is the same as `⟨x := y + z⟩`, allowing a simpler state diagram:\n",
    "\n",
    "<img style=\"horizontal-align:left;border-left:2em solid white\" src=\"./img/AtMostOnce.svg\"/>\n",
    "\n",
    "The reason is that on the right-hand side, only one of the variables of `y + z` is changed to in the parallel process."
   ]
  },
  {
   "cell_type": "markdown",
   "metadata": {
    "slideshow": {
     "slide_type": "slide"
    }
   },
   "source": [
    "In a parallel composition\n",
    "```algorithm\n",
    "S₁ ‖ … ‖ Sₙ\n",
    "```\n",
    "an expression `E` in `Sᵢ` satisfies the **_at-most-once property_** if it refers at most once to a basic variable that may be changed in another process. An assignment `x, y := E, F` in `Sᵢ` satisfies the at-most-once property if it refers at most once to a basic variable (`x`, `y`, or in `E`, `F`) that may be changed in another process.\n",
    "\n",
    "Expressions and assignment statements with the **at-most-once property** are evaluated or executed as if they were atomic. Thus in state diagrams they don't need to be broken up."
   ]
  },
  {
   "cell_type": "markdown",
   "metadata": {
    "slideshow": {
     "slide_type": "slide"
    },
    "solution": "hidden",
    "solution_first": true
   },
   "source": [
    "_Question:_ which of the following assignments satisfy the at-most once property?\n",
    "- the two assignments in `x := 3 ‖ x := x + 1`\n",
    "- the three assignments in `x := 3 ‖ y := 5 ‖ z := x + y`\n",
    "- the assignment `t, a := false, 0` in procedure `P` above when considering `P ‖ Q`\n",
    "- the assignment `t, a := true, a + 1` in procedure `P` above when considering `P ‖ Q`   \n",
    "\n",
    "<div style=\"float:left;border-left:2em solid white\">\n",
    "\n",
    "```algorithm\n",
    "procedure P\n",
    "    t, a := false, 0\n",
    "    while ¬t do\n",
    "        t, a := true, a + 1\n",
    "```\n",
    "</div>\n",
    "<div style=\"float:left;border-left:6em solid white\">\n",
    "\n",
    "```algorithm\n",
    "procedure Q\n",
    "    t, b := true, 0\n",
    "    while t do\n",
    "        t, b := false, b + 1\n",
    "```\n",
    "</div>"
   ]
  },
  {
   "cell_type": "markdown",
   "metadata": {
    "slideshow": {
     "slide_type": "fragment"
    },
    "solution": "hidden",
    "tags": []
   },
   "source": [
    "_Answer:_\n",
    "- only `x := 3`, that is `⟨x := 3⟩ ‖ x := x + 1`\n",
    "- only `x := 3` and `y := 5`,  that is `⟨x := 3⟩ ‖ ⟨y := 5⟩ ‖ z := x + y`\n",
    "- yes, as only `t` is changed in `Q`, that is `⟨t, a := false, 0⟩` \n",
    "- yes, as only `t` is changed in `P`, that is `⟨t, a := true, a+1⟩`\n",
    "\n",
    "This retrospectively justifies the state diagram for `P ‖ Q`."
   ]
  },
  {
   "cell_type": "markdown",
   "metadata": {
    "slideshow": {
     "slide_type": "slide"
    }
   },
   "source": [
    "An atomic statement `A` that starts in state `P` _does not interfere_ with state `Q` if `A` preserves `Q`, formally:\n",
    "\n",
    "```algorithm\n",
    "{P ∧ Q}  A  {Q}\n",
    "```\n",
    "\n",
    "In state diagrams non-interference is visualized by a green dotted line. If `A` is a guarded assignment statement, the condition for non-interference is:"
   ]
  },
  {
   "cell_type": "markdown",
   "metadata": {
    "slideshow": {
     "slide_type": "-"
    }
   },
   "source": [
    "<div style=\"float:left;border-left:2em solid white\">\n",
    "\n",
    "if &nbsp;&nbsp;&nbsp; `P ∧ B ∧ Q ⇒ Q[x, y := E, F]` &nbsp;&nbsp;&nbsp; then\n",
    "\n",
    "</div>\n",
    "<img style=\"float:left;border-left:2em solid white\" src=\"./img/GuardAssignmentInterference.svg\"/>"
   ]
  },
  {
   "cell_type": "markdown",
   "metadata": {
    "slideshow": {
     "slide_type": "slide"
    },
    "solution": "hidden",
    "solution_first": true
   },
   "source": [
    "_Question:_ Consider again the state diagram for `⟨x := x + 1⟩ ‖ ⟨x := x + 2⟩` with labelled states. What are the conditions for non-interference? Give the proofs!\n",
    "\n",
    "<img style=\"float:left;border-left:2em solid white\" src=\"./img/Parallel5labelled.svg\"/>"
   ]
  },
  {
   "cell_type": "markdown",
   "metadata": {
    "slideshow": {
     "slide_type": "fragment"
    },
    "solution": "hidden"
   },
   "source": [
    "_Answer:_ The conditions for  `x := x + 1`  not interfering are: `P₁`, `P₂`\n",
    "\n",
    "1. `P₁ ∧ P₂ ⇒ P₂[x := x + 1]`\n",
    "2. `P₁ ∧ Q₂ ⇒ Q₂[x := x + 1]`\n",
    "\n",
    "The conditions for `x := x + 2` not interfering are:\n",
    "\n",
    "3. `P₂ ∧ P₁ ⇒ P₁[x := x + 2]`\n",
    "4. `P₂ ∧ Q₁ ⇒ Q₁[x := x + 2]`\n",
    "\n",
    "\n",
    "The proof of (1.) is:\n",
    "```algorithm\n",
    "    (x = 0 ∨ x = 2) ∧ (x = 0 ∨ x = 1) ⇒ (x = 0 ∨ x = 1)[x := x + 1]\n",
    "≡        {by substitution, factoring out x = 0, simplification}\n",
    "    x = 0 ⇒ (x + 1 = 0 ∨ x + 1 = 1)\n",
    "≡        {arithmetic}\n",
    "    x = 0 ⇒ (x = - 1 ∨ x = 0)\n",
    "≡        {weakening / strengthening}\n",
    "    true\n",
    "```"
   ]
  },
  {
   "cell_type": "markdown",
   "metadata": {
    "slideshow": {
     "slide_type": "slide"
    }
   },
   "source": [
    "**Rule for correctness of parallel composition:** \n",
    "\n",
    "Assume that statements `S₁`, `S₂` establish `Q₁`, `Q₂` under `P₁`, `P₂`, respectively:\n",
    "\n",
    "```algorithm\n",
    "{P₁}  S₁  {Q₁}\n",
    "{P₂}  S₂  {Q₂}\n",
    "```\n",
    "\n",
    "Their parallel composition will establish the conjunction of the postconditions under the conjunction of the preconditions,\n",
    "\n",
    "```algorithm\n",
    "{P₁ ∧ P₂}  S₁ ‖ S₂  {Q₁ ∧ Q₂}\n",
    "```\n",
    "\n",
    "provided that all atomic statements (transitions) `S₁,ᵢ` in `S₁` **do not interfere** with any state of `S₂` and vice versa, visually:\n",
    "\n",
    "<img style=\"float:left;border-left:2em solid white\" src=\"./img/Noninterference.svg\"/>"
   ]
  },
  {
   "cell_type": "markdown",
   "metadata": {
    "slideshow": {
     "slide_type": "-"
    }
   },
   "source": [
    "The rule generalizes to more than two processes."
   ]
  },
  {
   "cell_type": "markdown",
   "metadata": {
    "slideshow": {
     "slide_type": "slide"
    }
   },
   "source": [
    "## Condition Synchronization"
   ]
  },
  {
   "cell_type": "markdown",
   "metadata": {
    "slideshow": {
     "slide_type": "-"
    }
   },
   "source": [
    "_Condition synchronization_ delays one process until another establishes a certain condition. The fundamental mechanism is the `await` statement:\n",
    "\n",
    "<div style=\"float:left;border-left:2em solid white\">\n",
    "    \n",
    "```algorithm\n",
    "⟨await B then S⟩\n",
    "```\n",
    "</div>\n",
    "<img style=\"float:left;border-left:6em solid white\" src=\"./img/AwaitThen.svg\"/>"
   ]
  },
  {
   "cell_type": "markdown",
   "metadata": {
    "slideshow": {
     "slide_type": "slide"
    }
   },
   "source": [
    "The await statement \"waits\" until Boolean expression `B` is true and then executes statement `S` atomically. Formally, this reduces the number of interleavings. The body `S` can also be empty:\n",
    "\n",
    "```algorithm\n",
    "⟨await B⟩  =  ⟨await B then skip⟩\n",
    "```\n",
    "\n",
    "For example:\n",
    "\n",
    "<div style=\"float:left;border-left:2em solid white\">\n",
    "\n",
    "```algorithm\n",
    "⟨await s > 0 then s := s – 1⟩\n",
    "```\n",
    "</div>\n",
    "<div style=\"float:left;border-left:6em solid white\">\n",
    "\n",
    "```algorithm\n",
    "⟨await s > 0⟩ ; s := s – 1\n",
    "```\n",
    "</div>"
   ]
  },
  {
   "cell_type": "markdown",
   "metadata": {
    "slideshow": {
     "slide_type": "-"
    },
    "solution": "shown",
    "solution_first": true
   },
   "source": [
    "_Question:_ What is the difference between these two?"
   ]
  },
  {
   "cell_type": "markdown",
   "metadata": {
    "slideshow": {
     "slide_type": "fragment"
    },
    "solution": "shown",
    "tags": []
   },
   "source": [
    "_Answer:_ The first guarantees that `s` will not be negative, the second not."
   ]
  },
  {
   "cell_type": "markdown",
   "metadata": {
    "slideshow": {
     "slide_type": "slide"
    }
   },
   "source": [
    "The `await` statement is at the very core of every synchronization mechanism, even though few programming languages support it in full generality. One way to implement `await B` is by _spinning:_ the process keeps looping as long as `B` is false.\n",
    "\n",
    "Formally, the statement `⟨await B then S⟩` is just `⟨if B → S⟩`, so the same correctness rule holds:\n",
    "\n",
    "**Rule for correctness of await:**\n",
    "<div style=\"float:left;border-left:2em solid white\">\n",
    "        \n",
    "```algorithm\n",
    "{P}  ⟨await B then S⟩  {Q}\n",
    "```\n",
    "</div>\n",
    "<div style=\"float:left;border-left:2em solid white\">\n",
    "\n",
    "if `P ⇒ ∆B` <br> and `{P ∧ B'} S {Q}`\n",
    "</div>\n",
    "<img style=\"float:left;border-left:2em solid white\" src=\"./img/CorrectnessIf1.svg\"/>"
   ]
  },
  {
   "cell_type": "markdown",
   "metadata": {
    "slideshow": {
     "slide_type": "slide"
    }
   },
   "source": [
    "If `B` is false, the interpretation in concurrent programs is waiting until it becomes true, rather than staying in the initial state forever."
   ]
  },
  {
   "cell_type": "markdown",
   "metadata": {
    "slideshow": {
     "slide_type": "slide"
    }
   },
   "source": [
    "The guard of an `await` statement can be associated with a condition that has to hold when the guard is true. Given `a` and `b`, consider computing `s = a² + b²`. The variable `d` indicates if processes `H` is done with assigning `b²` to `t`:\n",
    "\n",
    "```algorithm\n",
    "d := false\n",
    "```\n",
    "\n",
    "<div style=\"float:left;border-left:2em solid white\">\n",
    "\n",
    "```algorithm\n",
    "process SumSquare\n",
    "    s := a × a\n",
    "    await d\n",
    "    s := s + t\n",
    "```\n",
    "</div>\n",
    "<div style=\"float:left;border-left:2em solid white\">\n",
    "\n",
    "```algorithm\n",
    "process H\n",
    "    t := b × b\n",
    "    d := true\n",
    "```\n",
    "</div>"
   ]
  },
  {
   "cell_type": "markdown",
   "metadata": {
    "slideshow": {
     "slide_type": "-"
    }
   },
   "source": [
    "Here, `d ⇒ t = b²` is needed in `SumSquare` to ensure that finally `s = a² + b²`."
   ]
  },
  {
   "cell_type": "markdown",
   "metadata": {
    "slideshow": {
     "slide_type": "slide"
    }
   },
   "source": [
    "All statements satisfy the at-most-once property; hence, in the state diagram, these become atomic transitions. The *global invariant* `d ⇒ t = b²` is written across processes and is a shorthand for conjoining it to all substates:\n",
    "\n",
    "<img style=\"float:left;border-left:2em solid white\" src=\"./img/SumSquare.svg\"/>"
   ]
  },
  {
   "cell_type": "markdown",
   "metadata": {
    "slideshow": {
     "slide_type": "slide"
    }
   },
   "source": [
    "With `I` being `d ⇒ t = b²`, this is equivalent to:\n",
    "\n",
    "<img style=\"float:left;border-left:2em solid white\" src=\"./img/SumSquareNoGlobal.svg\"/>"
   ]
  },
  {
   "cell_type": "markdown",
   "metadata": {
    "slideshow": {
     "slide_type": "slide"
    }
   },
   "source": [
    "The correctness of the diagram follows from the correctness of the transitions and non-interference. We assume that all expressions are defined:\n",
    "\n",
    "Correctness of initialization:\n",
    "\n",
    "1. `I[d := false]`\n",
    "\n",
    "Correctness of transitions in `SumSquare`:\n",
    "\n",
    "2. `I ⇒ (I ∧ s = a²)[s := a × a]`\n",
    "3. `I ∧ s = a² ∧ d ⇒ I ∧ s = a² ∧ t = b²`\n",
    "4. `I ∧ s = a² ∧ t = b² ⇒ (I ∧ s = a² + b²)[s := s + t]`\n",
    "\n",
    "Correctness of transitions in `H`:\n",
    "\n",
    "5. `I ⇒ (I ∧ t = b²)[t := b × b]`\n",
    "6. `I ∧ t = b² ⇒ I[d := true]`\n",
    "\n",
    "Non-interference of `s := a × a` with states of `H`:\n",
    "\n",
    "7. `I ⇒ I[s := a × a]`\n",
    "8. `I ∧ t = b² ⇒ (I ∧ t = b²)[s := a × a]`\n",
    "9. `I ⇒ I[s := a × a]`\n",
    "\n",
    "..."
   ]
  },
  {
   "cell_type": "markdown",
   "metadata": {
    "slideshow": {
     "slide_type": "slide"
    },
    "solution": "hidden",
    "solution_first": true
   },
   "source": [
    "*Question:* How many non-interference conditions are there?"
   ]
  },
  {
   "cell_type": "markdown",
   "metadata": {
    "slideshow": {
     "slide_type": "fragment"
    },
    "solution": "hidden",
    "tags": []
   },
   "source": [
    "_Answer:_ Three transitions of `SumSquare` must not interfere with three states of `H`, so nine conditions; \n",
    "two transitions of `H` must not interfere with four states of `SumSquare`, so eight conditions; in total there are `17` non-interference conditions."
   ]
  },
  {
   "cell_type": "markdown",
   "metadata": {
    "slideshow": {
     "slide_type": "fragment"
    },
    "solution": "hidden"
   },
   "source": [
    "Here is the proof of (3.):\n",
    "\n",
    "```algorithm\n",
    "    I ∧ s = a² ∧ d ⇒ I ∧ s = a² ∧ t = b²\n",
    "≡        {definition of I, using P ⇒ P for any P} \n",
    "    (d ⇒ t = b²) ∧ s = a² ∧ d ⇒ t = b²\n",
    "≡        {logic}\n",
    "    true\n",
    "```\n",
    "<!-- \n",
    "    P ∧ A ⇒ P ∧ B ≡ P ⇒ (A ⇒ B) \n",
    "    (I ∧ s = a² ∧ d) ⇒ (I ∧ s = a² ∧ t = b²)\n",
    "≡        {definition of I, using P ⇒ P for any P} \n",
    "    ((d ⇒ t = b²) ∧ (s = a²) ∧ d)     ⇒     t = b²\n",
    "≡        {logic}\n",
    "    true\n",
    "-->\n",
    "\n",
    "Here is the proof of (4.):\n",
    "\n",
    "```algorithm\n",
    "    I ∧ s = a² ∧ t = b² ⇒ (I ∧ s = a² + b²)[s := s + t]\n",
    "≡        {by substitution, s does not occur in I}\n",
    "    I ∧ s = a² ∧ t = b² ⇒ (I ∧ s + t = a² + b²)\n",
    "≡        {logic}\n",
    "    true\n",
    "```"
   ]
  },
  {
   "cell_type": "markdown",
   "metadata": {
    "slideshow": {
     "slide_type": "slide"
    }
   },
   "source": [
    "As a note, with `I` being `d ⇒ t = b²`, the annotated state diagram is equivalent to:\n",
    "\n",
    "```algorithm\n",
    "d := false\n",
    "{I}\n",
    "```\n",
    "\n",
    "<div style=\"float:left;border-left:2em solid white\">\n",
    "\n",
    "```algorithm\n",
    "process SumSquare\n",
    "    {I}\n",
    "    s := a × a\n",
    "    {I ∧ s = a²}\n",
    "    await d\n",
    "    {I ∧ s = a² ∧ t = b²}\n",
    "    s := s + t\n",
    "    {I ∧ s = a² + b²}\n",
    "```\n",
    "</div>\n",
    "<div style=\"float:left;border-left:6em solid white\">\n",
    "\n",
    "```algorithm\n",
    "process H\n",
    "    {I}\n",
    "    t := b × b\n",
    "    {I ∧ t = b²}\n",
    "    d := true\n",
    "    {I}\n",
    "```\n",
    "</div>"
   ]
  },
  {
   "cell_type": "markdown",
   "metadata": {
    "slideshow": {
     "slide_type": "slide"
    }
   },
   "source": [
    "## Producer and Consumer"
   ]
  },
  {
   "cell_type": "markdown",
   "metadata": {
    "slideshow": {
     "slide_type": "slide"
    }
   },
   "source": [
    "A producer places objects into a (one-place) buffer. A consumer removes objects from the buffer. The producer has to wait until the buffer is empty before placing an object. Producers and consumers proceed in their own pace. The consumer has to wait until the buffer is not empty before removing the object. Assume `buf: T` is a global variable:\n",
    "\n",
    "```algorithm\n",
    "p, c := 0, 0\n",
    "```\n",
    "<div style=\"float:left;border-left:2em solid white\">\n",
    "\n",
    "```algorithm\n",
    "process Producer\n",
    "    var a: 0 .. N – 1 → T = …\n",
    "    while p < N do\n",
    "        ⟨await p = c⟩\n",
    "        buf := a(p)\n",
    "        p := p + 1\n",
    "```\n",
    "</div>\n",
    "<div style=\"float:left;border-left:6em solid white\">\n",
    "\n",
    "```algorithm\n",
    "process Consumer\n",
    "    var b: 0 .. N – 1 → T\n",
    "    while c < N do\n",
    "        ⟨await p > c⟩\n",
    "        b(c) := buf\n",
    "        c := c + 1\n",
    "```\n",
    "</div>"
   ]
  },
  {
   "cell_type": "markdown",
   "metadata": {
    "slideshow": {
     "slide_type": "-"
    },
    "solution": "hidden",
    "solution_first": true
   },
   "source": [
    "_Question:_ Informally, what is the relation between `p` and `c` and what is it between `a` and `b`?"
   ]
  },
  {
   "cell_type": "markdown",
   "metadata": {
    "slideshow": {
     "slide_type": "fragment"
    },
    "solution": "hidden",
    "tags": []
   },
   "source": [
    "*Answer:*\n",
    "- `p` and `c` are either the same or `p` is one larger than `c`.\n",
    "- The first `c` elements of `a` and `b` are the same."
   ]
  },
  {
   "cell_type": "markdown",
   "metadata": {
    "slideshow": {
     "slide_type": "slide"
    }
   },
   "source": [
    "The state diagram shows the required annotations to allow to conclude that upon termination of `Consumer`, it will have a copy of array `a` of `Producer` in its own local array `b`. Formally, the producer invariant `PI` is conjoined to every state of `Producer`, the consumer invariant `CI` is conjoined to every state of `Consumer`, and the global invariant `PC` is conjoined to every state:\n",
    "\n",
    "<img style=\"float:left;border-left:2em solid white\" src=\"./img/ProducerConsumerAwait.svg\"/>"
   ]
  },
  {
   "cell_type": "markdown",
   "metadata": {
    "slideshow": {
     "slide_type": "slide"
    }
   },
   "source": [
    "With `PC`, `PI`, `CI` as above and with some simplifications, this is textually equivalent to:\n",
    "\n",
    "```algorithm\n",
    "p, c := 0, 0\n",
    "```\n",
    "<div style=\"float:left;border-left:2em solid white\">\n",
    "\n",
    "```algorithm\n",
    "process producer\n",
    "    var a: 0 .. N – 1 → T = …\n",
    "    {PC ∧ PI}\n",
    "    while p < N do\n",
    "        {PC ∧ p < N}\n",
    "        ⟨await p = c⟩\n",
    "        {PC ∧ p < N ∧ p = c} \n",
    "        buf := a(p)\n",
    "        {PC ∧ p < N ∧ p = c ∧ buf = a(p)}\n",
    "        p := p + 1\n",
    "        {PC ∧ PI}\n",
    "```\n",
    "</div>\n",
    "<div style=\"float:left;border-left:6em solid white\">\n",
    "\n",
    "```algorithm\n",
    "process consumer\n",
    "    var b: 0 .. N – 1 → T\n",
    "    {PC ∧ CI} \n",
    "    while c < N do\n",
    "        {PC ∧ CI ∧ c < N}\n",
    "        ⟨await p > c⟩\n",
    "        {PC ∧ CI ∧ c < N ∧ p > c} \n",
    "        b(c) := buf\n",
    "        {PC ∧ CI ∧ c < N ∧ p > c ∧ b(c) = a(c)} \n",
    "        c := c + 1\n",
    "        {PC ∧ CI}\n",
    "```\n",
    "</div>"
   ]
  },
  {
   "cell_type": "markdown",
   "metadata": {
    "slideshow": {
     "slide_type": "slide"
    }
   },
   "source": [
    "Each of the black solid transitions has to be correct in isolation. The producer invariant `PI` does not contain variables that are modified by `Consumer` and likewise the consumer invariant `CI` does not contain variables that are modified by `Producer`, so these are always preserved by transitions of the other process. The conditions for `Consumer` are\n",
    "\n",
    "1. ```algorithm\n",
    "{PC ∧ CI ∧ c < N ∧ p > c} \n",
    "b(c) := buf\n",
    "{PC ∧ CI ∧ c < N ∧ p > c ∧ b(c) = a(c)}\n",
    "```\n",
    "\n",
    "2. ```algorithm\n",
    "{PC ∧ CI ∧ c < N ∧ p > c ∧ b(c) = a(c)} \n",
    "c := c + 1\n",
    "{PC ∧ CI}\n",
    "```\n",
    "\n",
    "or equivalently:\n",
    "\n",
    "1. ```\n",
    "PC ∧ CI ∧ c < N ∧ p > c ⇒ (PC ∧ CI ∧ c < N ∧ p > c ∧ b(c) = a(c))[b := (b; c: buf)]\n",
    "```\n",
    "\n",
    "2. ```\n",
    "PC ∧ CI ∧ c < N ∧ p > c ∧ b(c) = a(c) ⇒ (PC ∧ CI)[c := c + 1]\n",
    "```"
   ]
  },
  {
   "cell_type": "markdown",
   "metadata": {
    "slideshow": {
     "slide_type": "slide"
    }
   },
   "source": [
    "The green dotted arrows indicate which transitions of `Consumer` may interfere with the states of `Producer`. There are six non-interference conditions to check for the transition with `b(c) := buf`; of those the three with dotted arrows going to \"empty\" states of `Producer` are identical, leaving four conditions:\n",
    "\n",
    "1. ```algorithm\n",
    "{PC ∧ PI ∧ CI ∧ c < N ∧ p > c}\n",
    "b(c) := buf\n",
    "{true}\n",
    "```\n",
    "2. ```algorithm\n",
    "{PC ∧ PI ∧ p < N ∧ CI ∧ c < N ∧ p > c}\n",
    "b(c) := buf\n",
    "{p < N}\n",
    "```\n",
    "3. ```algorithm\n",
    "{PC ∧ PI ∧ p < N ∧ p = c ∧ CI ∧ c < N ∧ p > c}\n",
    "b(c) := buf\n",
    "{p < N ∧ p = c}\n",
    "```\n",
    "4. ```algorithm\n",
    "{PC ∧ PI ∧ p < N ∧ p = c ∧ buf = a(p) ∧ CI ∧ c < N ∧ p > c}\n",
    "b(c) := buf\n",
    "{p < N ∧ p = c ∧ buf = a(p)}\n",
    "```\n",
    "\n",
    "These hold as `b(c) := buf` does not modify any of the variables in the states that need to be preserved."
   ]
  },
  {
   "cell_type": "markdown",
   "metadata": {
    "slideshow": {
     "slide_type": "slide"
    }
   },
   "source": [
    "Similarly, there are four distinct non-interference conditions for the transition with `c := c + 1`:\n",
    "\n",
    "1. ```algorithm\n",
    "{PC ∧ PI ∧ CI ∧ c < N ∧ p > c}\n",
    "c := c + 1\n",
    "{true}\n",
    "```\n",
    "2. ```algorithm\n",
    "{PC ∧ PI ∧ p < N ∧ CI ∧ c < N ∧ p > c }\n",
    "c := c + 1\n",
    "{p < N}\n",
    "```\n",
    "3. ```algorithm\n",
    "{PC ∧ PI ∧ p < N ∧ p = c ∧ CI ∧ c < N ∧ p > c }\n",
    "c := c + 1\n",
    "{p < N ∧ p = c}\n",
    "```\n",
    "4. ```algorithm\n",
    "{PC ∧ PI ∧ p < N ∧ p = c ∧ buf =a(p) ∧ CI ∧ c < N ∧ p > c }\n",
    "c := c + 1\n",
    "{p < N ∧ p = c ∧ buf =a(p)}\n",
    "```\n",
    "\n",
    "The first two hold as `c := c + 1` does not modify any of the variables in the states that need to be preserved. The last two hold as the precondition (antecedent) is `false`: `p = c` and `p > c` cannot hold at the same time.\n",
    "\n",
    "Formally, concurrent states `P` and `Q` _exclude each other_ if `¬(P ∧ Q)`. For example, states `p < N ∧ p = c` and `c < N ∧ p > c` exclude each other."
   ]
  },
  {
   "cell_type": "markdown",
   "metadata": {
    "slideshow": {
     "slide_type": "slide"
    }
   },
   "source": [
    "The producer-consumer processes do not interfere with each other. In general, interference can be avoided by\n",
    "- having _annotations only over local variables,_ i.e. not relying on any values of shared variables,\n",
    "- when shared variables are involved, making _annotations sufficiently weak,_ as in the example with `⟨x := x + 1⟩ ‖ ⟨x := x + 2⟩`,\n",
    "- _using atomic regions_ where needed; in the example with variables `a`, `b`, `t`, that could be `⟨while ¬t do t := true ; a := a + 1⟩`\n"
   ]
  },
  {
   "cell_type": "markdown",
   "metadata": {
    "slideshow": {
     "slide_type": "slide"
    }
   },
   "source": [
    "## Fairness"
   ]
  },
  {
   "cell_type": "markdown",
   "metadata": {
    "slideshow": {
     "slide_type": "-"
    }
   },
   "source": [
    "_Question:_ Does the following program terminate? What is the postcondition if it ever terminates? (Answer below)\n",
    "```algorithm\n",
    "n, t := 0, false\n",
    "(while ¬t do n := n + 1) ‖ t := true\n",
    "```"
   ]
  },
  {
   "cell_type": "markdown",
   "metadata": {
    "slideshow": {
     "slide_type": "fragment"
    },
    "solution": "hidden",
    "solution_first": true
   },
   "source": [
    "The _minimal progress assumption_ implies only that one process has to make progress, if possible at all. Under minimal progress, above program may not terminate. \n",
    "\n",
    "An _unfair_ scheduler may select one process and neglect others. We may require a scheduler to be _(weakly) fair:_\n",
    "- an unconditional atomic region is executed eventually;\n",
    "- a conditional atomic region whose guard is continuously true is executed eventually."
   ]
  },
  {
   "cell_type": "markdown",
   "metadata": {
    "jupyter": {
     "source_hidden": true
    },
    "slideshow": {
     "slide_type": "fragment"
    },
    "solution": "hidden",
    "tags": []
   },
   "source": [
    "*Answer:* Under fairness, above program does necessarily terminate; if it does, `n` will be at least `0`."
   ]
  },
  {
   "cell_type": "markdown",
   "metadata": {
    "slideshow": {
     "slide_type": "slide"
    },
    "solution": "hidden",
    "solution_first": true
   },
   "source": [
    "_Question:_ Does the following program terminate under a (weakly) fair scheduler?\n",
    "```algorithm\n",
    "t, u := false, true\n",
    "⟨await t then u := false⟩ ‖ while u do t := true ‖ while u do t := false\n",
    "```"
   ]
  },
  {
   "cell_type": "markdown",
   "metadata": {
    "jupyter": {
     "source_hidden": true
    },
    "slideshow": {
     "slide_type": "fragment"
    },
    "solution": "hidden",
    "tags": []
   },
   "source": [
    "*Answer:* Under (weak) fairness, it does not necessarily terminate."
   ]
  },
  {
   "cell_type": "markdown",
   "metadata": {
    "slideshow": {
     "slide_type": "fragment"
    }
   },
   "source": [
    "For termination, the scheduler would have to be _strongly fair:_ if the guard of a conditional atomic region is repeatedly (but not necessarily continuously) true, it is taken.\n",
    "\n",
    "Typically, schedulers of operating systems and programming languages are weakly fair. Strong fairness is more difficult to implement."
   ]
  },
  {
   "cell_type": "markdown",
   "metadata": {
    "slideshow": {
     "slide_type": "slide"
    }
   },
   "source": [
    "## Safety and Liveness"
   ]
  },
  {
   "cell_type": "markdown",
   "metadata": {
    "slideshow": {
     "slide_type": "-"
    }
   },
   "source": [
    "Every _functional property_ of a (sequential or concurrent) program can be formulated as either a safety or a liveness property.\n",
    "\n",
    ">_Safety:_ nothing bad will ever happen; all states of all traces are \"not bad\". Safety is expressed by invariance properties.\n",
    "\n",
    ">_Liveness:_ something good will eventually happen; all traces will eventually lead to a \"good\" state.\n",
    "\n",
    "_Termination_ is a liveness property: a final state will eventually be reached.\n",
    "\n",
    "Formally, safety properties are properties of individual states of traces (or finite sequences of states), and liveness properties are properties of infinite traces."
   ]
  },
  {
   "cell_type": "markdown",
   "metadata": {
    "slideshow": {
     "slide_type": "-"
    },
    "solution": "hidden",
    "solution_first": true
   },
   "source": [
    "_Question:_ What are the safety and liveness properties of a traffic intersection?"
   ]
  },
  {
   "cell_type": "markdown",
   "metadata": {
    "slideshow": {
     "slide_type": "fragment"
    },
    "solution": "hidden"
   },
   "source": [
    "*Answer:*\n",
    "* Safety: at most one light is green at a time.\n",
    "* Liveness: the lights will eventually be green.   "
   ]
  },
  {
   "cell_type": "markdown",
   "metadata": {
    "slideshow": {
     "slide_type": "slide"
    },
    "solution": "hidden",
    "solution_first": true
   },
   "source": [
    "_Question:_ What is the outcome of `P ‖ Q`? Do `P` and `Q` interfere with each other with the given annotation?\n",
    "\n",
    "<div style=\"float:left;border-left:2em solid white\">\n",
    "\n",
    "```algorithm\n",
    "procedure P\n",
    "    {true}\n",
    "    while n > 0 do n := n – 1\n",
    "    a := 1\n",
    "    {a = 1}\n",
    "```\n",
    "</div>\n",
    "<div style=\"float:left;border-left:6em solid white\">\n",
    "\n",
    "```algorithm\n",
    "procedure Q\n",
    "    {true}\n",
    "    while n < 5 do n := n + 1\n",
    "    b := 1\n",
    "    {b = 1}\n",
    "```\n",
    "</div>"
   ]
  },
  {
   "cell_type": "markdown",
   "metadata": {
    "jupyter": {
     "source_hidden": true
    },
    "slideshow": {
     "slide_type": "fragment"
    },
    "solution": "hidden",
    "tags": []
   },
   "source": [
    "*Answer:* The parallel composition `P ‖ Q` does not always terminate, but if it does, it establishes both postconditions; `P` and `Q` do not interfere with each other. "
   ]
  },
  {
   "cell_type": "markdown",
   "metadata": {
    "slideshow": {
     "slide_type": "fragment"
    }
   },
   "source": [
    "Without interference, safety properties are preserved in a parallel composition, but liveness, including termination not!\n",
    "\n",
    "This is an example why concurrent programming is hard: testing `P` and `Q` separately can never find the problem; when testing `P ‖ Q`, the problem may not always appear."
   ]
  },
  {
   "cell_type": "markdown",
   "metadata": {
    "slideshow": {
     "slide_type": "slide"
    },
    "tags": []
   },
   "source": [
    "## Critical Section"
   ]
  },
  {
   "cell_type": "markdown",
   "metadata": {
    "slideshow": {
     "slide_type": "-"
    },
    "tags": []
   },
   "source": [
    "Mutual exclusion is typically implemented by locks that protect _critical sections_.\n",
    "\n",
    "```algorithm\n",
    "process CSi\n",
    "    while true do\n",
    "        entry protocol\n",
    "        critical section\n",
    "        exit protocol\n",
    "        noncritical section\n",
    "```\n",
    "\n",
    "Any solution has to satisfy three safety properties and one liveness property:\n",
    "1. _Mutual exclusion:_ at most one process can be in its critical section\n",
    "2. _No deadlock (livelock):_ if two or more are trying to enter and no other process is in its critical section, one will.\n",
    "3. _No unnecessary delay:_ if one is trying to enter and no other process is in its critical section, it is not prevented.\n",
    "4. _Eventual entry:_ a process trying to enter will eventually succeed."
   ]
  },
  {
   "cell_type": "markdown",
   "metadata": {
    "slideshow": {
     "slide_type": "slide"
    },
    "solution": "hidden",
    "solution_first": true
   },
   "source": [
    "_Question:_ What are these properties at a traffic intersection? You may consider 4-way stops and traffic lights."
   ]
  },
  {
   "cell_type": "markdown",
   "metadata": {
    "slideshow": {
     "slide_type": "fragment"
    },
    "solution": "hidden"
   },
   "source": [
    "_Answer:_\n",
    "1. _Mutual exclusion:_ at most one car enters the intersection\n",
    "2. _No deadlock:_ if four cars arrive at a 4-way stop at the same time, they will not all wait, but one will enter <br>\n",
    "_No livelock:_ if four cars arrive at a 4-way stop at the same time (they realize the deadlock happen) and all drivers gesture to the car on the right that they may proceed, they will not keep doing that forever but one will enter\n",
    "3. _No unnecessary delay:_ if a car arrives at a traffic light and there are no other cars, the traffic light will eventually turn green\n",
    "4. _Eventual entry:_ all cars arriving at an intersection will eventually be able to enter it"
   ]
  },
  {
   "cell_type": "markdown",
   "metadata": {
    "slideshow": {
     "slide_type": "slide"
    }
   },
   "source": [
    "Here is an _abstract_ solution, i.e. with \"coarse-grained\" atomic regions; `CS` is the critical section invariant:\n",
    "\n",
    "```algorithm\n",
    "in1, in2 := false, false\n",
    "{CS: ¬(in1 ∧ in2)}\n",
    "```\n",
    "<div style=\"float:left;border-left:2em solid white\">\n",
    "\n",
    "```algorithm\n",
    "process CS1\n",
    "    while true do\n",
    "        ⟨await ¬in2 then in1 := true⟩\n",
    "        critical section\n",
    "        in1 := false\n",
    "        noncritical section\n",
    "```\n",
    "</div>\n",
    "<div style=\"float:left;border-left:6em solid white\">\n",
    "\n",
    "```algorithm\n",
    "process CS2\n",
    "    while true do\n",
    "        ⟨await ¬in1 then in2 := true⟩\n",
    "        critical section\n",
    "        in2 := false\n",
    "        noncritical section\n",
    "```\n",
    "</div>"
   ]
  },
  {
   "cell_type": "markdown",
   "metadata": {
    "slideshow": {
     "slide_type": "-"
    },
    "solution": "hidden",
    "solution_first": true
   },
   "source": [
    "_Question:_ Do the four properties, mutual exclusion, no deadlock (livelock), no unnecessary delay, eventual entry hold?"
   ]
  },
  {
   "cell_type": "markdown",
   "metadata": {
    "jupyter": {
     "source_hidden": true
    },
    "slideshow": {
     "slide_type": "fragment"
    },
    "solution": "hidden",
    "tags": []
   },
   "source": [
    "_Answer:_ Yes, yes, yes, no.     \n",
    "With the minimal progress assumption, it is possible that the process `CS1` always run when the guard `¬in2` is `true` but the process `CS2`has no chance to run."
   ]
  },
  {
   "cell_type": "markdown",
   "metadata": {
    "slideshow": {
     "slide_type": "skip"
    }
   },
   "source": [
    "_Exercise:_ Give the annotation that is required for the `CS` invariant in a state diagram! Check both the correctness of transitions as well as non-interference."
   ]
  },
  {
   "cell_type": "markdown",
   "metadata": {
    "slideshow": {
     "slide_type": "slide"
    }
   },
   "source": [
    "The solution can be easily generalized to more processes by observing that only one of `in1`, `in2`, `...` can be true, and hence these can be replaced by a single variable `lock`. The relationship is `lock = in1 ∨ in2 ∨ ...`:\n",
    "\n",
    "```algorithm\n",
    "lock := false\n",
    "```\n",
    "<div style=\"float:left;border-left:2em solid white\">\n",
    "\n",
    "```algorithm\n",
    "process CS1\n",
    "    while true do\n",
    "        ⟨await ¬lock then lock := true⟩\n",
    "        critical section\n",
    "        lock := false\n",
    "        noncritical section\n",
    "```\n",
    "</div>\n",
    "<div style=\"float:left;border-left:6em solid white\">\n",
    "\n",
    "```algorithm\n",
    "process CS2\n",
    "    while true do\n",
    "        ⟨await ¬lock then lock := true⟩\n",
    "        critical section\n",
    "        lock := false\n",
    "        noncritical section\n",
    "```\n",
    "</div>"
   ]
  },
  {
   "cell_type": "markdown",
   "metadata": {
    "slideshow": {
     "slide_type": "slide"
    }
   },
   "source": [
    "For implementation, programming languages do not have `await` and atomicity statements. All processors have an atomic _test-and-set instruction_ or an equivalent instruction:\n",
    "\n",
    "```algorithm\n",
    "procedure TAS(lock: pointer to boolean) → (init: boolean)\n",
    "    ⟨init := *lock ; *lock := true⟩\n",
    "```\n",
    "\n",
    "Here, `*lock` refers to the variable pointed to by `lock`; procedure `TAS` returns a boolean result `init` (in a processor, `lock` and `init` would be registers).\n",
    "\n",
    "By employing a _spin lock,_ eventual entry (property 4) is \"more likely\":\n",
    "\n",
    "```algorithm\n",
    "process CS1\n",
    "    while true do\n",
    "        repeat init ← TAS(lock) until ¬init\n",
    "        critical section\n",
    "        lock := false\n",
    "        noncritical section\n",
    "```\n",
    "The loop `repeat S until B` is formally equivalent to `S ; while ¬B do S`."
   ]
  },
  {
   "cell_type": "markdown",
   "metadata": {
    "slideshow": {
     "slide_type": "slide"
    }
   },
   "source": [
    "The atomic region `⟨S⟩` can be implemented by\n",
    "```algorithm\n",
    "CSenter\n",
    "S\n",
    "CSexit\n",
    "```\n",
    "provided that access to all variables of `S` are protected with the same lock; atomic regions accessing disjoint variables can proceed in parallel.\n",
    "\n",
    "The guarded atomic region `⟨await B then S⟩` can be implemented by\n",
    "```algorithm\n",
    "CSenter\n",
    "while ¬B do CSexit ; CSenter\n",
    "S\n",
    "CSexit\n",
    "```\n",
    "provided that access to all variables of `B` and `S` are protected with the same lock.\n",
    "\n",
    "This involves spinning and may lead to _memory contention_ when accessing the variables of `B`. To reduce this, it is preferable to insert a _delay:_\n",
    "```algorithm\n",
    "CSenter\n",
    "while ¬B do CSexit ; delay ; CSenter\n",
    "S\n",
    "CSexit\n",
    "```\n",
    "A delay can be randomly chosen from an interval that is doubled each time, known as the _exponential back-off protocol._"
   ]
  },
  {
   "cell_type": "markdown",
   "metadata": {
    "slideshow": {
     "slide_type": "slide"
    }
   },
   "source": [
    "The _Tie-Breaker Algorithm_ _(Peterson's Algorithm)_ obtains a fair solution to the critical sections problem by recording which process had the last turn; `in1`, `in2` now mean that `CS1`, `CS2` want to enter their critical section:\n",
    "\n",
    "```algorithm\n",
    "in1, in2, last := false, false, 1\n",
    "```\n",
    "<div style=\"float:left;border-left:2em solid white\">\n",
    "\n",
    "```algorithm\n",
    "process CS1\n",
    "    while true do\n",
    "        last := 1 ; in1 := true\n",
    "        ⟨await ¬in2 or last = 2⟩\n",
    "        {in1 ∧ (¬in2 ∨ last = 2)}\n",
    "        critical section\n",
    "        in1 := false\n",
    "        noncritical section\n",
    "```\n",
    "</div>\n",
    "<div style=\"float:left;border-left:6em solid white\">\n",
    "\n",
    "```algorithm\n",
    "process CS2\n",
    "    while true do\n",
    "        last := 2 ; in2 := true\n",
    "        ⟨await ¬in1 or last = 1⟩\n",
    "        {in2 ∧ (¬in1 ∨ last = 1)}\n",
    "        critical section\n",
    "        in2 := false\n",
    "        noncritical section\n",
    "```\n",
    "</div>"
   ]
  },
  {
   "cell_type": "markdown",
   "metadata": {
    "slideshow": {
     "slide_type": "slide"
    }
   },
   "source": [
    "The drawback of the tie-breaker algorithm is that it is difficult to generalize to more than two processes. The idea of the _ticket algorithm_ is that each process first gets a ticket with the number in the queue. Assume `turn: 0 .. N - 1 → integer`:\n",
    "\n",
    "```algorithm\n",
    "number, next, turn := 1, 1, [0, ..., 0]\n",
    "{next > 0 ∧\n",
    "    ∀ i ∈ 0 .. N - 1 • (CS(i) in critical section ⇒ turn(i) = next)   ∧\n",
    "    (  turn(i) > 0 ⇒ (∀ j ∈ 0 .. N - 1 • j ≠ i ⇒ turn(i) ≠ turn(j))  ) }\n",
    "process CS(i: 0 .. N - 1)\n",
    "    while true do\n",
    "        ⟨turn(i) := number ; number := number + 1⟩\n",
    "        ⟨await turn(i) = next⟩\n",
    "        critical section\n",
    "        ⟨next := next + 1⟩\n",
    "        noncritical section\n",
    "```\n",
    "The parameter of `CS` is a notation for _process replication:_ `N` copies of `CS` are started, each with a different value of `i`."
   ]
  },
  {
   "cell_type": "markdown",
   "metadata": {
    "slideshow": {
     "slide_type": "slide"
    }
   },
   "source": [
    "The ticket algorithm requires fetching and incrementing an integer as one atomic operation. Some processors have a _fetch-and-add instruction_ specifically for this purpose.\n",
    "- The [x86 processor](http://x86.renejeschke.de/html/file_module_x86_id_327.html) has an XADD instruction that can be used with the LOCK prefix to achieve atomicity,\n",
    "```algorithm\n",
    "LOCK XADD dst, src   =   ⟨dst, src := dst + src, dst⟩\n",
    "```\n",
    "where `dst` is a register or memory location and `src` is a register. \n",
    "\n",
    "- The [ARM v7 processor](http://infocenter.arm.com/help/topic/com.arm.doc.dht0008a/DHT0008A_arm_synchronization_primitives.pdf) splits atomic updates into two instructions, _load-exclusive_ and _store-exclusive,_ with the hardware monitoring what happens in between,\n",
    "```algorithm\n",
    "LDREX dst, [src]      =   ⟨dst := Memory[src]⟩\n",
    "STREX R, src, [dst]   =   ⟨Memory[dst], R := src, 0 ⫿ R := 1⟩\n",
    "```\n",
    "were `dst`, `src`, `R` are registers and `⫿` is nondeterministic choice: if the memory location was modified in the meantime, `R` is set to `1`, otherwise to `0`. An increment of `Memory[ptr]` is performed in a loop:\n",
    "```algorithm\n",
    "L:  LDREX R1, [ptr]          ; load exclusive and monitor Memory[ptr] to R1\n",
    "      ADD R1, R1, 1          ; add 1 to R1\n",
    "      STREX R2, R1, [ptr]    ; attempt to store R1 to Memory[ptr] and R2 is set to 1 if Memory[ptr] was not modified in the meantime\n",
    "      CMPNE R2, #1           ; check if store-exclusive failed\n",
    "      BEQ L                  ; failed, retry by jumping back to L \n",
    "```\n",
    "- The [gcc compiler](https://gcc.gnu.org/onlinedocs/gcc/_005f_005fatomic-Builtins.html) has built-in functions for atomic operations that are compiled to whatever the hardware supports:\n",
    "```algorithm\n",
    "type __atomic_add_fetch (type *ptr, type val, int memorder)\n",
    "```\n",
    "where `type` must be 1, 2, 4, or 8 bytes in length."
   ]
  },
  {
   "cell_type": "markdown",
   "metadata": {
    "slideshow": {
     "slide_type": "-"
    },
    "solution": "hidden",
    "solution_first": true
   },
   "source": [
    "_Question:_ Does the ARM code guarantee fairness among processes trying to increment `Memory[ptr]`?"
   ]
  },
  {
   "cell_type": "markdown",
   "metadata": {
    "jupyter": {
     "source_hidden": true
    },
    "slideshow": {
     "slide_type": "fragment"
    },
    "solution": "hidden",
    "tags": []
   },
   "source": [
    "_Answer:_ No, it is not fair, but the chances of one process starving are negligible.\n",
    "It has a chance that one process is continuously selected and the other processes are starving, but the probability is negligible.\n",
    "<!--\n",
    "x86, reduced instruction set computer RISC \n",
    "ARM, Complex Instruction Set Computer CISC\n",
    "-->"
   ]
  },
  {
   "cell_type": "markdown",
   "metadata": {
    "slideshow": {
     "slide_type": "slide"
    }
   },
   "source": [
    "If a special instruction is not available, then an implementation of\n",
    "```algorithm\n",
    "⟨turn(i) := number ; number := number + 1⟩\n",
    "```\n",
    "would be\n",
    "```algorithm\n",
    "CSenter\n",
    "turn(i) := number ; number := number + 1\n",
    "CSexit\n",
    "```\n",
    "where `CSenter` and `CSexit` use a lock for variable `number`. Although the contention for accessing `number` may not be resolved in a fair way, it turns out that this implementation works sufficiently well in practice."
   ]
  },
  {
   "cell_type": "markdown",
   "metadata": {
    "slideshow": {
     "slide_type": "slide"
    }
   },
   "source": [
    "The ticket algorithm leads to _memory contention_ if many processors are trying to access `number`. The _bakery algorithm_ does not rely on a single global counter and does not need a special fetch-and-add instruction. Assuming `turn: 0 .. N - 1 → integer`, a coarse-grained solution is:\n",
    "```algorithm\n",
    "turn := [0, ..., 0]\n",
    "process CS(i: 0 .. N - 1)\n",
    "    while true do\n",
    "        ⟨turn(i) := max(turn) + 1⟩\n",
    "        for j = 0 to N - 1 do\n",
    "            if i ≠ j then ⟨await turn(j) = 0 or turn(i) < turn(j)⟩\n",
    "        critical section\n",
    "        turn(i) := 0\n",
    "        noncritical section\n",
    "```\n",
    "Operation `max(turn)` returns the maximum value in array `turn`."
   ]
  },
  {
   "cell_type": "markdown",
   "metadata": {
    "slideshow": {
     "slide_type": "slide"
    }
   },
   "source": [
    "The `max` operation would need to be implemented by a loop, making entry inefficient. If we were to implement\n",
    "```algorithm\n",
    "turn(i) := max(turn) + 1\n",
    "```\n",
    "non-atomically, two processes, say `i` and `j`, may obtain the same value for `turn(i)` and `turn(j)`, leading to a deadlock in the `await` statement.\n",
    "\n",
    "This situation can be avoided by giving preference to one of the two or more processes with the same value of turn in some arbitrary way, for example by using the process number. The conditions of the await do not need to be evaluated atomically. Thus we can arrive at a solution that only relies on assignments being atomic:\n",
    "\n",
    "```algorithm\n",
    "turn:= [0, ..., 0]\n",
    "process CS(i: 0 .. N - 1)\n",
    "    while true do\n",
    "        turn(i) := max(turn) + 1\n",
    "        for j = 0 to N - 1 do\n",
    "            while turn(j) ≠ 0 and (  turn(i) > turn(j)  or  (turn(i) = turn(j) and i > j)  ) do\n",
    "                skip\n",
    "        critical section\n",
    "        turn(i) := 0\n",
    "        noncritical section\n",
    "```"
   ]
  },
  {
   "cell_type": "markdown",
   "metadata": {
    "slideshow": {
     "slide_type": "-"
    },
    "solution": "hidden",
    "solution_first": true
   },
   "source": [
    "_Question:_ Does this guarantee fairness among processes trying to enter their critical section?"
   ]
  },
  {
   "cell_type": "markdown",
   "metadata": {
    "jupyter": {
     "source_hidden": true
    },
    "slideshow": {
     "slide_type": "fragment"
    },
    "solution": "hidden",
    "tags": []
   },
   "source": [
    "_Answer:_ Yes, although processes with a lower process number may have an advantage."
   ]
  }
 ],
 "metadata": {
  "celltoolbar": "Slideshow",
  "kernelspec": {
   "display_name": "Python 3 (ipykernel)",
   "language": "python",
   "name": "python3"
  },
  "language_info": {
   "codemirror_mode": {
    "name": "ipython",
    "version": 3
   },
   "file_extension": ".py",
   "mimetype": "text/x-python",
   "name": "python",
   "nbconvert_exporter": "python",
   "pygments_lexer": "ipython3",
   "version": "3.8.8"
  },
  "livereveal": {
   "history": true,
   "margin": "0.01",
   "progress": true,
   "scroll": true,
   "start_slideshow_at": "selected"
  },
  "rise": {
   "enable_chalkboard": true
  },
  "toc": {
   "base_numbering": 1,
   "nav_menu": {},
   "number_sections": false,
   "sideBar": false,
   "skip_h1_title": true,
   "title_cell": "Table of Contents",
   "title_sidebar": "Contents",
   "toc_cell": false,
   "toc_position": {},
   "toc_section_display": true,
   "toc_window_display": false
  }
 },
 "nbformat": 4,
 "nbformat_minor": 4
}
